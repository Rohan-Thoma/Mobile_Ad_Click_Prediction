{
 "cells": [
  {
   "cell_type": "markdown",
   "metadata": {},
   "source": [
    "# Modelling on the Ad click data"
   ]
  },
  {
   "cell_type": "markdown",
   "metadata": {},
   "source": [
    "## 1. Loading the saved data"
   ]
  },
  {
   "cell_type": "code",
   "execution_count": 1,
   "metadata": {},
   "outputs": [
    {
     "data": {
      "text/html": [
       "<div>\n",
       "<style scoped>\n",
       "    .dataframe tbody tr th:only-of-type {\n",
       "        vertical-align: middle;\n",
       "    }\n",
       "\n",
       "    .dataframe tbody tr th {\n",
       "        vertical-align: top;\n",
       "    }\n",
       "\n",
       "    .dataframe thead th {\n",
       "        text-align: right;\n",
       "    }\n",
       "</style>\n",
       "<table border=\"1\" class=\"dataframe\">\n",
       "  <thead>\n",
       "    <tr style=\"text-align: right;\">\n",
       "      <th></th>\n",
       "      <th>id</th>\n",
       "      <th>click</th>\n",
       "      <th>hour</th>\n",
       "      <th>C1</th>\n",
       "      <th>banner_pos</th>\n",
       "      <th>site_id</th>\n",
       "      <th>site_domain</th>\n",
       "      <th>site_category</th>\n",
       "      <th>app_id</th>\n",
       "      <th>app_domain</th>\n",
       "      <th>...</th>\n",
       "      <th>C17</th>\n",
       "      <th>C18</th>\n",
       "      <th>C19</th>\n",
       "      <th>C20</th>\n",
       "      <th>C21</th>\n",
       "      <th>device_ip_counts</th>\n",
       "      <th>device_id_counts</th>\n",
       "      <th>hour_of_day</th>\n",
       "      <th>day_of_week</th>\n",
       "      <th>hourly_user_count</th>\n",
       "    </tr>\n",
       "  </thead>\n",
       "  <tbody>\n",
       "    <tr>\n",
       "      <th>0</th>\n",
       "      <td>10000679056417042096</td>\n",
       "      <td>0</td>\n",
       "      <td>2014-10-21</td>\n",
       "      <td>1005</td>\n",
       "      <td>1</td>\n",
       "      <td>fe8cc448</td>\n",
       "      <td>9166c161</td>\n",
       "      <td>0569f928</td>\n",
       "      <td>ecad2386</td>\n",
       "      <td>7801e8d9</td>\n",
       "      <td>...</td>\n",
       "      <td>2161</td>\n",
       "      <td>0</td>\n",
       "      <td>35</td>\n",
       "      <td>-1</td>\n",
       "      <td>157</td>\n",
       "      <td>6</td>\n",
       "      <td>4125387</td>\n",
       "      <td>0</td>\n",
       "      <td>Tuesday</td>\n",
       "      <td>104444</td>\n",
       "    </tr>\n",
       "    <tr>\n",
       "      <th>1</th>\n",
       "      <td>10002028568167339219</td>\n",
       "      <td>0</td>\n",
       "      <td>2014-10-21</td>\n",
       "      <td>1005</td>\n",
       "      <td>0</td>\n",
       "      <td>9e8cf15d</td>\n",
       "      <td>0d3cb7be</td>\n",
       "      <td>f028772b</td>\n",
       "      <td>ecad2386</td>\n",
       "      <td>7801e8d9</td>\n",
       "      <td>...</td>\n",
       "      <td>2161</td>\n",
       "      <td>0</td>\n",
       "      <td>35</td>\n",
       "      <td>100148</td>\n",
       "      <td>157</td>\n",
       "      <td>1</td>\n",
       "      <td>4125387</td>\n",
       "      <td>0</td>\n",
       "      <td>Tuesday</td>\n",
       "      <td>104444</td>\n",
       "    </tr>\n",
       "    <tr>\n",
       "      <th>2</th>\n",
       "      <td>10004765361151096125</td>\n",
       "      <td>1</td>\n",
       "      <td>2014-10-21</td>\n",
       "      <td>1005</td>\n",
       "      <td>0</td>\n",
       "      <td>1fbe01fe</td>\n",
       "      <td>f3845767</td>\n",
       "      <td>28905ebd</td>\n",
       "      <td>ecad2386</td>\n",
       "      <td>7801e8d9</td>\n",
       "      <td>...</td>\n",
       "      <td>1722</td>\n",
       "      <td>0</td>\n",
       "      <td>35</td>\n",
       "      <td>-1</td>\n",
       "      <td>79</td>\n",
       "      <td>8734</td>\n",
       "      <td>4125387</td>\n",
       "      <td>0</td>\n",
       "      <td>Tuesday</td>\n",
       "      <td>104444</td>\n",
       "    </tr>\n",
       "    <tr>\n",
       "      <th>3</th>\n",
       "      <td>10005609489911213467</td>\n",
       "      <td>1</td>\n",
       "      <td>2014-10-21</td>\n",
       "      <td>1005</td>\n",
       "      <td>0</td>\n",
       "      <td>85f751fd</td>\n",
       "      <td>c4e18dd6</td>\n",
       "      <td>50e219e0</td>\n",
       "      <td>54c5d545</td>\n",
       "      <td>2347f47a</td>\n",
       "      <td>...</td>\n",
       "      <td>2480</td>\n",
       "      <td>3</td>\n",
       "      <td>297</td>\n",
       "      <td>100111</td>\n",
       "      <td>61</td>\n",
       "      <td>1</td>\n",
       "      <td>173</td>\n",
       "      <td>0</td>\n",
       "      <td>Tuesday</td>\n",
       "      <td>104444</td>\n",
       "    </tr>\n",
       "    <tr>\n",
       "      <th>4</th>\n",
       "      <td>10006958186789044052</td>\n",
       "      <td>1</td>\n",
       "      <td>2014-10-21</td>\n",
       "      <td>1005</td>\n",
       "      <td>0</td>\n",
       "      <td>85f751fd</td>\n",
       "      <td>c4e18dd6</td>\n",
       "      <td>50e219e0</td>\n",
       "      <td>0acbeaa3</td>\n",
       "      <td>45a51db4</td>\n",
       "      <td>...</td>\n",
       "      <td>2161</td>\n",
       "      <td>0</td>\n",
       "      <td>35</td>\n",
       "      <td>100034</td>\n",
       "      <td>157</td>\n",
       "      <td>1</td>\n",
       "      <td>4125387</td>\n",
       "      <td>0</td>\n",
       "      <td>Tuesday</td>\n",
       "      <td>104444</td>\n",
       "    </tr>\n",
       "  </tbody>\n",
       "</table>\n",
       "<p>5 rows × 29 columns</p>\n",
       "</div>"
      ],
      "text/plain": [
       "                     id  click        hour    C1  banner_pos   site_id  \\\n",
       "0  10000679056417042096      0  2014-10-21  1005           1  fe8cc448   \n",
       "1  10002028568167339219      0  2014-10-21  1005           0  9e8cf15d   \n",
       "2  10004765361151096125      1  2014-10-21  1005           0  1fbe01fe   \n",
       "3  10005609489911213467      1  2014-10-21  1005           0  85f751fd   \n",
       "4  10006958186789044052      1  2014-10-21  1005           0  85f751fd   \n",
       "\n",
       "  site_domain site_category    app_id app_domain  ...   C17 C18  C19     C20  \\\n",
       "0    9166c161      0569f928  ecad2386   7801e8d9  ...  2161   0   35      -1   \n",
       "1    0d3cb7be      f028772b  ecad2386   7801e8d9  ...  2161   0   35  100148   \n",
       "2    f3845767      28905ebd  ecad2386   7801e8d9  ...  1722   0   35      -1   \n",
       "3    c4e18dd6      50e219e0  54c5d545   2347f47a  ...  2480   3  297  100111   \n",
       "4    c4e18dd6      50e219e0  0acbeaa3   45a51db4  ...  2161   0   35  100034   \n",
       "\n",
       "   C21  device_ip_counts  device_id_counts  hour_of_day  day_of_week  \\\n",
       "0  157                 6           4125387            0      Tuesday   \n",
       "1  157                 1           4125387            0      Tuesday   \n",
       "2   79              8734           4125387            0      Tuesday   \n",
       "3   61                 1               173            0      Tuesday   \n",
       "4  157                 1           4125387            0      Tuesday   \n",
       "\n",
       "   hourly_user_count  \n",
       "0             104444  \n",
       "1             104444  \n",
       "2             104444  \n",
       "3             104444  \n",
       "4             104444  \n",
       "\n",
       "[5 rows x 29 columns]"
      ]
     },
     "execution_count": 1,
     "metadata": {},
     "output_type": "execute_result"
    }
   ],
   "source": [
    "#load the data from the csv file that we have saved.\n",
    "import pandas as pd\n",
    "\n",
    "data=pd.read_csv('train_data.csv')\n",
    "data.head()"
   ]
  },
  {
   "cell_type": "markdown",
   "metadata": {},
   "source": [
    "### 1.1 Split the data into train and test data"
   ]
  },
  {
   "cell_type": "markdown",
   "metadata": {},
   "source": [
    "* Here as we have the time stamps for the data we can perform time based splitting of the data.\n",
    "* So let us have a look at how the data is given to us"
   ]
  },
  {
   "cell_type": "code",
   "execution_count": 2,
   "metadata": {},
   "outputs": [
    {
     "data": {
      "text/plain": [
       "0                   2014-10-21\n",
       "1                   2014-10-21\n",
       "2                   2014-10-21\n",
       "3                   2014-10-21\n",
       "4                   2014-10-21\n",
       "                  ...         \n",
       "4999995    2014-10-30 23:00:00\n",
       "4999996    2014-10-30 23:00:00\n",
       "4999997    2014-10-30 23:00:00\n",
       "4999998    2014-10-30 23:00:00\n",
       "4999999    2014-10-30 23:00:00\n",
       "Name: hour, Length: 5000000, dtype: object"
      ]
     },
     "execution_count": 2,
     "metadata": {},
     "output_type": "execute_result"
    }
   ],
   "source": [
    "data['hour']"
   ]
  },
  {
   "cell_type": "markdown",
   "metadata": {},
   "source": [
    "Here we can see that the data is already arranged according to the time stamps , so we can directly perform the train and test split."
   ]
  },
  {
   "cell_type": "code",
   "execution_count": 18,
   "metadata": {},
   "outputs": [
    {
     "data": {
      "text/html": [
       "<div>\n",
       "<style scoped>\n",
       "    .dataframe tbody tr th:only-of-type {\n",
       "        vertical-align: middle;\n",
       "    }\n",
       "\n",
       "    .dataframe tbody tr th {\n",
       "        vertical-align: top;\n",
       "    }\n",
       "\n",
       "    .dataframe thead th {\n",
       "        text-align: right;\n",
       "    }\n",
       "</style>\n",
       "<table border=\"1\" class=\"dataframe\">\n",
       "  <thead>\n",
       "    <tr style=\"text-align: right;\">\n",
       "      <th></th>\n",
       "      <th>id</th>\n",
       "      <th>click</th>\n",
       "      <th>hour</th>\n",
       "      <th>C1</th>\n",
       "      <th>banner_pos</th>\n",
       "      <th>site_id</th>\n",
       "      <th>site_domain</th>\n",
       "      <th>site_category</th>\n",
       "      <th>app_id</th>\n",
       "      <th>app_domain</th>\n",
       "      <th>...</th>\n",
       "      <th>C17</th>\n",
       "      <th>C18</th>\n",
       "      <th>C19</th>\n",
       "      <th>C20</th>\n",
       "      <th>C21</th>\n",
       "      <th>device_ip_counts</th>\n",
       "      <th>device_id_counts</th>\n",
       "      <th>hour_of_day</th>\n",
       "      <th>day_of_week</th>\n",
       "      <th>hourly_user_count</th>\n",
       "    </tr>\n",
       "  </thead>\n",
       "  <tbody>\n",
       "    <tr>\n",
       "      <th>0</th>\n",
       "      <td>10000679056417042096</td>\n",
       "      <td>0</td>\n",
       "      <td>2014-10-21</td>\n",
       "      <td>1005</td>\n",
       "      <td>1</td>\n",
       "      <td>fe8cc448</td>\n",
       "      <td>9166c161</td>\n",
       "      <td>0569f928</td>\n",
       "      <td>ecad2386</td>\n",
       "      <td>7801e8d9</td>\n",
       "      <td>...</td>\n",
       "      <td>2161</td>\n",
       "      <td>0</td>\n",
       "      <td>35</td>\n",
       "      <td>-1</td>\n",
       "      <td>157</td>\n",
       "      <td>6</td>\n",
       "      <td>4125387</td>\n",
       "      <td>0</td>\n",
       "      <td>Tuesday</td>\n",
       "      <td>104444</td>\n",
       "    </tr>\n",
       "    <tr>\n",
       "      <th>1</th>\n",
       "      <td>10002028568167339219</td>\n",
       "      <td>0</td>\n",
       "      <td>2014-10-21</td>\n",
       "      <td>1005</td>\n",
       "      <td>0</td>\n",
       "      <td>9e8cf15d</td>\n",
       "      <td>0d3cb7be</td>\n",
       "      <td>f028772b</td>\n",
       "      <td>ecad2386</td>\n",
       "      <td>7801e8d9</td>\n",
       "      <td>...</td>\n",
       "      <td>2161</td>\n",
       "      <td>0</td>\n",
       "      <td>35</td>\n",
       "      <td>100148</td>\n",
       "      <td>157</td>\n",
       "      <td>1</td>\n",
       "      <td>4125387</td>\n",
       "      <td>0</td>\n",
       "      <td>Tuesday</td>\n",
       "      <td>104444</td>\n",
       "    </tr>\n",
       "    <tr>\n",
       "      <th>2</th>\n",
       "      <td>10004765361151096125</td>\n",
       "      <td>1</td>\n",
       "      <td>2014-10-21</td>\n",
       "      <td>1005</td>\n",
       "      <td>0</td>\n",
       "      <td>1fbe01fe</td>\n",
       "      <td>f3845767</td>\n",
       "      <td>28905ebd</td>\n",
       "      <td>ecad2386</td>\n",
       "      <td>7801e8d9</td>\n",
       "      <td>...</td>\n",
       "      <td>1722</td>\n",
       "      <td>0</td>\n",
       "      <td>35</td>\n",
       "      <td>-1</td>\n",
       "      <td>79</td>\n",
       "      <td>8734</td>\n",
       "      <td>4125387</td>\n",
       "      <td>0</td>\n",
       "      <td>Tuesday</td>\n",
       "      <td>104444</td>\n",
       "    </tr>\n",
       "    <tr>\n",
       "      <th>3</th>\n",
       "      <td>10005609489911213467</td>\n",
       "      <td>1</td>\n",
       "      <td>2014-10-21</td>\n",
       "      <td>1005</td>\n",
       "      <td>0</td>\n",
       "      <td>85f751fd</td>\n",
       "      <td>c4e18dd6</td>\n",
       "      <td>50e219e0</td>\n",
       "      <td>54c5d545</td>\n",
       "      <td>2347f47a</td>\n",
       "      <td>...</td>\n",
       "      <td>2480</td>\n",
       "      <td>3</td>\n",
       "      <td>297</td>\n",
       "      <td>100111</td>\n",
       "      <td>61</td>\n",
       "      <td>1</td>\n",
       "      <td>173</td>\n",
       "      <td>0</td>\n",
       "      <td>Tuesday</td>\n",
       "      <td>104444</td>\n",
       "    </tr>\n",
       "    <tr>\n",
       "      <th>4</th>\n",
       "      <td>10006958186789044052</td>\n",
       "      <td>1</td>\n",
       "      <td>2014-10-21</td>\n",
       "      <td>1005</td>\n",
       "      <td>0</td>\n",
       "      <td>85f751fd</td>\n",
       "      <td>c4e18dd6</td>\n",
       "      <td>50e219e0</td>\n",
       "      <td>0acbeaa3</td>\n",
       "      <td>45a51db4</td>\n",
       "      <td>...</td>\n",
       "      <td>2161</td>\n",
       "      <td>0</td>\n",
       "      <td>35</td>\n",
       "      <td>100034</td>\n",
       "      <td>157</td>\n",
       "      <td>1</td>\n",
       "      <td>4125387</td>\n",
       "      <td>0</td>\n",
       "      <td>Tuesday</td>\n",
       "      <td>104444</td>\n",
       "    </tr>\n",
       "  </tbody>\n",
       "</table>\n",
       "<p>5 rows × 29 columns</p>\n",
       "</div>"
      ],
      "text/plain": [
       "                     id  click        hour    C1  banner_pos   site_id  \\\n",
       "0  10000679056417042096      0  2014-10-21  1005           1  fe8cc448   \n",
       "1  10002028568167339219      0  2014-10-21  1005           0  9e8cf15d   \n",
       "2  10004765361151096125      1  2014-10-21  1005           0  1fbe01fe   \n",
       "3  10005609489911213467      1  2014-10-21  1005           0  85f751fd   \n",
       "4  10006958186789044052      1  2014-10-21  1005           0  85f751fd   \n",
       "\n",
       "  site_domain site_category    app_id app_domain  ...   C17 C18  C19     C20  \\\n",
       "0    9166c161      0569f928  ecad2386   7801e8d9  ...  2161   0   35      -1   \n",
       "1    0d3cb7be      f028772b  ecad2386   7801e8d9  ...  2161   0   35  100148   \n",
       "2    f3845767      28905ebd  ecad2386   7801e8d9  ...  1722   0   35      -1   \n",
       "3    c4e18dd6      50e219e0  54c5d545   2347f47a  ...  2480   3  297  100111   \n",
       "4    c4e18dd6      50e219e0  0acbeaa3   45a51db4  ...  2161   0   35  100034   \n",
       "\n",
       "   C21  device_ip_counts  device_id_counts  hour_of_day  day_of_week  \\\n",
       "0  157                 6           4125387            0      Tuesday   \n",
       "1  157                 1           4125387            0      Tuesday   \n",
       "2   79              8734           4125387            0      Tuesday   \n",
       "3   61                 1               173            0      Tuesday   \n",
       "4  157                 1           4125387            0      Tuesday   \n",
       "\n",
       "   hourly_user_count  \n",
       "0             104444  \n",
       "1             104444  \n",
       "2             104444  \n",
       "3             104444  \n",
       "4             104444  \n",
       "\n",
       "[5 rows x 29 columns]"
      ]
     },
     "execution_count": 18,
     "metadata": {},
     "output_type": "execute_result"
    }
   ],
   "source": [
    "from sklearn.model_selection import train_test_split\n",
    "\n",
    "X_train, X_test =train_test_split(data,test_size=0.2, shuffle=False)\n",
    "X_train.head()\n"
   ]
  },
  {
   "cell_type": "code",
   "execution_count": 4,
   "metadata": {},
   "outputs": [
    {
     "data": {
      "text/html": [
       "<div>\n",
       "<style scoped>\n",
       "    .dataframe tbody tr th:only-of-type {\n",
       "        vertical-align: middle;\n",
       "    }\n",
       "\n",
       "    .dataframe tbody tr th {\n",
       "        vertical-align: top;\n",
       "    }\n",
       "\n",
       "    .dataframe thead th {\n",
       "        text-align: right;\n",
       "    }\n",
       "</style>\n",
       "<table border=\"1\" class=\"dataframe\">\n",
       "  <thead>\n",
       "    <tr style=\"text-align: right;\">\n",
       "      <th></th>\n",
       "      <th>click</th>\n",
       "      <th>C1</th>\n",
       "      <th>banner_pos</th>\n",
       "      <th>site_id</th>\n",
       "      <th>site_domain</th>\n",
       "      <th>site_category</th>\n",
       "      <th>app_id</th>\n",
       "      <th>app_domain</th>\n",
       "      <th>app_category</th>\n",
       "      <th>device_id</th>\n",
       "      <th>...</th>\n",
       "      <th>C17</th>\n",
       "      <th>C18</th>\n",
       "      <th>C19</th>\n",
       "      <th>C20</th>\n",
       "      <th>C21</th>\n",
       "      <th>device_ip_counts</th>\n",
       "      <th>device_id_counts</th>\n",
       "      <th>hour_of_day</th>\n",
       "      <th>day_of_week</th>\n",
       "      <th>hourly_user_count</th>\n",
       "    </tr>\n",
       "  </thead>\n",
       "  <tbody>\n",
       "    <tr>\n",
       "      <th>4000000</th>\n",
       "      <td>0</td>\n",
       "      <td>1005</td>\n",
       "      <td>1</td>\n",
       "      <td>cffc1324</td>\n",
       "      <td>bc63ea42</td>\n",
       "      <td>335d28a8</td>\n",
       "      <td>ecad2386</td>\n",
       "      <td>7801e8d9</td>\n",
       "      <td>07d7df22</td>\n",
       "      <td>a99f214a</td>\n",
       "      <td>...</td>\n",
       "      <td>1722</td>\n",
       "      <td>0</td>\n",
       "      <td>35</td>\n",
       "      <td>-1</td>\n",
       "      <td>79</td>\n",
       "      <td>1</td>\n",
       "      <td>4125387</td>\n",
       "      <td>23</td>\n",
       "      <td>Tuesday</td>\n",
       "      <td>100975</td>\n",
       "    </tr>\n",
       "    <tr>\n",
       "      <th>4000001</th>\n",
       "      <td>0</td>\n",
       "      <td>1005</td>\n",
       "      <td>0</td>\n",
       "      <td>1fbe01fe</td>\n",
       "      <td>f3845767</td>\n",
       "      <td>28905ebd</td>\n",
       "      <td>ecad2386</td>\n",
       "      <td>7801e8d9</td>\n",
       "      <td>07d7df22</td>\n",
       "      <td>a99f214a</td>\n",
       "      <td>...</td>\n",
       "      <td>2616</td>\n",
       "      <td>0</td>\n",
       "      <td>35</td>\n",
       "      <td>-1</td>\n",
       "      <td>51</td>\n",
       "      <td>403</td>\n",
       "      <td>4125387</td>\n",
       "      <td>23</td>\n",
       "      <td>Tuesday</td>\n",
       "      <td>100975</td>\n",
       "    </tr>\n",
       "    <tr>\n",
       "      <th>4000002</th>\n",
       "      <td>1</td>\n",
       "      <td>1005</td>\n",
       "      <td>0</td>\n",
       "      <td>e9ca7d40</td>\n",
       "      <td>98572c79</td>\n",
       "      <td>f028772b</td>\n",
       "      <td>ecad2386</td>\n",
       "      <td>7801e8d9</td>\n",
       "      <td>07d7df22</td>\n",
       "      <td>a99f214a</td>\n",
       "      <td>...</td>\n",
       "      <td>2682</td>\n",
       "      <td>1</td>\n",
       "      <td>419</td>\n",
       "      <td>100084</td>\n",
       "      <td>212</td>\n",
       "      <td>1</td>\n",
       "      <td>4125387</td>\n",
       "      <td>23</td>\n",
       "      <td>Tuesday</td>\n",
       "      <td>100975</td>\n",
       "    </tr>\n",
       "    <tr>\n",
       "      <th>4000003</th>\n",
       "      <td>0</td>\n",
       "      <td>1005</td>\n",
       "      <td>1</td>\n",
       "      <td>85f751fd</td>\n",
       "      <td>c4e18dd6</td>\n",
       "      <td>50e219e0</td>\n",
       "      <td>cf0327f9</td>\n",
       "      <td>2347f47a</td>\n",
       "      <td>0f2161f8</td>\n",
       "      <td>29d6ac92</td>\n",
       "      <td>...</td>\n",
       "      <td>2681</td>\n",
       "      <td>1</td>\n",
       "      <td>419</td>\n",
       "      <td>-1</td>\n",
       "      <td>212</td>\n",
       "      <td>13</td>\n",
       "      <td>6</td>\n",
       "      <td>23</td>\n",
       "      <td>Tuesday</td>\n",
       "      <td>100975</td>\n",
       "    </tr>\n",
       "    <tr>\n",
       "      <th>4000004</th>\n",
       "      <td>0</td>\n",
       "      <td>1005</td>\n",
       "      <td>0</td>\n",
       "      <td>1fbe01fe</td>\n",
       "      <td>f3845767</td>\n",
       "      <td>28905ebd</td>\n",
       "      <td>ecad2386</td>\n",
       "      <td>7801e8d9</td>\n",
       "      <td>07d7df22</td>\n",
       "      <td>a99f214a</td>\n",
       "      <td>...</td>\n",
       "      <td>2545</td>\n",
       "      <td>0</td>\n",
       "      <td>167</td>\n",
       "      <td>-1</td>\n",
       "      <td>221</td>\n",
       "      <td>8</td>\n",
       "      <td>4125387</td>\n",
       "      <td>23</td>\n",
       "      <td>Tuesday</td>\n",
       "      <td>100975</td>\n",
       "    </tr>\n",
       "  </tbody>\n",
       "</table>\n",
       "<p>5 rows × 27 columns</p>\n",
       "</div>"
      ],
      "text/plain": [
       "         click    C1  banner_pos   site_id site_domain site_category  \\\n",
       "4000000      0  1005           1  cffc1324    bc63ea42      335d28a8   \n",
       "4000001      0  1005           0  1fbe01fe    f3845767      28905ebd   \n",
       "4000002      1  1005           0  e9ca7d40    98572c79      f028772b   \n",
       "4000003      0  1005           1  85f751fd    c4e18dd6      50e219e0   \n",
       "4000004      0  1005           0  1fbe01fe    f3845767      28905ebd   \n",
       "\n",
       "           app_id app_domain app_category device_id  ...   C17 C18  C19  \\\n",
       "4000000  ecad2386   7801e8d9     07d7df22  a99f214a  ...  1722   0   35   \n",
       "4000001  ecad2386   7801e8d9     07d7df22  a99f214a  ...  2616   0   35   \n",
       "4000002  ecad2386   7801e8d9     07d7df22  a99f214a  ...  2682   1  419   \n",
       "4000003  cf0327f9   2347f47a     0f2161f8  29d6ac92  ...  2681   1  419   \n",
       "4000004  ecad2386   7801e8d9     07d7df22  a99f214a  ...  2545   0  167   \n",
       "\n",
       "            C20  C21  device_ip_counts  device_id_counts  hour_of_day  \\\n",
       "4000000      -1   79                 1           4125387           23   \n",
       "4000001      -1   51               403           4125387           23   \n",
       "4000002  100084  212                 1           4125387           23   \n",
       "4000003      -1  212                13                 6           23   \n",
       "4000004      -1  221                 8           4125387           23   \n",
       "\n",
       "         day_of_week  hourly_user_count  \n",
       "4000000      Tuesday             100975  \n",
       "4000001      Tuesday             100975  \n",
       "4000002      Tuesday             100975  \n",
       "4000003      Tuesday             100975  \n",
       "4000004      Tuesday             100975  \n",
       "\n",
       "[5 rows x 27 columns]"
      ]
     },
     "execution_count": 4,
     "metadata": {},
     "output_type": "execute_result"
    }
   ],
   "source": [
    "X_test.head()"
   ]
  },
  {
   "cell_type": "code",
   "execution_count": 44,
   "metadata": {},
   "outputs": [
    {
     "data": {
      "text/html": [
       "<div>\n",
       "<style scoped>\n",
       "    .dataframe tbody tr th:only-of-type {\n",
       "        vertical-align: middle;\n",
       "    }\n",
       "\n",
       "    .dataframe tbody tr th {\n",
       "        vertical-align: top;\n",
       "    }\n",
       "\n",
       "    .dataframe thead th {\n",
       "        text-align: right;\n",
       "    }\n",
       "</style>\n",
       "<table border=\"1\" class=\"dataframe\">\n",
       "  <thead>\n",
       "    <tr style=\"text-align: right;\">\n",
       "      <th></th>\n",
       "      <th>id</th>\n",
       "      <th>click</th>\n",
       "      <th>hour</th>\n",
       "      <th>C1</th>\n",
       "      <th>banner_pos</th>\n",
       "      <th>site_id</th>\n",
       "      <th>site_domain</th>\n",
       "      <th>site_category</th>\n",
       "      <th>app_id</th>\n",
       "      <th>app_domain</th>\n",
       "      <th>...</th>\n",
       "      <th>device_type</th>\n",
       "      <th>device_conn_type</th>\n",
       "      <th>C14</th>\n",
       "      <th>C15</th>\n",
       "      <th>C16</th>\n",
       "      <th>C17</th>\n",
       "      <th>C18</th>\n",
       "      <th>C19</th>\n",
       "      <th>C20</th>\n",
       "      <th>C21</th>\n",
       "    </tr>\n",
       "  </thead>\n",
       "  <tbody>\n",
       "    <tr>\n",
       "      <th>4000000</th>\n",
       "      <td>6453520313166270806</td>\n",
       "      <td>0</td>\n",
       "      <td>2014-10-28 23:00:00</td>\n",
       "      <td>1005</td>\n",
       "      <td>1</td>\n",
       "      <td>cffc1324</td>\n",
       "      <td>bc63ea42</td>\n",
       "      <td>335d28a8</td>\n",
       "      <td>ecad2386</td>\n",
       "      <td>7801e8d9</td>\n",
       "      <td>...</td>\n",
       "      <td>1</td>\n",
       "      <td>0</td>\n",
       "      <td>15702</td>\n",
       "      <td>320</td>\n",
       "      <td>50</td>\n",
       "      <td>1722</td>\n",
       "      <td>0</td>\n",
       "      <td>35</td>\n",
       "      <td>-1</td>\n",
       "      <td>79</td>\n",
       "    </tr>\n",
       "    <tr>\n",
       "      <th>4000001</th>\n",
       "      <td>6454009787605958372</td>\n",
       "      <td>0</td>\n",
       "      <td>2014-10-28 23:00:00</td>\n",
       "      <td>1005</td>\n",
       "      <td>0</td>\n",
       "      <td>1fbe01fe</td>\n",
       "      <td>f3845767</td>\n",
       "      <td>28905ebd</td>\n",
       "      <td>ecad2386</td>\n",
       "      <td>7801e8d9</td>\n",
       "      <td>...</td>\n",
       "      <td>1</td>\n",
       "      <td>0</td>\n",
       "      <td>22676</td>\n",
       "      <td>320</td>\n",
       "      <td>50</td>\n",
       "      <td>2616</td>\n",
       "      <td>0</td>\n",
       "      <td>35</td>\n",
       "      <td>-1</td>\n",
       "      <td>51</td>\n",
       "    </tr>\n",
       "    <tr>\n",
       "      <th>4000002</th>\n",
       "      <td>6454036810724957598</td>\n",
       "      <td>1</td>\n",
       "      <td>2014-10-28 23:00:00</td>\n",
       "      <td>1005</td>\n",
       "      <td>0</td>\n",
       "      <td>e9ca7d40</td>\n",
       "      <td>98572c79</td>\n",
       "      <td>f028772b</td>\n",
       "      <td>ecad2386</td>\n",
       "      <td>7801e8d9</td>\n",
       "      <td>...</td>\n",
       "      <td>1</td>\n",
       "      <td>0</td>\n",
       "      <td>23415</td>\n",
       "      <td>300</td>\n",
       "      <td>250</td>\n",
       "      <td>2682</td>\n",
       "      <td>1</td>\n",
       "      <td>419</td>\n",
       "      <td>100084</td>\n",
       "      <td>212</td>\n",
       "    </tr>\n",
       "    <tr>\n",
       "      <th>4000003</th>\n",
       "      <td>6454141531557669580</td>\n",
       "      <td>0</td>\n",
       "      <td>2014-10-28 23:00:00</td>\n",
       "      <td>1005</td>\n",
       "      <td>1</td>\n",
       "      <td>85f751fd</td>\n",
       "      <td>c4e18dd6</td>\n",
       "      <td>50e219e0</td>\n",
       "      <td>cf0327f9</td>\n",
       "      <td>2347f47a</td>\n",
       "      <td>...</td>\n",
       "      <td>1</td>\n",
       "      <td>0</td>\n",
       "      <td>23379</td>\n",
       "      <td>300</td>\n",
       "      <td>50</td>\n",
       "      <td>2681</td>\n",
       "      <td>1</td>\n",
       "      <td>419</td>\n",
       "      <td>-1</td>\n",
       "      <td>212</td>\n",
       "    </tr>\n",
       "    <tr>\n",
       "      <th>4000004</th>\n",
       "      <td>6457954033620459280</td>\n",
       "      <td>0</td>\n",
       "      <td>2014-10-28 23:00:00</td>\n",
       "      <td>1005</td>\n",
       "      <td>0</td>\n",
       "      <td>1fbe01fe</td>\n",
       "      <td>f3845767</td>\n",
       "      <td>28905ebd</td>\n",
       "      <td>ecad2386</td>\n",
       "      <td>7801e8d9</td>\n",
       "      <td>...</td>\n",
       "      <td>1</td>\n",
       "      <td>0</td>\n",
       "      <td>22258</td>\n",
       "      <td>320</td>\n",
       "      <td>50</td>\n",
       "      <td>2545</td>\n",
       "      <td>0</td>\n",
       "      <td>167</td>\n",
       "      <td>-1</td>\n",
       "      <td>221</td>\n",
       "    </tr>\n",
       "  </tbody>\n",
       "</table>\n",
       "<p>5 rows × 24 columns</p>\n",
       "</div>"
      ],
      "text/plain": [
       "                          id  click                 hour    C1  banner_pos  \\\n",
       "4000000  6453520313166270806      0  2014-10-28 23:00:00  1005           1   \n",
       "4000001  6454009787605958372      0  2014-10-28 23:00:00  1005           0   \n",
       "4000002  6454036810724957598      1  2014-10-28 23:00:00  1005           0   \n",
       "4000003  6454141531557669580      0  2014-10-28 23:00:00  1005           1   \n",
       "4000004  6457954033620459280      0  2014-10-28 23:00:00  1005           0   \n",
       "\n",
       "          site_id site_domain site_category    app_id app_domain  ...  \\\n",
       "4000000  cffc1324    bc63ea42      335d28a8  ecad2386   7801e8d9  ...   \n",
       "4000001  1fbe01fe    f3845767      28905ebd  ecad2386   7801e8d9  ...   \n",
       "4000002  e9ca7d40    98572c79      f028772b  ecad2386   7801e8d9  ...   \n",
       "4000003  85f751fd    c4e18dd6      50e219e0  cf0327f9   2347f47a  ...   \n",
       "4000004  1fbe01fe    f3845767      28905ebd  ecad2386   7801e8d9  ...   \n",
       "\n",
       "        device_type device_conn_type    C14  C15  C16   C17  C18  C19     C20  \\\n",
       "4000000           1                0  15702  320   50  1722    0   35      -1   \n",
       "4000001           1                0  22676  320   50  2616    0   35      -1   \n",
       "4000002           1                0  23415  300  250  2682    1  419  100084   \n",
       "4000003           1                0  23379  300   50  2681    1  419      -1   \n",
       "4000004           1                0  22258  320   50  2545    0  167      -1   \n",
       "\n",
       "         C21  \n",
       "4000000   79  \n",
       "4000001   51  \n",
       "4000002  212  \n",
       "4000003  212  \n",
       "4000004  221  \n",
       "\n",
       "[5 rows x 24 columns]"
      ]
     },
     "execution_count": 44,
     "metadata": {},
     "output_type": "execute_result"
    }
   ],
   "source": [
    "test_2=X_test.drop(columns=['device_ip_counts','device_id_counts','hour_of_day','day_of_week','hourly_user_count'])\n",
    "test_2.head()"
   ]
  },
  {
   "cell_type": "code",
   "execution_count": 45,
   "metadata": {},
   "outputs": [],
   "source": [
    "test_2.to_csv('final_test_data.csv',index=False)"
   ]
  },
  {
   "cell_type": "markdown",
   "metadata": {},
   "source": [
    "Let us check the distributions of classes in train and test data"
   ]
  },
  {
   "cell_type": "code",
   "execution_count": 5,
   "metadata": {},
   "outputs": [
    {
     "data": {
      "text/plain": [
       "0    0.828447\n",
       "1    0.171553\n",
       "Name: click, dtype: float64"
      ]
     },
     "execution_count": 5,
     "metadata": {},
     "output_type": "execute_result"
    }
   ],
   "source": [
    "X_train['click'].value_counts()/X_train.shape[0]"
   ]
  },
  {
   "cell_type": "code",
   "execution_count": 6,
   "metadata": {},
   "outputs": [
    {
     "data": {
      "text/plain": [
       "0    0.836411\n",
       "1    0.163589\n",
       "Name: click, dtype: float64"
      ]
     },
     "execution_count": 6,
     "metadata": {},
     "output_type": "execute_result"
    }
   ],
   "source": [
    "X_test['click'].value_counts()/X_test.shape[0]"
   ]
  },
  {
   "cell_type": "markdown",
   "metadata": {},
   "source": [
    "The distributions are similar hence they have not changed much and we can proceed further."
   ]
  },
  {
   "cell_type": "markdown",
   "metadata": {},
   "source": [
    "## 2. Data preparation"
   ]
  },
  {
   "cell_type": "markdown",
   "metadata": {},
   "source": [
    "* Here if we notice almost all the features are categorical in nature we can use response coding with the CTR values itself which we have computed during the EDA for categorical features.\n",
    "* We can perform column standardization as the 1st model that we are trying is Logistic regression which assumes that features in the dataset follow gaussian distribution."
   ]
  },
  {
   "cell_type": "markdown",
   "metadata": {},
   "source": [
    "### 2.1 Encoding of categorical features with their respective categorical CTR values"
   ]
  },
  {
   "cell_type": "code",
   "execution_count": 16,
   "metadata": {},
   "outputs": [],
   "source": [
    "#functions to perform the response coding of the categorical features\n",
    "from tqdm import tqdm\n",
    "\n",
    "def response_fit(data,feature_name):\n",
    "    '''\n",
    "    fit function to encode the categorical variables with their respective CTR values\n",
    "    '''\n",
    "    #Here we will 1st group the data points in the dataframe with the help of group by and then count the number of impressions in each group\n",
    "    #Here we can use groupby().count() but size() gives us the result in the form of a nice dataframe with multi-index\n",
    "    #for plotting we need to convert the multi-index group by object  in to columns so with the help of unstack() we will seperate the 0-impressions and 1-clicks as 2 columns with elements as counts\n",
    "    \n",
    "    df_vocab=data.groupby([feature_name,'click']).size().unstack()\n",
    "    # This dataframe contains the unique categorical values of the given feature as index and the impressions and clicks as 2 columns\n",
    "    \n",
    "    #Now compute the CTR values by using the CTR formula \n",
    "    #This is the formula for computing the click thropugh rate (CTR)= total number of clicks/ total number of impressions\n",
    "    #Here total number of impressions = number of non-clicks+ no of clicks (0 column + 1 column )\n",
    "    df_vocab['CTR']= df_vocab[1]/(df_vocab[0]+df_vocab[1])\n",
    "    \n",
    "    #drop the null values\n",
    "    df_vocab.dropna(inplace=True)\n",
    "    \n",
    "    #compute the mean CTR to substitute CTR for those feature values which will not be found in the train data\n",
    "    mean_CTR= df_vocab['CTR'].mean()\n",
    "    \n",
    "    #create a dictionary with keys= feature category names and values = respective CTR values\n",
    "    keys=list(df_vocab.index)\n",
    "    values=list(df_vocab['CTR'].values)\n",
    "    vocab_dict= {keys[i]:values[i] for i in range(len(keys))}\n",
    "    \n",
    "    #return the vocab dictionary , so that it is used to transform train and test dataframes\n",
    "    return vocab_dict,mean_CTR\n",
    "\n",
    "def response_transform(x,vocab,mean_CTR):\n",
    "    '''\n",
    "    transform function to encode the categorical varibles with their respective CTR values\n",
    "    '''\n",
    "    vector=[] #to store the CTR for all the data points\n",
    "    \n",
    "    #loop thorugh all the data points of the given series or dataframe\n",
    "    for row in x:\n",
    "        #Check if it is present in the train data, otherwise add mean_CTR as the response vector\n",
    "        vector.append(vocab.get(row,mean_CTR))\n",
    "    \n",
    "    #return the list containing the CTR values\n",
    "    return vector\n",
    "       "
   ]
  },
  {
   "cell_type": "markdown",
   "metadata": {},
   "source": [
    "<b> 1st we will encode all the features in terms of their respective categorical CTR values </b>"
   ]
  },
  {
   "cell_type": "code",
   "execution_count": 8,
   "metadata": {},
   "outputs": [
    {
     "name": "stderr",
     "output_type": "stream",
     "text": [
      "  0%|          | 0/24 [00:00<?, ?it/s]"
     ]
    },
    {
     "name": "stdout",
     "output_type": "stream",
     "text": [
      "....Fitted on  site_id  feature data.....\n"
     ]
    },
    {
     "name": "stderr",
     "output_type": "stream",
     "text": [
      "  4%|▍         | 1/24 [00:01<00:45,  2.00s/it]"
     ]
    },
    {
     "name": "stdout",
     "output_type": "stream",
     "text": [
      "....transformed on  site_id  feature data.....\n",
      "....Fitted on  site_domain  feature data.....\n"
     ]
    },
    {
     "name": "stderr",
     "output_type": "stream",
     "text": [
      "  8%|▊         | 2/24 [00:03<00:36,  1.65s/it]"
     ]
    },
    {
     "name": "stdout",
     "output_type": "stream",
     "text": [
      "....transformed on  site_domain  feature data.....\n",
      "....Fitted on  site_category  feature data.....\n"
     ]
    },
    {
     "name": "stderr",
     "output_type": "stream",
     "text": [
      " 12%|█▎        | 3/24 [00:04<00:31,  1.50s/it]"
     ]
    },
    {
     "name": "stdout",
     "output_type": "stream",
     "text": [
      "....transformed on  site_category  feature data.....\n",
      "....Fitted on  app_id  feature data.....\n"
     ]
    },
    {
     "name": "stderr",
     "output_type": "stream",
     "text": [
      " 17%|█▋        | 4/24 [00:06<00:28,  1.45s/it]"
     ]
    },
    {
     "name": "stdout",
     "output_type": "stream",
     "text": [
      "....transformed on  app_id  feature data.....\n",
      "....Fitted on  app_category  feature data.....\n"
     ]
    },
    {
     "name": "stderr",
     "output_type": "stream",
     "text": [
      " 21%|██        | 5/24 [00:07<00:26,  1.40s/it]"
     ]
    },
    {
     "name": "stdout",
     "output_type": "stream",
     "text": [
      "....transformed on  app_category  feature data.....\n",
      "....Fitted on  app_domain  feature data.....\n"
     ]
    },
    {
     "name": "stderr",
     "output_type": "stream",
     "text": [
      " 25%|██▌       | 6/24 [00:08<00:24,  1.38s/it]"
     ]
    },
    {
     "name": "stdout",
     "output_type": "stream",
     "text": [
      "....transformed on  app_domain  feature data.....\n",
      "....Fitted on  device_model  feature data.....\n"
     ]
    },
    {
     "name": "stderr",
     "output_type": "stream",
     "text": [
      " 29%|██▉       | 7/24 [00:10<00:23,  1.40s/it]"
     ]
    },
    {
     "name": "stdout",
     "output_type": "stream",
     "text": [
      "....transformed on  device_model  feature data.....\n",
      "....Fitted on  device_type  feature data.....\n"
     ]
    },
    {
     "name": "stderr",
     "output_type": "stream",
     "text": [
      " 33%|███▎      | 8/24 [00:11<00:21,  1.34s/it]"
     ]
    },
    {
     "name": "stdout",
     "output_type": "stream",
     "text": [
      "....transformed on  device_type  feature data.....\n",
      "....Fitted on  device_conn_type  feature data.....\n"
     ]
    },
    {
     "name": "stderr",
     "output_type": "stream",
     "text": [
      " 38%|███▊      | 9/24 [00:12<00:19,  1.32s/it]"
     ]
    },
    {
     "name": "stdout",
     "output_type": "stream",
     "text": [
      "....transformed on  device_conn_type  feature data.....\n",
      "....Fitted on  device_id_counts  feature data.....\n"
     ]
    },
    {
     "name": "stderr",
     "output_type": "stream",
     "text": [
      " 42%|████▏     | 10/24 [00:13<00:18,  1.31s/it]"
     ]
    },
    {
     "name": "stdout",
     "output_type": "stream",
     "text": [
      "....transformed on  device_id_counts  feature data.....\n",
      "....Fitted on  device_ip_counts  feature data.....\n"
     ]
    },
    {
     "name": "stderr",
     "output_type": "stream",
     "text": [
      " 46%|████▌     | 11/24 [00:15<00:16,  1.29s/it]"
     ]
    },
    {
     "name": "stdout",
     "output_type": "stream",
     "text": [
      "....transformed on  device_ip_counts  feature data.....\n",
      "....Fitted on  banner_pos  feature data.....\n"
     ]
    },
    {
     "name": "stderr",
     "output_type": "stream",
     "text": [
      " 50%|█████     | 12/24 [00:16<00:15,  1.27s/it]"
     ]
    },
    {
     "name": "stdout",
     "output_type": "stream",
     "text": [
      "....transformed on  banner_pos  feature data.....\n",
      "....Fitted on  C1  feature data.....\n"
     ]
    },
    {
     "name": "stderr",
     "output_type": "stream",
     "text": [
      " 54%|█████▍    | 13/24 [00:17<00:14,  1.27s/it]"
     ]
    },
    {
     "name": "stdout",
     "output_type": "stream",
     "text": [
      "....transformed on  C1  feature data.....\n",
      "....Fitted on  C14  feature data.....\n"
     ]
    },
    {
     "name": "stderr",
     "output_type": "stream",
     "text": [
      " 58%|█████▊    | 14/24 [00:19<00:12,  1.29s/it]"
     ]
    },
    {
     "name": "stdout",
     "output_type": "stream",
     "text": [
      "....transformed on  C14  feature data.....\n",
      "....Fitted on  C15  feature data.....\n"
     ]
    },
    {
     "name": "stderr",
     "output_type": "stream",
     "text": [
      " 62%|██████▎   | 15/24 [00:20<00:11,  1.29s/it]"
     ]
    },
    {
     "name": "stdout",
     "output_type": "stream",
     "text": [
      "....transformed on  C15  feature data.....\n",
      "....Fitted on  C16  feature data.....\n"
     ]
    },
    {
     "name": "stderr",
     "output_type": "stream",
     "text": [
      " 67%|██████▋   | 16/24 [00:21<00:10,  1.27s/it]"
     ]
    },
    {
     "name": "stdout",
     "output_type": "stream",
     "text": [
      "....transformed on  C16  feature data.....\n",
      "....Fitted on  C17  feature data.....\n"
     ]
    },
    {
     "name": "stderr",
     "output_type": "stream",
     "text": [
      " 71%|███████   | 17/24 [00:22<00:08,  1.28s/it]"
     ]
    },
    {
     "name": "stdout",
     "output_type": "stream",
     "text": [
      "....transformed on  C17  feature data.....\n",
      "....Fitted on  C18  feature data.....\n"
     ]
    },
    {
     "name": "stderr",
     "output_type": "stream",
     "text": [
      " 75%|███████▌  | 18/24 [00:24<00:07,  1.26s/it]"
     ]
    },
    {
     "name": "stdout",
     "output_type": "stream",
     "text": [
      "....transformed on  C18  feature data.....\n",
      "....Fitted on  C19  feature data.....\n"
     ]
    },
    {
     "name": "stderr",
     "output_type": "stream",
     "text": [
      " 79%|███████▉  | 19/24 [00:25<00:06,  1.26s/it]"
     ]
    },
    {
     "name": "stdout",
     "output_type": "stream",
     "text": [
      "....transformed on  C19  feature data.....\n",
      "....Fitted on  C20  feature data.....\n"
     ]
    },
    {
     "name": "stderr",
     "output_type": "stream",
     "text": [
      " 83%|████████▎ | 20/24 [00:26<00:05,  1.26s/it]"
     ]
    },
    {
     "name": "stdout",
     "output_type": "stream",
     "text": [
      "....transformed on  C20  feature data.....\n",
      "....Fitted on  C21  feature data.....\n"
     ]
    },
    {
     "name": "stderr",
     "output_type": "stream",
     "text": [
      " 88%|████████▊ | 21/24 [00:27<00:03,  1.25s/it]"
     ]
    },
    {
     "name": "stdout",
     "output_type": "stream",
     "text": [
      "....transformed on  C21  feature data.....\n",
      "....Fitted on  hour_of_day  feature data.....\n"
     ]
    },
    {
     "name": "stderr",
     "output_type": "stream",
     "text": [
      " 92%|█████████▏| 22/24 [00:28<00:02,  1.23s/it]"
     ]
    },
    {
     "name": "stdout",
     "output_type": "stream",
     "text": [
      "....transformed on  hour_of_day  feature data.....\n",
      "....Fitted on  day_of_week  feature data.....\n"
     ]
    },
    {
     "name": "stderr",
     "output_type": "stream",
     "text": [
      " 96%|█████████▌| 23/24 [00:30<00:01,  1.25s/it]"
     ]
    },
    {
     "name": "stdout",
     "output_type": "stream",
     "text": [
      "....transformed on  day_of_week  feature data.....\n",
      "....Fitted on  hourly_user_count  feature data.....\n"
     ]
    },
    {
     "name": "stderr",
     "output_type": "stream",
     "text": [
      "100%|██████████| 24/24 [00:31<00:00,  1.32s/it]"
     ]
    },
    {
     "name": "stdout",
     "output_type": "stream",
     "text": [
      "....transformed on  hourly_user_count  feature data.....\n"
     ]
    },
    {
     "name": "stderr",
     "output_type": "stream",
     "text": [
      "\n"
     ]
    }
   ],
   "source": [
    "#store all the names of the features in a list\n",
    "#Here we are not inclusing the device id and device ip because we already have engineered features device id count and device ip count with CTR values\n",
    "feature_names=['site_id','site_domain','site_category','app_id','app_category','app_domain',\\\n",
    "                'device_model','device_type','device_conn_type','device_id_counts','device_ip_counts',\\\n",
    "                'banner_pos','C1','C14','C15','C16','C17','C18','C19','C20','C21',\\\n",
    "                'hour_of_day','day_of_week','hourly_user_count']\n",
    "\n",
    "#Data frame to store only CTR encoded values\n",
    "X_train_pCTR=pd.DataFrame()\n",
    "X_test_pCTR=pd.DataFrame()\n",
    "\n",
    "#Loop thorough each column of the original dataframe for encoding them\n",
    "for name in tqdm(feature_names):\n",
    "    \n",
    "    #first get the vocabulary dictionary and the mean CTR for use on unknown categories\n",
    "    vocab,mean=response_fit(X_train,name) # fit has to happen only on train data\n",
    "\n",
    "    #print the fit-status to the screen\n",
    "    print('....Fitted on ', name ,' feature data.....')\n",
    "    \n",
    "    # we use the vocab to response code the train and test data\n",
    "    X_train_pCTR[name] = response_transform(X_train[name],vocab,mean)\n",
    "    X_test_pCTR[name] = response_transform(X_test[name],vocab,mean)\n",
    "    \n",
    "    #print the transform status to the screen\n",
    "    print('....transformed on ', name ,' feature data.....')\n",
    "    "
   ]
  },
  {
   "cell_type": "code",
   "execution_count": 9,
   "metadata": {},
   "outputs": [
    {
     "data": {
      "text/plain": [
       "site_id              0\n",
       "site_domain          0\n",
       "site_category        0\n",
       "app_id               0\n",
       "app_category         0\n",
       "app_domain           0\n",
       "device_model         0\n",
       "device_type          0\n",
       "device_conn_type     0\n",
       "device_id_counts     0\n",
       "device_ip_counts     0\n",
       "banner_pos           0\n",
       "C1                   0\n",
       "C14                  0\n",
       "C15                  0\n",
       "C16                  0\n",
       "C17                  0\n",
       "C18                  0\n",
       "C19                  0\n",
       "C20                  0\n",
       "C21                  0\n",
       "hour_of_day          0\n",
       "day_of_week          0\n",
       "hourly_user_count    0\n",
       "dtype: int64"
      ]
     },
     "execution_count": 9,
     "metadata": {},
     "output_type": "execute_result"
    }
   ],
   "source": [
    "pd.isnull(X_test_pCTR).sum(axis=0)"
   ]
  },
  {
   "cell_type": "code",
   "execution_count": 10,
   "metadata": {},
   "outputs": [
    {
     "data": {
      "text/plain": [
       "(4000000, 24)"
      ]
     },
     "execution_count": 10,
     "metadata": {},
     "output_type": "execute_result"
    }
   ],
   "source": [
    "X_train_pCTR.shape"
   ]
  },
  {
   "cell_type": "code",
   "execution_count": 11,
   "metadata": {},
   "outputs": [],
   "source": [
    "y_train=X_train['click']\n",
    "y_test=X_test['click']"
   ]
  },
  {
   "cell_type": "markdown",
   "metadata": {},
   "source": [
    "## 3. Modelling"
   ]
  },
  {
   "cell_type": "markdown",
   "metadata": {},
   "source": [
    "### Some utility functions to compute the confusion matrix"
   ]
  },
  {
   "cell_type": "code",
   "execution_count": 8,
   "metadata": {
    "id": "XfxcPT6jtASg"
   },
   "outputs": [],
   "source": [
    "\n",
    "# This function plots the confusion matrices given y_i, y_i_hat.\n",
    "\n",
    "from sklearn.metrics import confusion_matrix\n",
    "import seaborn as sns\n",
    "import matplotlib.pyplot as plt\n",
    "\n",
    "def plot_confusion_matrix(test_y, predict_y):\n",
    "    C = confusion_matrix(test_y, predict_y)\n",
    "    # C = 9,9 matrix, each cell (i,j) represents number of points of class i are predicted class j\n",
    "    \n",
    "    A =(((C.T)/(C.sum(axis=1))).T)\n",
    "    #divid each element of the confusion matrix with the sum of elements in that row.\n",
    "    #Here A is a recall matrix so divide by the actual number of classes.\n",
    "    \n",
    "    # C = [[1, 2],\n",
    "    #     [3, 4]]\n",
    "    # C.T = [[1, 3],\n",
    "    #        [2, 4]]\n",
    "    # C.sum(axis = 1)  axis=0 corresonds to columns and axis=1 corresponds to rows in two diamensional array\n",
    "    # C.sum(axix =1) = [[3, 7]]\n",
    "    # ((C.T)/(C.sum(axis=1))) = [[1/3, 3/7]\n",
    "    #                           [2/3, 4/7]]\n",
    "\n",
    "    # ((C.T)/(C.sum(axis=1))).T = [[1/3, 2/3]\n",
    "    #                           [3/7, 4/7]]\n",
    "    # sum of row elements = 1\n",
    "    \n",
    "    B =(C/C.sum(axis=0))\n",
    "    #divid each element of the confusion matrix with the sum of elements in that column.\n",
    "    #here we are creating a precision matrix hence we need to divide it by predicted class numbers.\n",
    "    # C = [[1, 2],\n",
    "    #     [3, 4]]\n",
    "    # C.sum(axis = 0)  axis=0 corresonds to columns and axis=1 corresponds to rows in two diamensional array\n",
    "    # C.sum(axix =0) = [[4, 6]]\n",
    "    # (C/C.sum(axis=0)) = [[1/4, 2/6],\n",
    "    #                      [3/4, 4/6]] \n",
    "    plt.figure(figsize=(20,4))\n",
    "    \n",
    "    labels = [0,1]\n",
    "    # representing A in heatmap format\n",
    "    cmap=sns.light_palette(\"green\")\n",
    "    plt.subplot(1, 3, 1)\n",
    "    sns.heatmap(C, annot=True, cmap=cmap, fmt=\".3f\", xticklabels=labels, yticklabels=labels)\n",
    "    plt.xlabel('Predicted Class')\n",
    "    plt.ylabel('Original Class')\n",
    "    plt.title(\"Confusion matrix\")\n",
    "    \n",
    "    plt.subplot(1, 3, 2)\n",
    "    sns.heatmap(B, annot=True, cmap=cmap, fmt=\".3f\", xticklabels=labels, yticklabels=labels)\n",
    "    plt.xlabel('Predicted Class')\n",
    "    plt.ylabel('Original Class')\n",
    "    plt.title(\"Precision matrix\")\n",
    "    \n",
    "    plt.subplot(1, 3, 3)\n",
    "    # representing B in heatmap format\n",
    "    sns.heatmap(A, annot=True, cmap=cmap, fmt=\".3f\", xticklabels=labels, yticklabels=labels)\n",
    "    plt.xlabel('Predicted Class')\n",
    "    plt.ylabel('Original Class')\n",
    "    plt.title(\"Recall matrix\")\n",
    "    \n",
    "    plt.show()"
   ]
  },
  {
   "cell_type": "markdown",
   "metadata": {},
   "source": [
    "### Building a random model for finding worst case log-loss since our metric is log-loss"
   ]
  },
  {
   "cell_type": "code",
   "execution_count": 29,
   "metadata": {},
   "outputs": [
    {
     "name": "stdout",
     "output_type": "stream",
     "text": [
      "Log loss on Test Data using Random Model 0.8857566613140824 \n",
      "-----------x-------------\n",
      "[[0.37922987 0.62077013]\n",
      " [0.53548972 0.46451028]\n",
      " [0.34443298 0.65556702]\n",
      " ...\n",
      " [0.35813809 0.64186191]\n",
      " [0.58464291 0.41535709]\n",
      " [0.66787834 0.33212166]] \n",
      "---------------x-------------\n",
      "[1 0 1 ... 1 0 0]\n"
     ]
    },
    {
     "data": {
      "image/png": "[encoded data removed]",
      "text/plain": [
       "<Figure size 1440x288 with 6 Axes>"
      ]
     },
     "metadata": {
      "needs_background": "light"
     },
     "output_type": "display_data"
    }
   ],
   "source": [
    "# we need to generate 2 numbers and the sum of numbers should be 1\n",
    "# one solution is to genarate 2 numbers and divide each of the numbers by their sum\n",
    "# ref: https://stackoverflow.com/a/18662466/4084039\n",
    "# we create a output array that has exactly same size as the CV data\n",
    "\n",
    "import numpy as np\n",
    "from sklearn.metrics import log_loss\n",
    "\n",
    "test_len= len(y_test);\n",
    "predicted_y = np.zeros((test_len,2))\n",
    "for i in range(test_len):\n",
    "    rand_probs = np.random.rand(1,2)\n",
    "    predicted_y[i] = ((rand_probs/sum(sum(rand_probs)))[0])\n",
    "print(\"Log loss on Test Data using Random Model\",log_loss(y_test, predicted_y, eps=1e-15),\"\\n-----------x-------------\")\n",
    "print(predicted_y,\"\\n---------------x-------------\")\n",
    "\n",
    "predicted_y =np.argmax(predicted_y, axis=1)\n",
    "print(predicted_y)\n",
    "\n",
    "plot_confusion_matrix(y_test, predicted_y)"
   ]
  },
  {
   "cell_type": "markdown",
   "metadata": {},
   "source": [
    "###  <b> 3.1 Logistic regression with Hyper-parameter tuning </b>"
   ]
  },
  {
   "cell_type": "code",
   "execution_count": 30,
   "metadata": {
    "id": "Wb2tOE3GtASr",
    "outputId": "d7e4fc88-7d4e-4313-cda7-462a2409292e"
   },
   "outputs": [
    {
     "name": "stdout",
     "output_type": "stream",
     "text": [
      "For values of alpha =  1e-05 The log loss is: 0.40033751374967635\n",
      "For values of alpha =  0.0001 The log loss is: 0.4005735275270094\n",
      "For values of alpha =  0.001 The log loss is: 0.40511642373391454\n",
      "For values of alpha =  0.01 The log loss is: 0.41109289204295196\n",
      "For values of alpha =  0.1 The log loss is: 0.4124920763715693\n",
      "For values of alpha =  1 The log loss is: 0.41286617269602427\n",
      "For values of alpha =  10 The log loss is: 0.4134028144716175\n"
     ]
    },
    {
     "data": {
      "image/png": "[encoded data removed]",
      "text/plain": [
       "<Figure size 432x288 with 1 Axes>"
      ]
     },
     "metadata": {
      "needs_background": "light"
     },
     "output_type": "display_data"
    },
    {
     "name": "stdout",
     "output_type": "stream",
     "text": [
      "For values of best alpha =  1e-05 The train log loss is: 0.40548864976333626\n",
      "For values of best alpha =  1e-05 The test log loss is: 0.40037213754677553\n",
      "Total number of data points : 1000000\n"
     ]
    },
    {
     "data": {
      "image/png": "[encoded data removed]",
      "text/plain": [
       "<Figure size 1440x288 with 6 Axes>"
      ]
     },
     "metadata": {
      "needs_background": "light"
     },
     "output_type": "display_data"
    }
   ],
   "source": [
    "from sklearn.linear_model import SGDClassifier\n",
    "from sklearn.calibration import CalibratedClassifierCV\n",
    "\n",
    "alpha = [10 ** x for x in range(-5, 2)] # hyperparam for SGD classifier.\n",
    "\n",
    "log_error_array=[]\n",
    "for i in alpha:\n",
    "    clf = SGDClassifier(alpha=i, penalty='l2', loss='log', random_state=42, class_weight= {0:1, 1:1.75})\n",
    "    clf.fit(X_train_pCTR, y_train)\n",
    "    sig_clf = CalibratedClassifierCV(clf, method=\"sigmoid\")\n",
    "    sig_clf.fit(X_train_pCTR, y_train)\n",
    "    predict_y = sig_clf.predict_proba(X_test_pCTR)\n",
    "    log_error_array.append(log_loss(y_test, predict_y, labels=clf.classes_, eps=1e-15))\n",
    "    print('For values of alpha = ', i, \"The log loss is:\",log_loss(y_test, predict_y, labels=clf.classes_, eps=1e-15))\n",
    "\n",
    "fig, ax = plt.subplots()\n",
    "ax.plot(alpha, log_error_array,c='g')\n",
    "ax.set_xscale('log')\n",
    "for i, txt in enumerate(np.round(log_error_array,3)):\n",
    "    ax.annotate((alpha[i],np.round(txt,3)), (alpha[i],log_error_array[i]))\n",
    "plt.grid()\n",
    "plt.title(\"Cross Validation Error for each alpha\")\n",
    "plt.xlabel(\"Alpha i's\")\n",
    "plt.ylabel(\"Error measure\")\n",
    "plt.show()\n",
    "\n",
    "best_alpha = np.argmin(log_error_array)\n",
    "clf = SGDClassifier(alpha=alpha[best_alpha], penalty='l2', loss='log', random_state=42)\n",
    "clf.fit(X_train_pCTR, y_train)\n",
    "sig_clf = CalibratedClassifierCV(clf, method=\"sigmoid\")\n",
    "sig_clf.fit(X_train_pCTR, y_train)\n",
    "\n",
    "predict_y = sig_clf.predict_proba(X_train_pCTR)\n",
    "print('For values of best alpha = ', alpha[best_alpha], \"The train log loss is:\",log_loss(y_train, predict_y, labels=clf.classes_, eps=1e-15))\n",
    "predict_y = sig_clf.predict_proba(X_test_pCTR)\n",
    "print('For values of best alpha = ', alpha[best_alpha], \"The test log loss is:\",log_loss(y_test, predict_y, labels=clf.classes_, eps=1e-15))\n",
    "predicted_y =np.argmax(predict_y,axis=1)\n",
    "print(\"Total number of data points :\", len(predicted_y))\n",
    "plot_confusion_matrix(y_test, predicted_y)"
   ]
  },
  {
   "cell_type": "markdown",
   "metadata": {},
   "source": [
    "<b> Observations: </b>\n",
    "* The test log-loss we got for Logistic Regression with hyper-parameter tuning is 0.40037 which is much better than the random model whose log-loss is at 0.8857\n",
    "* Looking at the precision and recall matrices we can see that the model is predicting a lot of class 1 data points as class 0 data points but it is expected as this problem has class imbalance.\n",
    "* let us see if we can improve the log-loss with the help of Gradient Boosted Decision Trees."
   ]
  },
  {
   "cell_type": "markdown",
   "metadata": {},
   "source": [
    "### <b> 3.2 XG-Boost with Hyper-parameter tuning </b>"
   ]
  },
  {
   "cell_type": "code",
   "execution_count": 31,
   "metadata": {},
   "outputs": [
    {
     "name": "stdout",
     "output_type": "stream",
     "text": [
      "Fitting 5 folds for each of 10 candidates, totalling 50 fits\n"
     ]
    },
    {
     "name": "stderr",
     "output_type": "stream",
     "text": [
      "C:\\ProgramData\\Anaconda3\\lib\\site-packages\\xgboost\\sklearn.py:1146: UserWarning: The use of label encoder in XGBClassifier is deprecated and will be removed in a future release. To remove this warning, do the following: 1) Pass option use_label_encoder=False when constructing XGBClassifier object; and 2) Encode your labels (y) as integers starting with 0, i.e. 0, 1, 2, ..., [num_class - 1].\n",
      "  warnings.warn(label_encoder_deprecation_msg, UserWarning)\n"
     ]
    },
    {
     "data": {
      "text/plain": [
       "RandomizedSearchCV(estimator=XGBClassifier(base_score=None, booster=None,\n",
       "                                           colsample_bylevel=None,\n",
       "                                           colsample_bynode=None,\n",
       "                                           colsample_bytree=None, gamma=None,\n",
       "                                           gpu_id=None, importance_type='gain',\n",
       "                                           interaction_constraints=None,\n",
       "                                           learning_rate=None,\n",
       "                                           max_delta_step=None, max_depth=None,\n",
       "                                           min_child_weight=None, missing=nan,\n",
       "                                           monotone_constraints=None,\n",
       "                                           n_estimators=100, n_job...\n",
       "                                           subsample=None, tree_method=None,\n",
       "                                           validate_parameters=None,\n",
       "                                           verbosity=0),\n",
       "                   n_jobs=-1,\n",
       "                   param_distributions={'colsample_bytree': [0.1, 0.3, 0.5, 1],\n",
       "                                        'learning_rate': [0.01, 0.03, 0.05, 0.1,\n",
       "                                                          0.15, 0.2],\n",
       "                                        'max_depth': [3, 5, 10],\n",
       "                                        'n_estimators': [100, 200, 500, 1000,\n",
       "                                                         2000],\n",
       "                                        'subsample': [0.1, 0.3, 0.5, 1]},\n",
       "                   return_train_score=True,\n",
       "                   scoring=make_scorer(log_loss, greater_is_better=False, needs_proba=True),\n",
       "                   verbose=1)"
      ]
     },
     "execution_count": 31,
     "metadata": {},
     "output_type": "execute_result"
    }
   ],
   "source": [
    "from sklearn.metrics import log_loss, make_scorer\n",
    "from xgboost import XGBClassifier\n",
    "from sklearn.model_selection import RandomizedSearchCV\n",
    "\n",
    "x_cfl=XGBClassifier(verbosity=0)\n",
    "\n",
    "prams={\n",
    "    'learning_rate':[0.01,0.03,0.05,0.1,0.15,0.2],\n",
    "     'n_estimators':[100,200,500,1000,2000],\n",
    "     'max_depth':[3,5,10],\n",
    "    'colsample_bytree':[0.1,0.3,0.5,1],\n",
    "    'subsample':[0.1,0.3,0.5,1]\n",
    "}\n",
    "\n",
    "#https://stackoverflow.com/questions/55892224/\n",
    "#https://scikit-learn.org/stable/modules/model_evaluation.html#scoring-parameter\n",
    "LogLoss = make_scorer(log_loss, greater_is_better=False, needs_proba=True)\n",
    "random_cfl=RandomizedSearchCV(x_cfl,param_distributions=prams,verbose=1,n_jobs=-1,return_train_score=True,scoring=LogLoss)\n",
    "random_cfl.fit(X_train_pCTR, y_train)"
   ]
  },
  {
   "cell_type": "code",
   "execution_count": 32,
   "metadata": {},
   "outputs": [],
   "source": [
    "results=pd.DataFrame.from_dict(random_cfl.cv_results_)"
   ]
  },
  {
   "cell_type": "code",
   "execution_count": 33,
   "metadata": {},
   "outputs": [
    {
     "name": "stdout",
     "output_type": "stream",
     "text": [
      "best_depth = 5\n",
      "best_learning_rate = 0.05\n",
      "best_subsample = 0.3\n",
      "best_n_estimators = 100\n",
      "best_colsample_bytree = 0.5\n",
      "best test log-loss = -0.40338834341184304\n"
     ]
    }
   ],
   "source": [
    "#get the best parameters and print them\n",
    "\n",
    "best_depth = random_cfl.best_params_['max_depth']\n",
    "best_learning_rate = random_cfl.best_params_['learning_rate']\n",
    "best_subsample = random_cfl.best_params_['subsample']\n",
    "best_n_estimators = random_cfl.best_params_['n_estimators']\n",
    "best_colsample_bytree = random_cfl.best_params_['colsample_bytree']\n",
    "best_test_log_loss=random_cfl.best_score_\n",
    "\n",
    "print(\"best_depth =\",best_depth)\n",
    "print(\"best_learning_rate =\",best_learning_rate)\n",
    "print(\"best_subsample =\",best_subsample)\n",
    "print(\"best_n_estimators =\",best_n_estimators)\n",
    "print(\"best_colsample_bytree =\",best_colsample_bytree)\n",
    "print(\"best test log-loss =\",best_test_log_loss)"
   ]
  },
  {
   "cell_type": "code",
   "execution_count": 34,
   "metadata": {},
   "outputs": [
    {
     "name": "stderr",
     "output_type": "stream",
     "text": [
      "C:\\ProgramData\\Anaconda3\\lib\\site-packages\\xgboost\\sklearn.py:1146: UserWarning: The use of label encoder in XGBClassifier is deprecated and will be removed in a future release. To remove this warning, do the following: 1) Pass option use_label_encoder=False when constructing XGBClassifier object; and 2) Encode your labels (y) as integers starting with 0, i.e. 0, 1, 2, ..., [num_class - 1].\n",
      "  warnings.warn(label_encoder_deprecation_msg, UserWarning)\n"
     ]
    }
   ],
   "source": [
    "#fit the model with best paramters\n",
    "\n",
    "Best_XGB = XGBClassifier(max_depth = 5,learning_rate=0.05, subsample= 0.3, n_estimators=100, colsample_bytree=0.5, verbosity =0)\n",
    "Best_XGB.fit(X_train_pCTR,y_train)\n",
    "\n",
    "y_train_pred=Best_XGB.predict_proba(X_train_pCTR)\n",
    "y_test_pred=Best_XGB.predict_proba(X_test_pCTR)"
   ]
  },
  {
   "cell_type": "code",
   "execution_count": 35,
   "metadata": {},
   "outputs": [
    {
     "name": "stdout",
     "output_type": "stream",
     "text": [
      "The train log loss is: 0.39917676238224514\n",
      "The test log loss is: 0.3945786002319781\n"
     ]
    }
   ],
   "source": [
    "#print the log loss on train and test data\n",
    "\n",
    "print (\"The train log loss is:\",log_loss(y_train,y_train_pred ))\n",
    "print(\"The test log loss is:\",log_loss(y_test, y_test_pred ))"
   ]
  },
  {
   "cell_type": "code",
   "execution_count": 36,
   "metadata": {},
   "outputs": [
    {
     "data": {
      "image/png": "[encoded data removed]",
      "text/plain": [
       "<Figure size 1440x288 with 6 Axes>"
      ]
     },
     "metadata": {
      "needs_background": "light"
     },
     "output_type": "display_data"
    }
   ],
   "source": [
    "#plot the confusion matrix on the test data\n",
    "\n",
    "plot_confusion_matrix(y_test,Best_XGB.predict(X_test_pCTR))"
   ]
  },
  {
   "cell_type": "markdown",
   "metadata": {},
   "source": [
    "<b> Observations </b>\n",
    "* The test log-loss for Gradien Boosted Decision trees with hyper-parameter tuning is <b> 0.39475 </b> which is a very good improvement from the previous loss of <b> 0.40037 </b> which we have got for Logistic regression. So this shows that non-linear models work well when compared to linear models for the given data."
   ]
  },
  {
   "cell_type": "markdown",
   "metadata": {},
   "source": [
    "### <b> 3.3 Field Aware Factorization Machines </b>"
   ]
  },
  {
   "cell_type": "markdown",
   "metadata": {},
   "source": [
    "1st get the data in the required format"
   ]
  },
  {
   "cell_type": "code",
   "execution_count": 14,
   "metadata": {},
   "outputs": [],
   "source": [
    "#we need to have the class label also in the dataframe to with default label ='click' as column name for training this model\n",
    "#get the train data in that format\n",
    "#Note that we need to add the label only for train data\n",
    "\n",
    "X_train_pCTR['click']=y_train"
   ]
  },
  {
   "cell_type": "code",
   "execution_count": 38,
   "metadata": {},
   "outputs": [
    {
     "name": "stdout",
     "output_type": "stream",
     "text": [
      "[2022-01-13 11:38:33,083.083] -     INFO: pyffm.pyffm -- Formatting dataframe\n",
      "[2022-01-13 11:47:20,570.570] -     INFO: pyffm.engine.ffm_engine -- Creating ffm model with 24 fields and 5670 features.\n",
      "[2022-01-13 11:47:20,590.590] -     INFO: pyffm.engine.ffm_engine -- Epoch 0\n",
      "[2022-01-13 11:47:20,591.591] -     INFO: pyffm.engine.ffm_engine -- Training on 3600000 rows.\n",
      "[2022-01-13 11:49:34,723.723] -     INFO: pyffm.engine.ffm_engine -- Full train done, took 134.1s\n",
      "[2022-01-13 11:49:34,724.724] -     INFO: pyffm.engine.ffm_engine -- Calculating logloss\n",
      "[2022-01-13 11:49:36,087.087] -     INFO: pyffm.engine.ffm_engine -- Logloss: 0.3887406679240388, \n",
      "Took 1.4s\n",
      "[2022-01-13 11:49:36,087.087] -     INFO: pyffm.engine.ffm_engine -- Epoch 1\n",
      "[2022-01-13 11:49:36,088.088] -     INFO: pyffm.engine.ffm_engine -- Training on 3600000 rows.\n",
      "[2022-01-13 11:51:48,544.544] -     INFO: pyffm.engine.ffm_engine -- Full train done, took 132.5s\n",
      "[2022-01-13 11:51:48,545.545] -     INFO: pyffm.engine.ffm_engine -- Calculating logloss\n",
      "[2022-01-13 11:51:48,683.683] -     INFO: pyffm.engine.ffm_engine -- Logloss: 0.3892969629251319, \n",
      "Took 0.1s\n",
      "[2022-01-13 11:51:48,684.684] -     INFO: pyffm.engine.ffm_engine -- Increasing loss detected, early stopping\n",
      "[2022-01-13 11:51:48,684.684] -     INFO: pyffm.engine.ffm_engine -- Training done, took 268.1s\n",
      "\n",
      " ---------completed training------------\n",
      "\n",
      "[2022-01-13 11:51:48,866.866] -     INFO: pyffm.pyffm -- Formatting predict data\n",
      "[2022-01-13 11:51:48,867.867] -     INFO: pyffm.pyffm -- Formatting dataframe\n",
      "[2022-01-13 11:54:00,833.833] -     INFO: pyffm.engine.ffm_engine -- Batch predicting...\n",
      " test log loss is : 0.4095396721113168\n"
     ]
    }
   ],
   "source": [
    "#testing\n",
    "from pyffm import PyFFM\n",
    "\n",
    "training_params = {'epochs': 10, 'reg_lambda': 0.002, 'sigmoid':True, \"parallel\": True, 'early_stop': True}\n",
    "pyffm = PyFFM(model='ffm', training_params=training_params)\n",
    "\n",
    "pyffm.train(X_train_pCTR)\n",
    "\n",
    "print(\"\\n ---------completed training------------\\n\")\n",
    "\n",
    "y_pred=pyffm.predict(X_test_pCTR)\n",
    "\n",
    "print(\" test log loss is :\",log_loss(y_test, y_pred, eps=1e-15))\n"
   ]
  },
  {
   "cell_type": "code",
   "execution_count": 16,
   "metadata": {},
   "outputs": [
    {
     "name": "stdout",
     "output_type": "stream",
     "text": [
      "[2022-01-13 20:12:23,404.404] -     INFO: pyffm.pyffm -- Formatting predict data\n",
      "[2022-01-13 20:12:23,404.404] -     INFO: pyffm.pyffm -- Formatting dataframe\n",
      "[2022-01-13 20:14:31,445.445] -     INFO: pyffm.engine.ffm_engine -- Batch predicting...\n",
      " test log loss is : 0.4497985213126\n"
     ]
    }
   ],
   "source": [
    "y_pred=pyffm.predict(X_test_pCTR)\n",
    "\n",
    "print(\" test log loss is :\",log_loss(y_test, y_pred, eps=1e-15))"
   ]
  },
  {
   "cell_type": "markdown",
   "metadata": {},
   "source": [
    "Now train the model with hyper-parameter tuning"
   ]
  },
  {
   "cell_type": "code",
   "execution_count": 19,
   "metadata": {},
   "outputs": [
    {
     "name": "stdout",
     "output_type": "stream",
     "text": [
      "[2022-01-13 21:40:05,947.947] -     INFO: pyffm.pyffm -- Formatting dataframe\n",
      "[2022-01-13 21:48:45,397.397] -     INFO: pyffm.engine.ffm_engine -- Creating ffm model with 24 fields and 5670 features.\n",
      "[2022-01-13 21:48:45,403.403] -     INFO: pyffm.engine.ffm_engine -- Epoch 0\n",
      "[2022-01-13 21:48:45,404.404] -     INFO: pyffm.engine.ffm_engine -- Training on 3600000 rows.\n",
      "[2022-01-13 21:50:56,716.716] -     INFO: pyffm.engine.ffm_engine -- Full train done, took 131.3s\n",
      "[2022-01-13 21:50:56,717.717] -     INFO: pyffm.engine.ffm_engine -- Calculating logloss\n",
      "[2022-01-13 21:50:56,857.857] -     INFO: pyffm.engine.ffm_engine -- Logloss: 0.3897041822863188, \n",
      "Took 0.1s\n",
      "[2022-01-13 21:50:56,857.857] -     INFO: pyffm.engine.ffm_engine -- Epoch 1\n",
      "[2022-01-13 21:50:56,858.858] -     INFO: pyffm.engine.ffm_engine -- Training on 3600000 rows.\n",
      "[2022-01-13 21:53:07,694.694] -     INFO: pyffm.engine.ffm_engine -- Full train done, took 130.8s\n",
      "[2022-01-13 21:53:07,695.695] -     INFO: pyffm.engine.ffm_engine -- Calculating logloss\n",
      "[2022-01-13 21:53:07,833.833] -     INFO: pyffm.engine.ffm_engine -- Logloss: 0.3905407997445851, \n",
      "Took 0.1s\n",
      "[2022-01-13 21:53:07,833.833] -     INFO: pyffm.engine.ffm_engine -- Increasing loss detected, early stopping\n",
      "[2022-01-13 21:53:07,834.834] -     INFO: pyffm.engine.ffm_engine -- Training done, took 262.4s\n",
      "[2022-01-13 21:53:08,026.026] -     INFO: pyffm.pyffm -- Formatting predict data\n",
      "[2022-01-13 21:53:08,027.027] -     INFO: pyffm.pyffm -- Formatting dataframe\n",
      "[2022-01-13 21:55:17,862.862] -     INFO: pyffm.engine.ffm_engine -- Batch predicting...\n",
      "*-*-*-*-*-*-*-*-*-*-*-*-*-*-*-*-*-*-*-*-*-*-*-*-*-*-*-*-*-*-*-*-*-*-*-*-*-*-*-*-*-*-*-*-*-*-*-*-*-*-\n",
      "For values of alpha =  1e-05 The log loss is: 0.4167286919242562\n",
      "[2022-01-13 21:55:25,033.033] -     INFO: pyffm.pyffm -- Formatting dataframe\n",
      "[2022-01-13 22:04:00,732.732] -     INFO: pyffm.engine.ffm_engine -- Creating ffm model with 24 fields and 5670 features.\n",
      "[2022-01-13 22:04:00,738.738] -     INFO: pyffm.engine.ffm_engine -- Epoch 0\n",
      "[2022-01-13 22:04:00,739.739] -     INFO: pyffm.engine.ffm_engine -- Training on 3600000 rows.\n",
      "[2022-01-13 22:06:07,730.730] -     INFO: pyffm.engine.ffm_engine -- Full train done, took 127.0s\n",
      "[2022-01-13 22:06:07,731.731] -     INFO: pyffm.engine.ffm_engine -- Calculating logloss\n",
      "[2022-01-13 22:06:07,863.863] -     INFO: pyffm.engine.ffm_engine -- Logloss: 0.3951345094415538, \n",
      "Took 0.1s\n",
      "[2022-01-13 22:06:07,864.864] -     INFO: pyffm.engine.ffm_engine -- Epoch 1\n",
      "[2022-01-13 22:06:07,864.864] -     INFO: pyffm.engine.ffm_engine -- Training on 3600000 rows.\n",
      "[2022-01-13 22:08:15,911.911] -     INFO: pyffm.engine.ffm_engine -- Full train done, took 128.0s\n",
      "[2022-01-13 22:08:15,912.912] -     INFO: pyffm.engine.ffm_engine -- Calculating logloss\n",
      "[2022-01-13 22:08:16,045.045] -     INFO: pyffm.engine.ffm_engine -- Logloss: 0.3935875504896178, \n",
      "Took 0.1s\n",
      "[2022-01-13 22:08:16,046.046] -     INFO: pyffm.engine.ffm_engine -- Epoch 2\n",
      "[2022-01-13 22:08:16,046.046] -     INFO: pyffm.engine.ffm_engine -- Training on 3600000 rows.\n",
      "[2022-01-13 22:10:24,169.169] -     INFO: pyffm.engine.ffm_engine -- Full train done, took 128.1s\n",
      "[2022-01-13 22:10:24,170.170] -     INFO: pyffm.engine.ffm_engine -- Calculating logloss\n",
      "[2022-01-13 22:10:24,300.300] -     INFO: pyffm.engine.ffm_engine -- Logloss: 0.39206200035225935, \n",
      "Took 0.1s\n",
      "[2022-01-13 22:10:24,301.301] -     INFO: pyffm.engine.ffm_engine -- Epoch 3\n",
      "[2022-01-13 22:10:24,301.301] -     INFO: pyffm.engine.ffm_engine -- Training on 3600000 rows.\n",
      "[2022-01-13 22:12:32,785.785] -     INFO: pyffm.engine.ffm_engine -- Full train done, took 128.5s\n",
      "[2022-01-13 22:12:32,786.786] -     INFO: pyffm.engine.ffm_engine -- Calculating logloss\n",
      "[2022-01-13 22:12:32,918.918] -     INFO: pyffm.engine.ffm_engine -- Logloss: 0.39076195900735083, \n",
      "Took 0.1s\n",
      "[2022-01-13 22:12:32,918.918] -     INFO: pyffm.engine.ffm_engine -- Epoch 4\n",
      "[2022-01-13 22:12:32,919.919] -     INFO: pyffm.engine.ffm_engine -- Training on 3600000 rows.\n",
      "[2022-01-13 22:14:41,585.585] -     INFO: pyffm.engine.ffm_engine -- Full train done, took 128.7s\n",
      "[2022-01-13 22:14:41,586.586] -     INFO: pyffm.engine.ffm_engine -- Calculating logloss\n",
      "[2022-01-13 22:14:41,722.722] -     INFO: pyffm.engine.ffm_engine -- Logloss: 0.38986667235775996, \n",
      "Took 0.1s\n",
      "[2022-01-13 22:14:41,722.722] -     INFO: pyffm.engine.ffm_engine -- Epoch 5\n",
      "[2022-01-13 22:14:41,722.722] -     INFO: pyffm.engine.ffm_engine -- Training on 3600000 rows.\n",
      "[2022-01-13 22:16:52,913.913] -     INFO: pyffm.engine.ffm_engine -- Full train done, took 131.2s\n",
      "[2022-01-13 22:16:52,914.914] -     INFO: pyffm.engine.ffm_engine -- Calculating logloss\n",
      "[2022-01-13 22:16:53,045.045] -     INFO: pyffm.engine.ffm_engine -- Logloss: 0.38900376730183917, \n",
      "Took 0.1s\n",
      "[2022-01-13 22:16:53,045.045] -     INFO: pyffm.engine.ffm_engine -- Epoch 6\n",
      "[2022-01-13 22:16:53,046.046] -     INFO: pyffm.engine.ffm_engine -- Training on 3600000 rows.\n",
      "[2022-01-13 22:19:02,841.841] -     INFO: pyffm.engine.ffm_engine -- Full train done, took 129.8s\n",
      "[2022-01-13 22:19:02,842.842] -     INFO: pyffm.engine.ffm_engine -- Calculating logloss\n",
      "[2022-01-13 22:19:02,978.978] -     INFO: pyffm.engine.ffm_engine -- Logloss: 0.38829525679897087, \n",
      "Took 0.1s\n",
      "[2022-01-13 22:19:02,978.978] -     INFO: pyffm.engine.ffm_engine -- Epoch 7\n",
      "[2022-01-13 22:19:02,979.979] -     INFO: pyffm.engine.ffm_engine -- Training on 3600000 rows.\n",
      "[2022-01-13 22:21:11,949.949] -     INFO: pyffm.engine.ffm_engine -- Full train done, took 129.0s\n",
      "[2022-01-13 22:21:11,950.950] -     INFO: pyffm.engine.ffm_engine -- Calculating logloss\n",
      "[2022-01-13 22:21:12,083.083] -     INFO: pyffm.engine.ffm_engine -- Logloss: 0.38777805346116145, \n",
      "Took 0.1s\n",
      "[2022-01-13 22:21:12,084.084] -     INFO: pyffm.engine.ffm_engine -- Epoch 8\n",
      "[2022-01-13 22:21:12,084.084] -     INFO: pyffm.engine.ffm_engine -- Training on 3600000 rows.\n",
      "[2022-01-13 22:23:21,027.027] -     INFO: pyffm.engine.ffm_engine -- Full train done, took 128.9s\n",
      "[2022-01-13 22:23:21,027.027] -     INFO: pyffm.engine.ffm_engine -- Calculating logloss\n",
      "[2022-01-13 22:23:21,170.170] -     INFO: pyffm.engine.ffm_engine -- Logloss: 0.38726713188765854, \n",
      "Took 0.1s\n",
      "[2022-01-13 22:23:21,171.171] -     INFO: pyffm.engine.ffm_engine -- Epoch 9\n",
      "[2022-01-13 22:23:21,171.171] -     INFO: pyffm.engine.ffm_engine -- Training on 3600000 rows.\n",
      "[2022-01-13 22:25:29,951.951] -     INFO: pyffm.engine.ffm_engine -- Full train done, took 128.8s\n",
      "[2022-01-13 22:25:29,952.952] -     INFO: pyffm.engine.ffm_engine -- Calculating logloss\n",
      "[2022-01-13 22:25:30,085.085] -     INFO: pyffm.engine.ffm_engine -- Logloss: 0.3867326564573953, \n",
      "Took 0.1s\n",
      "[2022-01-13 22:25:30,086.086] -     INFO: pyffm.engine.ffm_engine -- Training done, took 1289.3s\n",
      "[2022-01-13 22:25:30,258.258] -     INFO: pyffm.pyffm -- Formatting predict data\n",
      "[2022-01-13 22:25:30,258.258] -     INFO: pyffm.pyffm -- Formatting dataframe\n",
      "[2022-01-13 22:27:39,388.388] -     INFO: pyffm.engine.ffm_engine -- Batch predicting...\n",
      "*-*-*-*-*-*-*-*-*-*-*-*-*-*-*-*-*-*-*-*-*-*-*-*-*-*-*-*-*-*-*-*-*-*-*-*-*-*-*-*-*-*-*-*-*-*-*-*-*-*-\n",
      "For values of alpha =  0.0001 The log loss is: 0.4386966204582215\n",
      "[2022-01-13 22:27:46,335.335] -     INFO: pyffm.pyffm -- Formatting dataframe\n",
      "[2022-01-13 22:36:18,953.953] -     INFO: pyffm.engine.ffm_engine -- Creating ffm model with 24 fields and 5670 features.\n",
      "[2022-01-13 22:36:18,959.959] -     INFO: pyffm.engine.ffm_engine -- Epoch 0\n",
      "[2022-01-13 22:36:18,960.960] -     INFO: pyffm.engine.ffm_engine -- Training on 3600000 rows.\n",
      "[2022-01-13 22:38:25,534.534] -     INFO: pyffm.engine.ffm_engine -- Full train done, took 126.6s\n",
      "[2022-01-13 22:38:25,535.535] -     INFO: pyffm.engine.ffm_engine -- Calculating logloss\n",
      "[2022-01-13 22:38:25,665.665] -     INFO: pyffm.engine.ffm_engine -- Logloss: 0.38733567032590516, \n",
      "Took 0.1s\n",
      "[2022-01-13 22:38:25,665.665] -     INFO: pyffm.engine.ffm_engine -- Epoch 1\n",
      "[2022-01-13 22:38:25,666.666] -     INFO: pyffm.engine.ffm_engine -- Training on 3600000 rows.\n",
      "[2022-01-13 22:40:32,747.747] -     INFO: pyffm.engine.ffm_engine -- Full train done, took 127.1s\n",
      "[2022-01-13 22:40:32,748.748] -     INFO: pyffm.engine.ffm_engine -- Calculating logloss\n",
      "[2022-01-13 22:40:32,880.880] -     INFO: pyffm.engine.ffm_engine -- Logloss: 0.3866574608056582, \n",
      "Took 0.1s\n",
      "[2022-01-13 22:40:32,881.881] -     INFO: pyffm.engine.ffm_engine -- Epoch 2\n",
      "[2022-01-13 22:40:32,881.881] -     INFO: pyffm.engine.ffm_engine -- Training on 3600000 rows.\n",
      "[2022-01-13 22:42:40,201.201] -     INFO: pyffm.engine.ffm_engine -- Full train done, took 127.3s\n",
      "[2022-01-13 22:42:40,201.201] -     INFO: pyffm.engine.ffm_engine -- Calculating logloss\n",
      "[2022-01-13 22:42:40,332.332] -     INFO: pyffm.engine.ffm_engine -- Logloss: 0.387115160760046, \n",
      "Took 0.1s\n",
      "[2022-01-13 22:42:40,332.332] -     INFO: pyffm.engine.ffm_engine -- Increasing loss detected, early stopping\n",
      "[2022-01-13 22:42:40,333.333] -     INFO: pyffm.engine.ffm_engine -- Training done, took 381.4s\n",
      "[2022-01-13 22:42:40,525.525] -     INFO: pyffm.pyffm -- Formatting predict data\n",
      "[2022-01-13 22:42:40,526.526] -     INFO: pyffm.pyffm -- Formatting dataframe\n",
      "[2022-01-13 22:44:49,377.377] -     INFO: pyffm.engine.ffm_engine -- Batch predicting...\n",
      "*-*-*-*-*-*-*-*-*-*-*-*-*-*-*-*-*-*-*-*-*-*-*-*-*-*-*-*-*-*-*-*-*-*-*-*-*-*-*-*-*-*-*-*-*-*-*-*-*-*-\n",
      "For values of alpha =  0.001 The log loss is: 0.41508232910707316\n",
      "[2022-01-13 22:44:56,249.249] -     INFO: pyffm.pyffm -- Formatting dataframe\n",
      "[2022-01-13 22:53:31,424.424] -     INFO: pyffm.engine.ffm_engine -- Creating ffm model with 24 fields and 5670 features.\n",
      "[2022-01-13 22:53:31,431.431] -     INFO: pyffm.engine.ffm_engine -- Epoch 0\n",
      "[2022-01-13 22:53:31,431.431] -     INFO: pyffm.engine.ffm_engine -- Training on 3600000 rows.\n",
      "[2022-01-13 22:55:41,705.705] -     INFO: pyffm.engine.ffm_engine -- Full train done, took 130.3s\n",
      "[2022-01-13 22:55:41,706.706] -     INFO: pyffm.engine.ffm_engine -- Calculating logloss\n",
      "[2022-01-13 22:55:41,837.837] -     INFO: pyffm.engine.ffm_engine -- Logloss: 0.3951969559657198, \n",
      "Took 0.1s\n",
      "[2022-01-13 22:55:41,838.838] -     INFO: pyffm.engine.ffm_engine -- Epoch 1\n",
      "[2022-01-13 22:55:41,838.838] -     INFO: pyffm.engine.ffm_engine -- Training on 3600000 rows.\n",
      "[2022-01-13 22:57:49,822.822] -     INFO: pyffm.engine.ffm_engine -- Full train done, took 128.0s\n",
      "[2022-01-13 22:57:49,822.822] -     INFO: pyffm.engine.ffm_engine -- Calculating logloss\n",
      "[2022-01-13 22:57:49,956.956] -     INFO: pyffm.engine.ffm_engine -- Logloss: 0.3954023896019757, \n",
      "Took 0.1s\n",
      "[2022-01-13 22:57:49,956.956] -     INFO: pyffm.engine.ffm_engine -- Increasing loss detected, early stopping\n",
      "[2022-01-13 22:57:49,956.956] -     INFO: pyffm.engine.ffm_engine -- Training done, took 258.5s\n",
      "[2022-01-13 22:57:50,118.118] -     INFO: pyffm.pyffm -- Formatting predict data\n",
      "[2022-01-13 22:57:50,119.119] -     INFO: pyffm.pyffm -- Formatting dataframe\n",
      "[2022-01-13 22:59:59,811.811] -     INFO: pyffm.engine.ffm_engine -- Batch predicting...\n",
      "*-*-*-*-*-*-*-*-*-*-*-*-*-*-*-*-*-*-*-*-*-*-*-*-*-*-*-*-*-*-*-*-*-*-*-*-*-*-*-*-*-*-*-*-*-*-*-*-*-*-\n",
      "For values of alpha =  0.01 The log loss is: 0.4063496819446322\n",
      "[2022-01-13 23:00:06,745.745] -     INFO: pyffm.pyffm -- Formatting dataframe\n",
      "[2022-01-13 23:08:42,097.097] -     INFO: pyffm.engine.ffm_engine -- Creating ffm model with 24 fields and 5670 features.\n",
      "[2022-01-13 23:08:42,105.105] -     INFO: pyffm.engine.ffm_engine -- Epoch 0\n",
      "[2022-01-13 23:08:42,106.106] -     INFO: pyffm.engine.ffm_engine -- Training on 3600000 rows.\n",
      "[2022-01-13 23:10:51,566.566] -     INFO: pyffm.engine.ffm_engine -- Full train done, took 129.5s\n",
      "[2022-01-13 23:10:51,566.566] -     INFO: pyffm.engine.ffm_engine -- Calculating logloss\n",
      "[2022-01-13 23:10:51,698.698] -     INFO: pyffm.engine.ffm_engine -- Logloss: 0.40971141235444813, \n",
      "Took 0.1s\n",
      "[2022-01-13 23:10:51,698.698] -     INFO: pyffm.engine.ffm_engine -- Epoch 1\n",
      "[2022-01-13 23:10:51,699.699] -     INFO: pyffm.engine.ffm_engine -- Training on 3600000 rows.\n",
      "[2022-01-13 23:12:59,495.495] -     INFO: pyffm.engine.ffm_engine -- Full train done, took 127.8s\n",
      "[2022-01-13 23:12:59,496.496] -     INFO: pyffm.engine.ffm_engine -- Calculating logloss\n",
      "[2022-01-13 23:12:59,629.629] -     INFO: pyffm.engine.ffm_engine -- Logloss: 0.4098675716594707, \n",
      "Took 0.1s\n",
      "[2022-01-13 23:12:59,629.629] -     INFO: pyffm.engine.ffm_engine -- Increasing loss detected, early stopping\n",
      "[2022-01-13 23:12:59,629.629] -     INFO: pyffm.engine.ffm_engine -- Training done, took 257.5s\n",
      "[2022-01-13 23:12:59,806.806] -     INFO: pyffm.pyffm -- Formatting predict data\n",
      "[2022-01-13 23:12:59,807.807] -     INFO: pyffm.pyffm -- Formatting dataframe\n",
      "[2022-01-13 23:15:09,086.086] -     INFO: pyffm.engine.ffm_engine -- Batch predicting...\n",
      "*-*-*-*-*-*-*-*-*-*-*-*-*-*-*-*-*-*-*-*-*-*-*-*-*-*-*-*-*-*-*-*-*-*-*-*-*-*-*-*-*-*-*-*-*-*-*-*-*-*-\n",
      "For values of alpha =  0.1 The log loss is: 0.42340227077734527\n",
      "[2022-01-13 23:15:15,955.955] -     INFO: pyffm.pyffm -- Formatting dataframe\n",
      "[2022-01-13 23:23:50,477.477] -     INFO: pyffm.engine.ffm_engine -- Creating ffm model with 24 fields and 5670 features.\n",
      "[2022-01-13 23:23:50,484.484] -     INFO: pyffm.engine.ffm_engine -- Epoch 0\n",
      "[2022-01-13 23:23:50,485.485] -     INFO: pyffm.engine.ffm_engine -- Training on 3600000 rows.\n",
      "[2022-01-13 23:26:01,752.752] -     INFO: pyffm.engine.ffm_engine -- Full train done, took 131.3s\n",
      "[2022-01-13 23:26:01,752.752] -     INFO: pyffm.engine.ffm_engine -- Calculating logloss\n",
      "[2022-01-13 23:26:01,892.892] -     INFO: pyffm.engine.ffm_engine -- Logloss: 0.4241403804811776, \n",
      "Took 0.1s\n",
      "[2022-01-13 23:26:01,892.892] -     INFO: pyffm.engine.ffm_engine -- Epoch 1\n",
      "[2022-01-13 23:26:01,893.893] -     INFO: pyffm.engine.ffm_engine -- Training on 3600000 rows.\n",
      "[2022-01-13 23:28:12,851.851] -     INFO: pyffm.engine.ffm_engine -- Full train done, took 131.0s\n",
      "[2022-01-13 23:28:12,852.852] -     INFO: pyffm.engine.ffm_engine -- Calculating logloss\n",
      "[2022-01-13 23:28:12,993.993] -     INFO: pyffm.engine.ffm_engine -- Logloss: 0.4240866794445088, \n",
      "Took 0.1s\n",
      "[2022-01-13 23:28:12,993.993] -     INFO: pyffm.engine.ffm_engine -- Epoch 2\n",
      "[2022-01-13 23:28:12,994.994] -     INFO: pyffm.engine.ffm_engine -- Training on 3600000 rows.\n",
      "[2022-01-13 23:30:21,666.666] -     INFO: pyffm.engine.ffm_engine -- Full train done, took 128.7s\n",
      "[2022-01-13 23:30:21,667.667] -     INFO: pyffm.engine.ffm_engine -- Calculating logloss\n",
      "[2022-01-13 23:30:21,805.805] -     INFO: pyffm.engine.ffm_engine -- Logloss: 0.4239581023121496, \n",
      "Took 0.1s\n",
      "[2022-01-13 23:30:21,806.806] -     INFO: pyffm.engine.ffm_engine -- Epoch 3\n",
      "[2022-01-13 23:30:21,806.806] -     INFO: pyffm.engine.ffm_engine -- Training on 3600000 rows.\n",
      "[2022-01-13 23:32:30,887.887] -     INFO: pyffm.engine.ffm_engine -- Full train done, took 129.1s\n",
      "[2022-01-13 23:32:30,887.887] -     INFO: pyffm.engine.ffm_engine -- Calculating logloss\n",
      "[2022-01-13 23:32:31,024.024] -     INFO: pyffm.engine.ffm_engine -- Logloss: 0.4238389146271476, \n",
      "Took 0.1s\n",
      "[2022-01-13 23:32:31,025.025] -     INFO: pyffm.engine.ffm_engine -- Epoch 4\n",
      "[2022-01-13 23:32:31,025.025] -     INFO: pyffm.engine.ffm_engine -- Training on 3600000 rows.\n",
      "[2022-01-13 23:34:40,285.285] -     INFO: pyffm.engine.ffm_engine -- Full train done, took 129.3s\n",
      "[2022-01-13 23:34:40,286.286] -     INFO: pyffm.engine.ffm_engine -- Calculating logloss\n",
      "[2022-01-13 23:34:40,432.432] -     INFO: pyffm.engine.ffm_engine -- Logloss: 0.4237387377941168, \n",
      "Took 0.1s\n",
      "[2022-01-13 23:34:40,432.432] -     INFO: pyffm.engine.ffm_engine -- Epoch 5\n",
      "[2022-01-13 23:34:40,433.433] -     INFO: pyffm.engine.ffm_engine -- Training on 3600000 rows.\n",
      "[2022-01-13 23:36:49,662.662] -     INFO: pyffm.engine.ffm_engine -- Full train done, took 129.2s\n",
      "[2022-01-13 23:36:49,663.663] -     INFO: pyffm.engine.ffm_engine -- Calculating logloss\n",
      "[2022-01-13 23:36:49,812.812] -     INFO: pyffm.engine.ffm_engine -- Logloss: 0.42365624280716746, \n",
      "Took 0.1s\n",
      "[2022-01-13 23:36:49,813.813] -     INFO: pyffm.engine.ffm_engine -- Epoch 6\n",
      "[2022-01-13 23:36:49,813.813] -     INFO: pyffm.engine.ffm_engine -- Training on 3600000 rows.\n",
      "[2022-01-13 23:38:59,230.230] -     INFO: pyffm.engine.ffm_engine -- Full train done, took 129.4s\n",
      "[2022-01-13 23:38:59,231.231] -     INFO: pyffm.engine.ffm_engine -- Calculating logloss\n",
      "[2022-01-13 23:38:59,383.383] -     INFO: pyffm.engine.ffm_engine -- Logloss: 0.42358826055194154, \n",
      "Took 0.2s\n",
      "[2022-01-13 23:38:59,384.384] -     INFO: pyffm.engine.ffm_engine -- Epoch 7\n",
      "[2022-01-13 23:38:59,384.384] -     INFO: pyffm.engine.ffm_engine -- Training on 3600000 rows.\n",
      "[2022-01-13 23:41:09,379.379] -     INFO: pyffm.engine.ffm_engine -- Full train done, took 130.0s\n",
      "[2022-01-13 23:41:09,380.380] -     INFO: pyffm.engine.ffm_engine -- Calculating logloss\n",
      "[2022-01-13 23:41:09,518.518] -     INFO: pyffm.engine.ffm_engine -- Logloss: 0.4235322038302843, \n",
      "Took 0.1s\n",
      "[2022-01-13 23:41:09,519.519] -     INFO: pyffm.engine.ffm_engine -- Epoch 8\n",
      "[2022-01-13 23:41:09,519.519] -     INFO: pyffm.engine.ffm_engine -- Training on 3600000 rows.\n",
      "[2022-01-13 23:43:18,710.710] -     INFO: pyffm.engine.ffm_engine -- Full train done, took 129.2s\n",
      "[2022-01-13 23:43:18,711.711] -     INFO: pyffm.engine.ffm_engine -- Calculating logloss\n",
      "[2022-01-13 23:43:18,854.854] -     INFO: pyffm.engine.ffm_engine -- Logloss: 0.4234857869564155, \n",
      "Took 0.1s\n",
      "[2022-01-13 23:43:18,855.855] -     INFO: pyffm.engine.ffm_engine -- Epoch 9\n",
      "[2022-01-13 23:43:18,855.855] -     INFO: pyffm.engine.ffm_engine -- Training on 3600000 rows.\n",
      "[2022-01-13 23:45:28,105.105] -     INFO: pyffm.engine.ffm_engine -- Full train done, took 129.2s\n",
      "[2022-01-13 23:45:28,106.106] -     INFO: pyffm.engine.ffm_engine -- Calculating logloss\n",
      "[2022-01-13 23:45:28,245.245] -     INFO: pyffm.engine.ffm_engine -- Logloss: 0.4234471737489026, \n",
      "Took 0.1s\n",
      "[2022-01-13 23:45:28,246.246] -     INFO: pyffm.engine.ffm_engine -- Training done, took 1297.8s\n",
      "[2022-01-13 23:45:28,406.406] -     INFO: pyffm.pyffm -- Formatting predict data\n",
      "[2022-01-13 23:45:28,406.406] -     INFO: pyffm.pyffm -- Formatting dataframe\n",
      "[2022-01-13 23:47:38,913.913] -     INFO: pyffm.engine.ffm_engine -- Batch predicting...\n",
      "*-*-*-*-*-*-*-*-*-*-*-*-*-*-*-*-*-*-*-*-*-*-*-*-*-*-*-*-*-*-*-*-*-*-*-*-*-*-*-*-*-*-*-*-*-*-*-*-*-*-\n",
      "For values of alpha =  10 The log loss is: 0.44653843515257885\n",
      "[2022-01-13 23:47:45,783.783] -     INFO: pyffm.pyffm -- Formatting dataframe\n",
      "[2022-01-13 23:56:25,428.428] -     INFO: pyffm.engine.ffm_engine -- Creating ffm model with 24 fields and 5670 features.\n",
      "[2022-01-13 23:56:25,435.435] -     INFO: pyffm.engine.ffm_engine -- Epoch 0\n",
      "[2022-01-13 23:56:25,436.436] -     INFO: pyffm.engine.ffm_engine -- Training on 3600000 rows.\n",
      "[2022-01-13 23:58:31,887.887] -     INFO: pyffm.engine.ffm_engine -- Full train done, took 126.4s\n",
      "[2022-01-13 23:58:31,887.887] -     INFO: pyffm.engine.ffm_engine -- Calculating logloss\n",
      "[2022-01-13 23:58:32,019.019] -     INFO: pyffm.engine.ffm_engine -- Logloss: 0.42535300583593716, \n",
      "Took 0.1s\n",
      "[2022-01-13 23:58:32,019.019] -     INFO: pyffm.engine.ffm_engine -- Epoch 1\n",
      "[2022-01-13 23:58:32,020.020] -     INFO: pyffm.engine.ffm_engine -- Training on 3600000 rows.\n",
      "[2022-01-14 00:00:39,475.475] -     INFO: pyffm.engine.ffm_engine -- Full train done, took 127.5s\n",
      "[2022-01-14 00:00:39,476.476] -     INFO: pyffm.engine.ffm_engine -- Calculating logloss\n",
      "[2022-01-14 00:00:39,602.602] -     INFO: pyffm.engine.ffm_engine -- Logloss: 0.4250152585016787, \n",
      "Took 0.1s\n",
      "[2022-01-14 00:00:39,603.603] -     INFO: pyffm.engine.ffm_engine -- Epoch 2\n",
      "[2022-01-14 00:00:39,603.603] -     INFO: pyffm.engine.ffm_engine -- Training on 3600000 rows.\n",
      "[2022-01-14 00:02:46,726.726] -     INFO: pyffm.engine.ffm_engine -- Full train done, took 127.1s\n",
      "[2022-01-14 00:02:46,726.726] -     INFO: pyffm.engine.ffm_engine -- Calculating logloss\n",
      "[2022-01-14 00:02:46,857.857] -     INFO: pyffm.engine.ffm_engine -- Logloss: 0.42470852518918145, \n",
      "Took 0.1s\n",
      "[2022-01-14 00:02:46,858.858] -     INFO: pyffm.engine.ffm_engine -- Epoch 3\n",
      "[2022-01-14 00:02:46,858.858] -     INFO: pyffm.engine.ffm_engine -- Training on 3600000 rows.\n",
      "[2022-01-14 00:04:54,547.547] -     INFO: pyffm.engine.ffm_engine -- Full train done, took 127.7s\n",
      "[2022-01-14 00:04:54,548.548] -     INFO: pyffm.engine.ffm_engine -- Calculating logloss\n",
      "[2022-01-14 00:04:54,680.680] -     INFO: pyffm.engine.ffm_engine -- Logloss: 0.42455838048592864, \n",
      "Took 0.1s\n",
      "[2022-01-14 00:04:54,680.680] -     INFO: pyffm.engine.ffm_engine -- Epoch 4\n",
      "[2022-01-14 00:04:54,681.681] -     INFO: pyffm.engine.ffm_engine -- Training on 3600000 rows.\n",
      "[2022-01-14 00:07:02,702.702] -     INFO: pyffm.engine.ffm_engine -- Full train done, took 128.0s\n",
      "[2022-01-14 00:07:02,702.702] -     INFO: pyffm.engine.ffm_engine -- Calculating logloss\n",
      "[2022-01-14 00:07:02,837.837] -     INFO: pyffm.engine.ffm_engine -- Logloss: 0.4245590243952669, \n",
      "Took 0.1s\n",
      "[2022-01-14 00:07:02,838.838] -     INFO: pyffm.engine.ffm_engine -- Increasing loss detected, early stopping\n",
      "[2022-01-14 00:07:02,838.838] -     INFO: pyffm.engine.ffm_engine -- Training done, took 637.4s\n",
      "[2022-01-14 00:07:03,028.028] -     INFO: pyffm.pyffm -- Formatting predict data\n",
      "[2022-01-14 00:07:03,029.029] -     INFO: pyffm.pyffm -- Formatting dataframe\n",
      "[2022-01-14 00:09:14,107.107] -     INFO: pyffm.engine.ffm_engine -- Batch predicting...\n",
      "*-*-*-*-*-*-*-*-*-*-*-*-*-*-*-*-*-*-*-*-*-*-*-*-*-*-*-*-*-*-*-*-*-*-*-*-*-*-*-*-*-*-*-*-*-*-*-*-*-*-\n",
      "For values of alpha =  100 The log loss is: 0.4600712547174084\n"
     ]
    }
   ],
   "source": [
    "from pyffm import PyFFM\n",
    "from sklearn.metrics import log_loss\n",
    "import matplotlib.pyplot as plt\n",
    "\n",
    "#The only parameter here is the is the regularization Lambda so we will hyper-parameter tune wrt this values \n",
    "lamda=[0.00001,0.0001,0.001,0.01,0.1,10,100]\n",
    "\n",
    "# Now train the model \n",
    "log_error_array=[]\n",
    "for i in lamda:\n",
    "    \n",
    "    #set the parameters\n",
    "    training_params = {'epochs': 10, 'reg_lambda': i, 'sigmoid':True, \"parallel\": True, 'early_stop': True}\n",
    "    pyffm = PyFFM(model='ffm', training_params=training_params)\n",
    "    \n",
    "    #now train the model\n",
    "    pyffm.train(X_train_pCTR)\n",
    "    predict_y=pyffm.predict(X_test_pCTR)\n",
    "    \n",
    "    #save the log-loss in a list\n",
    "    log_error_array.append(log_loss(y_test, predict_y, eps=1e-15))\n",
    "    print(\"*-\"*50)\n",
    "    print('For values of alpha = ', i, \"The log loss is:\",log_loss(y_test, predict_y, eps=1e-15))\n"
   ]
  },
  {
   "cell_type": "code",
   "execution_count": 21,
   "metadata": {},
   "outputs": [
    {
     "data": {
      "image/png": "[encoded data removed]",
      "text/plain": [
       "<Figure size 432x288 with 1 Axes>"
      ]
     },
     "metadata": {
      "needs_background": "light"
     },
     "output_type": "display_data"
    }
   ],
   "source": [
    "import numpy as np\n",
    "#plot the log-loss for each lamda value\n",
    "fig, ax = plt.subplots()\n",
    "ax.plot(lamda, log_error_array,c='g')\n",
    "ax.set_xscale('log')\n",
    "for i, txt in enumerate(np.round(log_error_array,3)):\n",
    "    ax.annotate((lamda[i],np.round(txt,3)), (lamda[i],log_error_array[i]))\n",
    "plt.grid()\n",
    "plt.title(\"Cross Validation Error for each alpha\")\n",
    "plt.xlabel(\"Lamda i's -->\")\n",
    "plt.ylabel(\"Error measure -->\")\n",
    "plt.show()"
   ]
  },
  {
   "cell_type": "code",
   "execution_count": 25,
   "metadata": {},
   "outputs": [
    {
     "name": "stdout",
     "output_type": "stream",
     "text": [
      "[2022-01-14 11:33:02,774.774] -     INFO: pyffm.pyffm -- Formatting dataframe\n",
      "[2022-01-14 11:41:48,316.316] -     INFO: pyffm.engine.ffm_engine -- Creating ffm model with 24 fields and 5670 features.\n",
      "[2022-01-14 11:41:48,323.323] -     INFO: pyffm.engine.ffm_engine -- Epoch 0\n",
      "[2022-01-14 11:41:48,324.324] -     INFO: pyffm.engine.ffm_engine -- Training on 3600000 rows.\n",
      "[2022-01-14 11:44:00,068.068] -     INFO: pyffm.engine.ffm_engine -- Full train done, took 131.7s\n",
      "[2022-01-14 11:44:00,068.068] -     INFO: pyffm.engine.ffm_engine -- Calculating logloss\n",
      "[2022-01-14 11:44:00,205.205] -     INFO: pyffm.engine.ffm_engine -- Logloss: 0.42340242080525103, \n",
      "Took 0.1s\n",
      "[2022-01-14 11:44:00,206.206] -     INFO: pyffm.engine.ffm_engine -- Epoch 1\n",
      "[2022-01-14 11:44:00,206.206] -     INFO: pyffm.engine.ffm_engine -- Training on 3600000 rows.\n",
      "[2022-01-14 11:46:10,908.908] -     INFO: pyffm.engine.ffm_engine -- Full train done, took 130.7s\n",
      "[2022-01-14 11:46:10,909.909] -     INFO: pyffm.engine.ffm_engine -- Calculating logloss\n",
      "[2022-01-14 11:46:11,051.051] -     INFO: pyffm.engine.ffm_engine -- Logloss: 0.4233457570224881, \n",
      "Took 0.1s\n",
      "[2022-01-14 11:46:11,052.052] -     INFO: pyffm.engine.ffm_engine -- Epoch 2\n",
      "[2022-01-14 11:46:11,053.053] -     INFO: pyffm.engine.ffm_engine -- Training on 3600000 rows.\n",
      "[2022-01-14 11:48:20,483.483] -     INFO: pyffm.engine.ffm_engine -- Full train done, took 129.4s\n",
      "[2022-01-14 11:48:20,484.484] -     INFO: pyffm.engine.ffm_engine -- Calculating logloss\n",
      "[2022-01-14 11:48:20,621.621] -     INFO: pyffm.engine.ffm_engine -- Logloss: 0.42322209886659545, \n",
      "Took 0.1s\n",
      "[2022-01-14 11:48:20,621.621] -     INFO: pyffm.engine.ffm_engine -- Epoch 3\n",
      "[2022-01-14 11:48:20,622.622] -     INFO: pyffm.engine.ffm_engine -- Training on 3600000 rows.\n",
      "[2022-01-14 11:50:29,718.718] -     INFO: pyffm.engine.ffm_engine -- Full train done, took 129.1s\n",
      "[2022-01-14 11:50:29,718.718] -     INFO: pyffm.engine.ffm_engine -- Calculating logloss\n",
      "[2022-01-14 11:50:29,857.857] -     INFO: pyffm.engine.ffm_engine -- Logloss: 0.42310948646304414, \n",
      "Took 0.1s\n",
      "[2022-01-14 11:50:29,857.857] -     INFO: pyffm.engine.ffm_engine -- Epoch 4\n",
      "[2022-01-14 11:50:29,858.858] -     INFO: pyffm.engine.ffm_engine -- Training on 3600000 rows.\n",
      "[2022-01-14 11:52:38,170.170] -     INFO: pyffm.engine.ffm_engine -- Full train done, took 128.3s\n",
      "[2022-01-14 11:52:38,171.171] -     INFO: pyffm.engine.ffm_engine -- Calculating logloss\n",
      "[2022-01-14 11:52:38,309.309] -     INFO: pyffm.engine.ffm_engine -- Logloss: 0.4230163079657298, \n",
      "Took 0.1s\n",
      "[2022-01-14 11:52:38,310.310] -     INFO: pyffm.engine.ffm_engine -- Epoch 5\n",
      "[2022-01-14 11:52:38,310.310] -     INFO: pyffm.engine.ffm_engine -- Training on 3600000 rows.\n",
      "[2022-01-14 11:54:46,900.900] -     INFO: pyffm.engine.ffm_engine -- Full train done, took 128.6s\n",
      "[2022-01-14 11:54:46,900.900] -     INFO: pyffm.engine.ffm_engine -- Calculating logloss\n",
      "[2022-01-14 11:54:47,051.051] -     INFO: pyffm.engine.ffm_engine -- Logloss: 0.42294060333534356, \n",
      "Took 0.2s\n",
      "[2022-01-14 11:54:47,052.052] -     INFO: pyffm.engine.ffm_engine -- Epoch 6\n",
      "[2022-01-14 11:54:47,052.052] -     INFO: pyffm.engine.ffm_engine -- Training on 3600000 rows.\n",
      "[2022-01-14 11:56:55,083.083] -     INFO: pyffm.engine.ffm_engine -- Full train done, took 128.0s\n",
      "[2022-01-14 11:56:55,084.084] -     INFO: pyffm.engine.ffm_engine -- Calculating logloss\n",
      "[2022-01-14 11:56:55,221.221] -     INFO: pyffm.engine.ffm_engine -- Logloss: 0.42287921415306884, \n",
      "Took 0.1s\n",
      "[2022-01-14 11:56:55,222.222] -     INFO: pyffm.engine.ffm_engine -- Epoch 7\n",
      "[2022-01-14 11:56:55,222.222] -     INFO: pyffm.engine.ffm_engine -- Training on 3600000 rows.\n",
      "[2022-01-14 11:59:03,749.749] -     INFO: pyffm.engine.ffm_engine -- Full train done, took 128.5s\n",
      "[2022-01-14 11:59:03,750.750] -     INFO: pyffm.engine.ffm_engine -- Calculating logloss\n",
      "[2022-01-14 11:59:03,882.882] -     INFO: pyffm.engine.ffm_engine -- Logloss: 0.422829295814501, \n",
      "Took 0.1s\n",
      "[2022-01-14 11:59:03,883.883] -     INFO: pyffm.engine.ffm_engine -- Epoch 8\n",
      "[2022-01-14 11:59:03,883.883] -     INFO: pyffm.engine.ffm_engine -- Training on 3600000 rows.\n",
      "[2022-01-14 12:01:13,417.417] -     INFO: pyffm.engine.ffm_engine -- Full train done, took 129.5s\n",
      "[2022-01-14 12:01:13,418.418] -     INFO: pyffm.engine.ffm_engine -- Calculating logloss\n",
      "[2022-01-14 12:01:13,559.559] -     INFO: pyffm.engine.ffm_engine -- Logloss: 0.4227885260321063, \n",
      "Took 0.1s\n",
      "[2022-01-14 12:01:13,560.560] -     INFO: pyffm.engine.ffm_engine -- Epoch 9\n",
      "[2022-01-14 12:01:13,560.560] -     INFO: pyffm.engine.ffm_engine -- Training on 3600000 rows.\n",
      "[2022-01-14 12:03:22,093.093] -     INFO: pyffm.engine.ffm_engine -- Full train done, took 128.5s\n",
      "[2022-01-14 12:03:22,094.094] -     INFO: pyffm.engine.ffm_engine -- Calculating logloss\n",
      "[2022-01-14 12:03:22,230.230] -     INFO: pyffm.engine.ffm_engine -- Logloss: 0.42275512437905227, \n",
      "Took 0.1s\n",
      "[2022-01-14 12:03:22,230.230] -     INFO: pyffm.engine.ffm_engine -- Training done, took 1293.9s\n",
      "[2022-01-14 12:03:22,388.388] -     INFO: pyffm.pyffm -- Formatting predict data\n",
      "[2022-01-14 12:03:22,389.389] -     INFO: pyffm.pyffm -- Formatting dataframe\n",
      "[2022-01-14 12:12:06,682.682] -     INFO: pyffm.engine.ffm_engine -- Batch predicting...\n",
      "For values of best alpha =  0.01 The train log loss is: 0.4592385767035214\n",
      "[2022-01-14 12:12:34,016.016] -     INFO: pyffm.pyffm -- Formatting predict data\n",
      "[2022-01-14 12:12:34,017.017] -     INFO: pyffm.pyffm -- Formatting dataframe\n",
      "[2022-01-14 12:14:43,514.514] -     INFO: pyffm.engine.ffm_engine -- Batch predicting...\n",
      "For values of best alpha =  0.01 The test log loss is: 0.44525270467094796\n",
      "Total number of data points : 1000000\n"
     ]
    }
   ],
   "source": [
    "#train the model with best parameters\n",
    "best_lamda = np.argmin(log_error_array)\n",
    "training_params = {'epochs': 10, 'reg_lambda': best_lamda, 'sigmoid':True, \"parallel\": True, 'early_stop': True}\n",
    "pyffm = PyFFM(model='ffm', training_params=training_params)\n",
    "pyffm.train(X_train_pCTR)\n",
    "\n",
    "#predict the model with best parameters\n",
    "predict_y = pyffm.predict(X_train_pCTR)\n",
    "print('For values of best alpha = ', lamda[best_lamda], \"The train log loss is:\",log_loss(y_train, predict_y, eps=1e-15))\n",
    "predict_y = pyffm.predict(X_test_pCTR)\n",
    "print('For values of best alpha = ', lamda[best_lamda], \"The test log loss is:\",log_loss(y_test, predict_y, eps=1e-15))\n",
    "\n",
    "#get the class labels and print the total number of predicted points\n",
    "print(\"Total number of data points :\", len(predict_y))\n"
   ]
  },
  {
   "cell_type": "code",
   "execution_count": 32,
   "metadata": {},
   "outputs": [],
   "source": [
    "predict_y_val=[1 if val>=0.15 else 0 for val in predict_y]"
   ]
  },
  {
   "cell_type": "code",
   "execution_count": 33,
   "metadata": {},
   "outputs": [
    {
     "data": {
      "image/png": "[encoded data removed]",
      "text/plain": [
       "<Figure size 1440x288 with 6 Axes>"
      ]
     },
     "metadata": {
      "needs_background": "light"
     },
     "output_type": "display_data"
    }
   ],
   "source": [
    "#plot the confusion matrix\n",
    "plot_confusion_matrix(y_test, predict_y_val)"
   ]
  },
  {
   "cell_type": "markdown",
   "metadata": {},
   "source": [
    "### Let us engineer a new feature which is GBDT features which are the number of the leaf node that is activated when we pass the data point to the tree after we have trained it."
   ]
  },
  {
   "cell_type": "code",
   "execution_count": null,
   "metadata": {},
   "outputs": [],
   "source": [
    "y_train.head()"
   ]
  },
  {
   "cell_type": "code",
   "execution_count": 12,
   "metadata": {},
   "outputs": [],
   "source": [
    "from sklearn.ensemble import GradientBoostingClassifier\n",
    "\n",
    "#Here we are taking number of estimators as 100 and max depth as 5 as we have seen from the tuning of the GBDT in the above XGBoost model\n",
    "gradient_boosting = GradientBoostingClassifier(n_estimators=100, max_depth=5)\n",
    "\n",
    "#Here we will fit the GBDT on the train data and then trandform on both train and test data to get the GBDT features\n",
    "history = gradient_boosting.fit(X_train_pCTR,y_train)"
   ]
  },
  {
   "cell_type": "code",
   "execution_count": 13,
   "metadata": {},
   "outputs": [],
   "source": [
    "import pickle\n",
    "#save the model to disk\n",
    "with open('Model_for_GBDT_features.pkl', 'wb') as f:\n",
    "    pickle.dump(gradient_boosting, f) "
   ]
  },
  {
   "cell_type": "code",
   "execution_count": 14,
   "metadata": {},
   "outputs": [
    {
     "data": {
      "text/plain": [
       "(4000000, 100, 1)"
      ]
     },
     "execution_count": 14,
     "metadata": {},
     "output_type": "execute_result"
    }
   ],
   "source": [
    "#Now get the GBDT features by using the apply() attribute of the GBDT model\n",
    "\n",
    "X_train_GBDT_features = gradient_boosting.apply(X_train_pCTR)\n",
    "X_test_GBDT_features = gradient_boosting.apply(X_test_pCTR)\n",
    "\n",
    "#print the shape the resulting features\n",
    "X_train_GBDT_features.shape"
   ]
  },
  {
   "cell_type": "markdown",
   "metadata": {},
   "source": [
    "We have got an array of shape (4000000,100,1) so in this basically each element is an array and each data point has got converted in to 100 dimensional vector which is basically leaf node number in each of the base estimators in the gradient Boosted tree."
   ]
  },
  {
   "cell_type": "code",
   "execution_count": 15,
   "metadata": {},
   "outputs": [
    {
     "name": "stderr",
     "output_type": "stream",
     "text": [
      "100%|██████████| 100/100 [00:14<00:00,  7.07it/s]\n"
     ]
    },
    {
     "data": {
      "text/html": [
       "<div>\n",
       "<style scoped>\n",
       "    .dataframe tbody tr th:only-of-type {\n",
       "        vertical-align: middle;\n",
       "    }\n",
       "\n",
       "    .dataframe tbody tr th {\n",
       "        vertical-align: top;\n",
       "    }\n",
       "\n",
       "    .dataframe thead th {\n",
       "        text-align: right;\n",
       "    }\n",
       "</style>\n",
       "<table border=\"1\" class=\"dataframe\">\n",
       "  <thead>\n",
       "    <tr style=\"text-align: right;\">\n",
       "      <th></th>\n",
       "      <th>site_id</th>\n",
       "      <th>site_domain</th>\n",
       "      <th>site_category</th>\n",
       "      <th>app_id</th>\n",
       "      <th>app_category</th>\n",
       "      <th>app_domain</th>\n",
       "      <th>device_model</th>\n",
       "      <th>device_type</th>\n",
       "      <th>device_conn_type</th>\n",
       "      <th>device_id_counts</th>\n",
       "      <th>...</th>\n",
       "      <th>GBDT_90</th>\n",
       "      <th>GBDT_91</th>\n",
       "      <th>GBDT_92</th>\n",
       "      <th>GBDT_93</th>\n",
       "      <th>GBDT_94</th>\n",
       "      <th>GBDT_95</th>\n",
       "      <th>GBDT_96</th>\n",
       "      <th>GBDT_97</th>\n",
       "      <th>GBDT_98</th>\n",
       "      <th>GBDT_99</th>\n",
       "    </tr>\n",
       "  </thead>\n",
       "  <tbody>\n",
       "    <tr>\n",
       "      <th>0</th>\n",
       "      <td>0.049802</td>\n",
       "      <td>0.049802</td>\n",
       "      <td>0.060520</td>\n",
       "      <td>0.200370</td>\n",
       "      <td>0.200891</td>\n",
       "      <td>0.196533</td>\n",
       "      <td>0.267520</td>\n",
       "      <td>0.171072</td>\n",
       "      <td>0.182705</td>\n",
       "      <td>0.175420</td>\n",
       "      <td>...</td>\n",
       "      <td>5.0</td>\n",
       "      <td>30.0</td>\n",
       "      <td>46.0</td>\n",
       "      <td>20.0</td>\n",
       "      <td>52.0</td>\n",
       "      <td>5.0</td>\n",
       "      <td>62.0</td>\n",
       "      <td>5.0</td>\n",
       "      <td>39.0</td>\n",
       "      <td>51.0</td>\n",
       "    </tr>\n",
       "    <tr>\n",
       "      <th>1</th>\n",
       "      <td>0.038837</td>\n",
       "      <td>0.038837</td>\n",
       "      <td>0.179733</td>\n",
       "      <td>0.200370</td>\n",
       "      <td>0.200891</td>\n",
       "      <td>0.196533</td>\n",
       "      <td>0.135048</td>\n",
       "      <td>0.171072</td>\n",
       "      <td>0.142270</td>\n",
       "      <td>0.175420</td>\n",
       "      <td>...</td>\n",
       "      <td>5.0</td>\n",
       "      <td>30.0</td>\n",
       "      <td>36.0</td>\n",
       "      <td>20.0</td>\n",
       "      <td>52.0</td>\n",
       "      <td>5.0</td>\n",
       "      <td>5.0</td>\n",
       "      <td>36.0</td>\n",
       "      <td>39.0</td>\n",
       "      <td>36.0</td>\n",
       "    </tr>\n",
       "    <tr>\n",
       "      <th>2</th>\n",
       "      <td>0.208994</td>\n",
       "      <td>0.208994</td>\n",
       "      <td>0.211487</td>\n",
       "      <td>0.200370</td>\n",
       "      <td>0.200891</td>\n",
       "      <td>0.196533</td>\n",
       "      <td>0.208030</td>\n",
       "      <td>0.171072</td>\n",
       "      <td>0.182705</td>\n",
       "      <td>0.175420</td>\n",
       "      <td>...</td>\n",
       "      <td>31.0</td>\n",
       "      <td>53.0</td>\n",
       "      <td>36.0</td>\n",
       "      <td>20.0</td>\n",
       "      <td>52.0</td>\n",
       "      <td>28.0</td>\n",
       "      <td>5.0</td>\n",
       "      <td>8.0</td>\n",
       "      <td>43.0</td>\n",
       "      <td>61.0</td>\n",
       "    </tr>\n",
       "    <tr>\n",
       "      <th>3</th>\n",
       "      <td>0.117400</td>\n",
       "      <td>0.121059</td>\n",
       "      <td>0.127780</td>\n",
       "      <td>0.129458</td>\n",
       "      <td>0.109826</td>\n",
       "      <td>0.132815</td>\n",
       "      <td>0.247619</td>\n",
       "      <td>0.171072</td>\n",
       "      <td>0.182705</td>\n",
       "      <td>0.079365</td>\n",
       "      <td>...</td>\n",
       "      <td>5.0</td>\n",
       "      <td>30.0</td>\n",
       "      <td>43.0</td>\n",
       "      <td>20.0</td>\n",
       "      <td>52.0</td>\n",
       "      <td>5.0</td>\n",
       "      <td>23.0</td>\n",
       "      <td>8.0</td>\n",
       "      <td>39.0</td>\n",
       "      <td>51.0</td>\n",
       "    </tr>\n",
       "    <tr>\n",
       "      <th>4</th>\n",
       "      <td>0.117400</td>\n",
       "      <td>0.121059</td>\n",
       "      <td>0.127780</td>\n",
       "      <td>0.196304</td>\n",
       "      <td>0.215531</td>\n",
       "      <td>0.196304</td>\n",
       "      <td>0.136166</td>\n",
       "      <td>0.171072</td>\n",
       "      <td>0.182705</td>\n",
       "      <td>0.175420</td>\n",
       "      <td>...</td>\n",
       "      <td>5.0</td>\n",
       "      <td>30.0</td>\n",
       "      <td>36.0</td>\n",
       "      <td>20.0</td>\n",
       "      <td>52.0</td>\n",
       "      <td>5.0</td>\n",
       "      <td>5.0</td>\n",
       "      <td>36.0</td>\n",
       "      <td>39.0</td>\n",
       "      <td>36.0</td>\n",
       "    </tr>\n",
       "  </tbody>\n",
       "</table>\n",
       "<p>5 rows × 124 columns</p>\n",
       "</div>"
      ],
      "text/plain": [
       "    site_id  site_domain  site_category    app_id  app_category  app_domain  \\\n",
       "0  0.049802     0.049802       0.060520  0.200370      0.200891    0.196533   \n",
       "1  0.038837     0.038837       0.179733  0.200370      0.200891    0.196533   \n",
       "2  0.208994     0.208994       0.211487  0.200370      0.200891    0.196533   \n",
       "3  0.117400     0.121059       0.127780  0.129458      0.109826    0.132815   \n",
       "4  0.117400     0.121059       0.127780  0.196304      0.215531    0.196304   \n",
       "\n",
       "   device_model  device_type  device_conn_type  device_id_counts  ...  \\\n",
       "0      0.267520     0.171072          0.182705          0.175420  ...   \n",
       "1      0.135048     0.171072          0.142270          0.175420  ...   \n",
       "2      0.208030     0.171072          0.182705          0.175420  ...   \n",
       "3      0.247619     0.171072          0.182705          0.079365  ...   \n",
       "4      0.136166     0.171072          0.182705          0.175420  ...   \n",
       "\n",
       "   GBDT_90  GBDT_91  GBDT_92  GBDT_93  GBDT_94  GBDT_95  GBDT_96  GBDT_97  \\\n",
       "0      5.0     30.0     46.0     20.0     52.0      5.0     62.0      5.0   \n",
       "1      5.0     30.0     36.0     20.0     52.0      5.0      5.0     36.0   \n",
       "2     31.0     53.0     36.0     20.0     52.0     28.0      5.0      8.0   \n",
       "3      5.0     30.0     43.0     20.0     52.0      5.0     23.0      8.0   \n",
       "4      5.0     30.0     36.0     20.0     52.0      5.0      5.0     36.0   \n",
       "\n",
       "   GBDT_98  GBDT_99  \n",
       "0     39.0     51.0  \n",
       "1     39.0     36.0  \n",
       "2     43.0     61.0  \n",
       "3     39.0     51.0  \n",
       "4     39.0     36.0  \n",
       "\n",
       "[5 rows x 124 columns]"
      ]
     },
     "execution_count": 15,
     "metadata": {},
     "output_type": "execute_result"
    }
   ],
   "source": [
    "#Here we need to reshape our array to a 2D array and then convert to a data frame to be used for modelling\n",
    "\n",
    "X_train_GBDT_features=X_train_GBDT_features.reshape(4000000,100)\n",
    "X_test_GBDT_features=X_test_GBDT_features.reshape(1000000,100)\n",
    "\n",
    "#give names to the features so that we can analyse the feature importances if needed\n",
    "GBDT_names=[]\n",
    "for i in range(100):\n",
    "    GBDT_names.append('GBDT_'+str(i))\n",
    "    \n",
    "#Add the GBDT features to the existing dataframe\n",
    "for i in tqdm(range(100)):\n",
    "    X_train_pCTR[GBDT_names[i]]=X_train_GBDT_features[:,i]\n",
    "    X_test_pCTR[GBDT_names[i]]=X_test_GBDT_features[:,i]\n",
    "\n",
    "X_train_pCTR.head()"
   ]
  },
  {
   "cell_type": "markdown",
   "metadata": {},
   "source": [
    "Save the GBDT features to csv file for later use"
   ]
  },
  {
   "cell_type": "code",
   "execution_count": 16,
   "metadata": {},
   "outputs": [],
   "source": [
    "#save the X to the csv file for later use\n",
    "X_train_pCTR.to_csv('train_data_GBDT.csv',index=False)\n",
    "X_test_pCTR.to_csv('test_data_GBDT.csv',index=False)\n",
    "\n",
    "#save the Y labels to csv files for later use\n",
    "y_train.to_csv('train_labels.csv',index=False)\n",
    "y_test.to_csv('test_labels.csv',index=False)"
   ]
  },
  {
   "cell_type": "markdown",
   "metadata": {},
   "source": [
    "Load the new data with GBDT features from the csv files that we have saved"
   ]
  },
  {
   "cell_type": "code",
   "execution_count": 14,
   "metadata": {},
   "outputs": [
    {
     "data": {
      "text/html": [
       "<div>\n",
       "<style scoped>\n",
       "    .dataframe tbody tr th:only-of-type {\n",
       "        vertical-align: middle;\n",
       "    }\n",
       "\n",
       "    .dataframe tbody tr th {\n",
       "        vertical-align: top;\n",
       "    }\n",
       "\n",
       "    .dataframe thead th {\n",
       "        text-align: right;\n",
       "    }\n",
       "</style>\n",
       "<table border=\"1\" class=\"dataframe\">\n",
       "  <thead>\n",
       "    <tr style=\"text-align: right;\">\n",
       "      <th></th>\n",
       "      <th>site_id</th>\n",
       "      <th>site_domain</th>\n",
       "      <th>site_category</th>\n",
       "      <th>app_id</th>\n",
       "      <th>app_category</th>\n",
       "      <th>app_domain</th>\n",
       "      <th>device_model</th>\n",
       "      <th>device_type</th>\n",
       "      <th>device_conn_type</th>\n",
       "      <th>device_id_counts</th>\n",
       "      <th>...</th>\n",
       "      <th>GBDT_90</th>\n",
       "      <th>GBDT_91</th>\n",
       "      <th>GBDT_92</th>\n",
       "      <th>GBDT_93</th>\n",
       "      <th>GBDT_94</th>\n",
       "      <th>GBDT_95</th>\n",
       "      <th>GBDT_96</th>\n",
       "      <th>GBDT_97</th>\n",
       "      <th>GBDT_98</th>\n",
       "      <th>GBDT_99</th>\n",
       "    </tr>\n",
       "  </thead>\n",
       "  <tbody>\n",
       "    <tr>\n",
       "      <th>0</th>\n",
       "      <td>0.049802</td>\n",
       "      <td>0.049802</td>\n",
       "      <td>0.060520</td>\n",
       "      <td>0.200370</td>\n",
       "      <td>0.200891</td>\n",
       "      <td>0.196533</td>\n",
       "      <td>0.267520</td>\n",
       "      <td>0.171072</td>\n",
       "      <td>0.182705</td>\n",
       "      <td>0.175420</td>\n",
       "      <td>...</td>\n",
       "      <td>5.0</td>\n",
       "      <td>30.0</td>\n",
       "      <td>46.0</td>\n",
       "      <td>20.0</td>\n",
       "      <td>52.0</td>\n",
       "      <td>5.0</td>\n",
       "      <td>62.0</td>\n",
       "      <td>5.0</td>\n",
       "      <td>39.0</td>\n",
       "      <td>51.0</td>\n",
       "    </tr>\n",
       "    <tr>\n",
       "      <th>1</th>\n",
       "      <td>0.038837</td>\n",
       "      <td>0.038837</td>\n",
       "      <td>0.179733</td>\n",
       "      <td>0.200370</td>\n",
       "      <td>0.200891</td>\n",
       "      <td>0.196533</td>\n",
       "      <td>0.135048</td>\n",
       "      <td>0.171072</td>\n",
       "      <td>0.142270</td>\n",
       "      <td>0.175420</td>\n",
       "      <td>...</td>\n",
       "      <td>5.0</td>\n",
       "      <td>30.0</td>\n",
       "      <td>36.0</td>\n",
       "      <td>20.0</td>\n",
       "      <td>52.0</td>\n",
       "      <td>5.0</td>\n",
       "      <td>5.0</td>\n",
       "      <td>36.0</td>\n",
       "      <td>39.0</td>\n",
       "      <td>36.0</td>\n",
       "    </tr>\n",
       "    <tr>\n",
       "      <th>2</th>\n",
       "      <td>0.208994</td>\n",
       "      <td>0.208994</td>\n",
       "      <td>0.211487</td>\n",
       "      <td>0.200370</td>\n",
       "      <td>0.200891</td>\n",
       "      <td>0.196533</td>\n",
       "      <td>0.208030</td>\n",
       "      <td>0.171072</td>\n",
       "      <td>0.182705</td>\n",
       "      <td>0.175420</td>\n",
       "      <td>...</td>\n",
       "      <td>31.0</td>\n",
       "      <td>53.0</td>\n",
       "      <td>36.0</td>\n",
       "      <td>20.0</td>\n",
       "      <td>52.0</td>\n",
       "      <td>28.0</td>\n",
       "      <td>5.0</td>\n",
       "      <td>8.0</td>\n",
       "      <td>43.0</td>\n",
       "      <td>61.0</td>\n",
       "    </tr>\n",
       "    <tr>\n",
       "      <th>3</th>\n",
       "      <td>0.117400</td>\n",
       "      <td>0.121059</td>\n",
       "      <td>0.127780</td>\n",
       "      <td>0.129458</td>\n",
       "      <td>0.109826</td>\n",
       "      <td>0.132815</td>\n",
       "      <td>0.247619</td>\n",
       "      <td>0.171072</td>\n",
       "      <td>0.182705</td>\n",
       "      <td>0.079365</td>\n",
       "      <td>...</td>\n",
       "      <td>5.0</td>\n",
       "      <td>30.0</td>\n",
       "      <td>43.0</td>\n",
       "      <td>20.0</td>\n",
       "      <td>52.0</td>\n",
       "      <td>5.0</td>\n",
       "      <td>23.0</td>\n",
       "      <td>8.0</td>\n",
       "      <td>39.0</td>\n",
       "      <td>51.0</td>\n",
       "    </tr>\n",
       "    <tr>\n",
       "      <th>4</th>\n",
       "      <td>0.117400</td>\n",
       "      <td>0.121059</td>\n",
       "      <td>0.127780</td>\n",
       "      <td>0.196304</td>\n",
       "      <td>0.215531</td>\n",
       "      <td>0.196304</td>\n",
       "      <td>0.136166</td>\n",
       "      <td>0.171072</td>\n",
       "      <td>0.182705</td>\n",
       "      <td>0.175420</td>\n",
       "      <td>...</td>\n",
       "      <td>5.0</td>\n",
       "      <td>30.0</td>\n",
       "      <td>36.0</td>\n",
       "      <td>20.0</td>\n",
       "      <td>52.0</td>\n",
       "      <td>5.0</td>\n",
       "      <td>5.0</td>\n",
       "      <td>36.0</td>\n",
       "      <td>39.0</td>\n",
       "      <td>36.0</td>\n",
       "    </tr>\n",
       "  </tbody>\n",
       "</table>\n",
       "<p>5 rows × 124 columns</p>\n",
       "</div>"
      ],
      "text/plain": [
       "    site_id  site_domain  site_category    app_id  app_category  app_domain  \\\n",
       "0  0.049802     0.049802       0.060520  0.200370      0.200891    0.196533   \n",
       "1  0.038837     0.038837       0.179733  0.200370      0.200891    0.196533   \n",
       "2  0.208994     0.208994       0.211487  0.200370      0.200891    0.196533   \n",
       "3  0.117400     0.121059       0.127780  0.129458      0.109826    0.132815   \n",
       "4  0.117400     0.121059       0.127780  0.196304      0.215531    0.196304   \n",
       "\n",
       "   device_model  device_type  device_conn_type  device_id_counts  ...  \\\n",
       "0      0.267520     0.171072          0.182705          0.175420  ...   \n",
       "1      0.135048     0.171072          0.142270          0.175420  ...   \n",
       "2      0.208030     0.171072          0.182705          0.175420  ...   \n",
       "3      0.247619     0.171072          0.182705          0.079365  ...   \n",
       "4      0.136166     0.171072          0.182705          0.175420  ...   \n",
       "\n",
       "   GBDT_90  GBDT_91  GBDT_92  GBDT_93  GBDT_94  GBDT_95  GBDT_96  GBDT_97  \\\n",
       "0      5.0     30.0     46.0     20.0     52.0      5.0     62.0      5.0   \n",
       "1      5.0     30.0     36.0     20.0     52.0      5.0      5.0     36.0   \n",
       "2     31.0     53.0     36.0     20.0     52.0     28.0      5.0      8.0   \n",
       "3      5.0     30.0     43.0     20.0     52.0      5.0     23.0      8.0   \n",
       "4      5.0     30.0     36.0     20.0     52.0      5.0      5.0     36.0   \n",
       "\n",
       "   GBDT_98  GBDT_99  \n",
       "0     39.0     51.0  \n",
       "1     39.0     36.0  \n",
       "2     43.0     61.0  \n",
       "3     39.0     51.0  \n",
       "4     39.0     36.0  \n",
       "\n",
       "[5 rows x 124 columns]"
      ]
     },
     "execution_count": 14,
     "metadata": {},
     "output_type": "execute_result"
    }
   ],
   "source": [
    "#read the train data from the csv files\n",
    "import pandas as pd\n",
    "X_train_pCTR=pd.read_csv('train_data_GBDT.csv')\n",
    "X_test_pCTR=pd.read_csv('test_data_GBDT.csv')\n",
    "\n",
    "#read the y_labels from the saved csv files\n",
    "y_train=pd.read_csv('train_labels.csv')\n",
    "y_test=pd.read_csv(\"test_labels.csv\")\n",
    "\n",
    "#Have a look for clarity if anything is missing etc\n",
    "X_train_pCTR.head()"
   ]
  },
  {
   "cell_type": "markdown",
   "metadata": {},
   "source": [
    "### Let us see if these additional features are useful by training a logistic regression model with hyper parameter tuning"
   ]
  },
  {
   "cell_type": "markdown",
   "metadata": {},
   "source": [
    "### <b>3.4 Logistic Regression with hyper parameter tuning with GBDT features</b>"
   ]
  },
  {
   "cell_type": "code",
   "execution_count": 20,
   "metadata": {
    "id": "Wb2tOE3GtASr",
    "outputId": "d7e4fc88-7d4e-4313-cda7-462a2409292e"
   },
   "outputs": [
    {
     "name": "stdout",
     "output_type": "stream",
     "text": [
      "For values of alpha =  1e-05 The log loss is: 0.43000541775832163\n",
      "For values of alpha =  0.0001 The log loss is: 0.41403241623175313\n",
      "For values of alpha =  0.001 The log loss is: 0.40012504902064616\n",
      "For values of alpha =  0.01 The log loss is: 0.3959155830968275\n",
      "For values of alpha =  0.1 The log loss is: 0.3964831461625865\n",
      "For values of alpha =  1 The log loss is: 0.3969948667916074\n",
      "For values of alpha =  10 The log loss is: 0.3989531631023348\n"
     ]
    },
    {
     "data": {
      "image/png": "[encoded data removed]",
      "text/plain": [
       "<Figure size 432x288 with 1 Axes>"
      ]
     },
     "metadata": {
      "needs_background": "light"
     },
     "output_type": "display_data"
    },
    {
     "name": "stdout",
     "output_type": "stream",
     "text": [
      "For values of best alpha =  0.01 The train log loss is: 0.4015931633406227\n",
      "For values of best alpha =  0.01 The test log loss is: 0.3966036414582207\n",
      "Total number of data points : 1000000\n"
     ]
    },
    {
     "data": {
      "image/png": "[encoded data removed]",
      "text/plain": [
       "<Figure size 1440x288 with 6 Axes>"
      ]
     },
     "metadata": {
      "needs_background": "light"
     },
     "output_type": "display_data"
    }
   ],
   "source": [
    "from sklearn.linear_model import SGDClassifier\n",
    "from sklearn.calibration import CalibratedClassifierCV\n",
    "import numpy as np\n",
    "from sklearn.metrics import log_loss\n",
    "\n",
    "alpha = [10 ** x for x in range(-5, 2)] # hyperparam for SGD classifier.\n",
    "\n",
    "log_error_array=[]\n",
    "for i in alpha:\n",
    "    clf = SGDClassifier(alpha=i, penalty='l2', loss='log', random_state=42, class_weight= {0:1, 1:1.75})\n",
    "    clf.fit(X_train_pCTR, y_train)\n",
    "    sig_clf = CalibratedClassifierCV(clf, method=\"sigmoid\",n_jobs=-1)\n",
    "    sig_clf.fit(X_train_pCTR, y_train)\n",
    "    predict_y = sig_clf.predict_proba(X_test_pCTR)\n",
    "    log_error_array.append(log_loss(y_test, predict_y, labels=clf.classes_, eps=1e-15))\n",
    "    print('For values of alpha = ', i, \"The log loss is:\",log_loss(y_test, predict_y, labels=clf.classes_, eps=1e-15))\n",
    "\n",
    "fig, ax = plt.subplots()\n",
    "ax.plot(alpha, log_error_array,c='g')\n",
    "ax.set_xscale('log')\n",
    "for i, txt in enumerate(np.round(log_error_array,3)):\n",
    "    ax.annotate((alpha[i],np.round(txt,3)), (alpha[i],log_error_array[i]))\n",
    "plt.grid()\n",
    "plt.title(\"Cross Validation Error for each alpha\")\n",
    "plt.xlabel(\"Alpha i's\")\n",
    "plt.ylabel(\"Error measure\")\n",
    "plt.show()\n",
    "\n",
    "best_alpha = np.argmin(log_error_array)\n",
    "clf = SGDClassifier(alpha=alpha[best_alpha], penalty='l2', loss='log', random_state=42, n_jobs=-1)\n",
    "clf.fit(X_train_pCTR, y_train)\n",
    "sig_clf = CalibratedClassifierCV(clf, method=\"sigmoid\")\n",
    "sig_clf.fit(X_train_pCTR, y_train)\n",
    "\n",
    "predict_y = sig_clf.predict_proba(X_train_pCTR)\n",
    "print('For values of best alpha = ', alpha[best_alpha], \"The train log loss is:\",log_loss(y_train, predict_y, labels=clf.classes_, eps=1e-15))\n",
    "predict_y = sig_clf.predict_proba(X_test_pCTR)\n",
    "print('For values of best alpha = ', alpha[best_alpha], \"The test log loss is:\",log_loss(y_test, predict_y, labels=clf.classes_, eps=1e-15))\n",
    "predicted_y =np.argmax(predict_y,axis=1)\n",
    "print(\"Total number of data points :\", len(predicted_y))\n",
    "plot_confusion_matrix(y_test, predicted_y)"
   ]
  },
  {
   "cell_type": "markdown",
   "metadata": {},
   "source": [
    "<b> Observations </b>\n",
    "* Here we can see that we have improved the log-loss to <b>0.3966</b> with GBDT features which is a good improvement from the 0.4 which we have gotten from logistic regression without GBDT features.\n",
    "* Hence we can observe that GBDT features have been definetely useful for us in prediction and we can see the slight improvement in the precesion value of class 1 from 0.59 to 0.603 although the it is small , it is still a good improvement which is very beneficial to us.\n",
    "* As these features look promising because they gave good result with the Logistic regression , so we can expect good results by using non-linear model like GBDT's as well."
   ]
  },
  {
   "cell_type": "markdown",
   "metadata": {},
   "source": [
    "### <b> 3.5 XG-Boost with Hyper-parameter tuning of 2 parameters with GBDT features</b>"
   ]
  },
  {
   "cell_type": "markdown",
   "metadata": {},
   "source": [
    "Here as we are dealing with huge amount of data , we need to train the model in batches , but there is no implementaton for batch training and hyper-paramter tuning, so we need to write our own code for hyper-parameter tuning in batches."
   ]
  },
  {
   "cell_type": "code",
   "execution_count": 19,
   "metadata": {},
   "outputs": [
    {
     "name": "stdout",
     "output_type": "stream",
     "text": [
      "The test log loss at epoch  0  is: 0.39401092563803913\n",
      "The test log loss at epoch  1  is: 0.39421685094353837\n",
      "early stopping because test log_loss is found to be increasing\n",
      "\n",
      " test log-loss for combination [n_estimators,max-depth] = [ 50 , 3 ] is  0.39421685094353837\n",
      "*=*=*=*=*=*=*=*=*=*=*=*=*=*=*=*=*=*=*=*=*=*=*=*=*=*=*=*=*=*=*=*=*=*=*=*=*=*=*=*=*=*=*=*=*=*=*=*=*=*=\n",
      "The test log loss at epoch  0  is: 0.39306598912722296\n",
      "The test log loss at epoch  1  is: 0.39876263053268646\n",
      "early stopping because test log_loss is found to be increasing\n",
      "\n",
      " test log-loss for combination [n_estimators,max-depth] = [ 50 , 5 ] is  0.39876263053268646\n",
      "*=*=*=*=*=*=*=*=*=*=*=*=*=*=*=*=*=*=*=*=*=*=*=*=*=*=*=*=*=*=*=*=*=*=*=*=*=*=*=*=*=*=*=*=*=*=*=*=*=*=\n",
      "The test log loss at epoch  0  is: 0.39753740753138767\n",
      "The test log loss at epoch  1  is: 0.43825345308944397\n",
      "early stopping because test log_loss is found to be increasing\n",
      "\n",
      " test log-loss for combination [n_estimators,max-depth] = [ 50 , 10 ] is  0.43825345308944397\n",
      "*=*=*=*=*=*=*=*=*=*=*=*=*=*=*=*=*=*=*=*=*=*=*=*=*=*=*=*=*=*=*=*=*=*=*=*=*=*=*=*=*=*=*=*=*=*=*=*=*=*=\n",
      "The test log loss at epoch  0  is: 0.3938476289613041\n",
      "The test log loss at epoch  1  is: 0.397610716190983\n",
      "early stopping because test log_loss is found to be increasing\n",
      "\n",
      " test log-loss for combination [n_estimators,max-depth] = [ 100 , 3 ] is  0.397610716190983\n",
      "*=*=*=*=*=*=*=*=*=*=*=*=*=*=*=*=*=*=*=*=*=*=*=*=*=*=*=*=*=*=*=*=*=*=*=*=*=*=*=*=*=*=*=*=*=*=*=*=*=*=\n",
      "The test log loss at epoch  0  is: 0.395472812614965\n",
      "The test log loss at epoch  1  is: 0.40905339929856316\n",
      "early stopping because test log_loss is found to be increasing\n",
      "\n",
      " test log-loss for combination [n_estimators,max-depth] = [ 100 , 5 ] is  0.40905339929856316\n",
      "*=*=*=*=*=*=*=*=*=*=*=*=*=*=*=*=*=*=*=*=*=*=*=*=*=*=*=*=*=*=*=*=*=*=*=*=*=*=*=*=*=*=*=*=*=*=*=*=*=*=\n",
      "The test log loss at epoch  0  is: 0.40691290421976717\n",
      "The test log loss at epoch  1  is: 0.5009315738025866\n",
      "early stopping because test log_loss is found to be increasing\n",
      "\n",
      " test log-loss for combination [n_estimators,max-depth] = [ 100 , 10 ] is  0.5009315738025866\n",
      "*=*=*=*=*=*=*=*=*=*=*=*=*=*=*=*=*=*=*=*=*=*=*=*=*=*=*=*=*=*=*=*=*=*=*=*=*=*=*=*=*=*=*=*=*=*=*=*=*=*=\n",
      "The test log loss at epoch  0  is: 0.3936901791760075\n",
      "The test log loss at epoch  1  is: 0.39949993341424644\n",
      "early stopping because test log_loss is found to be increasing\n",
      "\n",
      " test log-loss for combination [n_estimators,max-depth] = [ 200 , 3 ] is  0.39949993341424644\n",
      "*=*=*=*=*=*=*=*=*=*=*=*=*=*=*=*=*=*=*=*=*=*=*=*=*=*=*=*=*=*=*=*=*=*=*=*=*=*=*=*=*=*=*=*=*=*=*=*=*=*=\n",
      "The test log loss at epoch  0  is: 0.4025633610625337\n",
      "The test log loss at epoch  1  is: 0.42835790260653717\n",
      "early stopping because test log_loss is found to be increasing\n",
      "\n",
      " test log-loss for combination [n_estimators,max-depth] = [ 200 , 5 ] is  0.42835790260653717\n",
      "*=*=*=*=*=*=*=*=*=*=*=*=*=*=*=*=*=*=*=*=*=*=*=*=*=*=*=*=*=*=*=*=*=*=*=*=*=*=*=*=*=*=*=*=*=*=*=*=*=*=\n",
      "The test log loss at epoch  0  is: 0.41894193622965026\n",
      "The test log loss at epoch  1  is: 0.5424836991762931\n",
      "early stopping because test log_loss is found to be increasing\n",
      "\n",
      " test log-loss for combination [n_estimators,max-depth] = [ 200 , 10 ] is  0.5424836991762931\n",
      "*=*=*=*=*=*=*=*=*=*=*=*=*=*=*=*=*=*=*=*=*=*=*=*=*=*=*=*=*=*=*=*=*=*=*=*=*=*=*=*=*=*=*=*=*=*=*=*=*=*=\n",
      "The test log loss at epoch  0  is: 0.4017347798690216\n",
      "The test log loss at epoch  1  is: 0.41685059372428\n",
      "early stopping because test log_loss is found to be increasing\n",
      "\n",
      " test log-loss for combination [n_estimators,max-depth] = [ 500 , 3 ] is  0.41685059372428\n",
      "*=*=*=*=*=*=*=*=*=*=*=*=*=*=*=*=*=*=*=*=*=*=*=*=*=*=*=*=*=*=*=*=*=*=*=*=*=*=*=*=*=*=*=*=*=*=*=*=*=*=\n",
      "The test log loss at epoch  0  is: 0.4140600900847936\n",
      "The test log loss at epoch  1  is: 0.4739306865725008\n",
      "early stopping because test log_loss is found to be increasing\n",
      "\n",
      " test log-loss for combination [n_estimators,max-depth] = [ 500 , 5 ] is  0.4739306865725008\n",
      "*=*=*=*=*=*=*=*=*=*=*=*=*=*=*=*=*=*=*=*=*=*=*=*=*=*=*=*=*=*=*=*=*=*=*=*=*=*=*=*=*=*=*=*=*=*=*=*=*=*=\n",
      "The test log loss at epoch  0  is: 0.44657938232924826\n",
      "The test log loss at epoch  1  is: 0.6661876978541604\n",
      "early stopping because test log_loss is found to be increasing\n",
      "\n",
      " test log-loss for combination [n_estimators,max-depth] = [ 500 , 10 ] is  0.6661876978541604\n",
      "*=*=*=*=*=*=*=*=*=*=*=*=*=*=*=*=*=*=*=*=*=*=*=*=*=*=*=*=*=*=*=*=*=*=*=*=*=*=*=*=*=*=*=*=*=*=*=*=*=*=\n"
     ]
    }
   ],
   "source": [
    "from sklearn.metrics import log_loss\n",
    "from xgboost import XGBClassifier as xgb\n",
    "import numpy as np\n",
    "import warnings\n",
    "warnings.filterwarnings(\"ignore\")\n",
    "\n",
    "#first define the parameters to train\n",
    "n_estimators = [50,100,200,500]\n",
    "max_depth =[3,5,10]\n",
    "\n",
    "#we will set the batch_size to 0.5 million data points\n",
    "batch_size = 500000\n",
    "epochs = 20\n",
    "\n",
    "log_error=[]\n",
    "param_combination=[]\n",
    "for n_est in n_estimators:\n",
    "    for depth in max_depth:\n",
    "        model = xgb(objective='binary:logistic',n_estimators=n_est,max_depth=depth,verbosity=0,use_label_encoder=False)\n",
    "        best_log_loss=0.5\n",
    "        for i in range(epochs):\n",
    "            for start in range(0, X_train_pCTR.shape[0], batch_size):\n",
    "                if i==0:\n",
    "                    model.fit(X_train_pCTR[start:start+batch_size], y_train[start:start+batch_size])\n",
    "                else:\n",
    "                    model.fit(X_train_pCTR[start:start+batch_size], y_train[start:start+batch_size].values,xgb_model=model.get_booster())   \n",
    "            y_test_pred=model.predict_proba(X_test_pCTR)\n",
    "            log_loss_val = log_loss(y_test, y_test_pred)\n",
    "            print(\"The test log loss at epoch \",i,\" is:\",log_loss_val)\n",
    "            if log_loss_val<best_log_loss:\n",
    "                best_log_loss=log_loss_val\n",
    "            else:\n",
    "                print(\"early stopping because test log_loss is found to be increasing\")\n",
    "                break\n",
    "        log_error.append(log_loss_val)\n",
    "        param_combination.append([n_est,depth])\n",
    "        print(\"\\n test log-loss for combination [n_estimators,max-depth] = [\",n_est,',',depth,'] is ', log_loss_val)\n",
    "        print(\"*=\"*50)"
   ]
  },
  {
   "cell_type": "markdown",
   "metadata": {},
   "source": [
    "From the above logs we can see that we have gotten the best test log-loss of 0.393065 at max-depth = 3 and n_estimators = 100, so we will train the model with these best parameters and the check the confusion matrix"
   ]
  },
  {
   "cell_type": "code",
   "execution_count": 24,
   "metadata": {},
   "outputs": [
    {
     "name": "stdout",
     "output_type": "stream",
     "text": [
      "The test log loss for best model is: 0.3936609170093267\n"
     ]
    }
   ],
   "source": [
    "model = xgb(objective='binary:logistic',n_estimators=100,max_depth=3,verbosity=0,use_label_encoder=False)\n",
    "batch_size = 1000000\n",
    "for start in range(0, X_train_pCTR.shape[0], batch_size):\n",
    "    if start==0:\n",
    "        model.fit(X_train_pCTR[start:start+batch_size], y_train[start:start+batch_size])\n",
    "    else:\n",
    "        model.fit(X_train_pCTR[start:start+batch_size], y_train[start:start+batch_size].values,xgb_model=model.get_booster())   \n",
    "y_test_pred=model.predict_proba(X_test_pCTR)\n",
    "log_loss_val = log_loss(y_test, y_test_pred)\n",
    "print(\"The test log loss for best model is:\",log_loss_val)"
   ]
  },
  {
   "cell_type": "code",
   "execution_count": 25,
   "metadata": {},
   "outputs": [
    {
     "data": {
      "image/png": "[encoded data removed]",
      "text/plain": [
       "<Figure size 1440x288 with 6 Axes>"
      ]
     },
     "metadata": {
      "needs_background": "light"
     },
     "output_type": "display_data"
    }
   ],
   "source": [
    "#plot the confusion matrix on the test data\n",
    "\n",
    "plot_confusion_matrix(y_test,model.predict(X_test_pCTR))"
   ]
  },
  {
   "cell_type": "markdown",
   "metadata": {},
   "source": [
    "<b> Observations </b>\n",
    "* Here we are able to get a better log-loss with GBDT features and with XG-Bosst and we got a best log-loss till now which is better than the \n",
    "* Here we are able to reduce the log-loss by 0.001 by tuning just 2 parameters , so we will try to tune all the parameters and check if we could further improve the results."
   ]
  },
  {
   "cell_type": "markdown",
   "metadata": {},
   "source": [
    "### <b> 3.6 XG-Boost with Hyper-parameter tuning of all the parameters with GBDT features </b>"
   ]
  },
  {
   "cell_type": "markdown",
   "metadata": {},
   "source": [
    "Here as we are dealing with huge amount of data , we need to train the model in batches , but there is no implementaton for batch training and hyper-paramter tuning, so we need to write our own code for hyper-parameter tuning in batches."
   ]
  },
  {
   "cell_type": "code",
   "execution_count": 27,
   "metadata": {},
   "outputs": [
    {
     "name": "stdout",
     "output_type": "stream",
     "text": [
      "\n",
      " test log-loss for combination [n_estimators,max-depth,colsample_bytree,subsample] = [ 50 , 3 , 0.1 , 0.1 ] is  0.3965112676050477\n",
      "*=*=*=*=*=*=*=*=*=*=*=*=*=*=*=*=*=*=*=*=*=*=*=*=*=*=*=*=*=*=*=*=*=*=*=*=*=*=*=*=*=*=*=*=*=*=*=*=*=*=\n",
      "\n",
      " test log-loss for combination [n_estimators,max-depth,colsample_bytree,subsample] = [ 50 , 3 , 0.1 , 0.3 ] is  0.39659621595392563\n",
      "*=*=*=*=*=*=*=*=*=*=*=*=*=*=*=*=*=*=*=*=*=*=*=*=*=*=*=*=*=*=*=*=*=*=*=*=*=*=*=*=*=*=*=*=*=*=*=*=*=*=\n",
      "\n",
      " test log-loss for combination [n_estimators,max-depth,colsample_bytree,subsample] = [ 50 , 3 , 0.1 , 0.5 ] is  0.3966114402857404\n",
      "*=*=*=*=*=*=*=*=*=*=*=*=*=*=*=*=*=*=*=*=*=*=*=*=*=*=*=*=*=*=*=*=*=*=*=*=*=*=*=*=*=*=*=*=*=*=*=*=*=*=\n",
      "\n",
      " test log-loss for combination [n_estimators,max-depth,colsample_bytree,subsample] = [ 50 , 3 , 0.1 , 1 ] is  0.39669010607319327\n",
      "*=*=*=*=*=*=*=*=*=*=*=*=*=*=*=*=*=*=*=*=*=*=*=*=*=*=*=*=*=*=*=*=*=*=*=*=*=*=*=*=*=*=*=*=*=*=*=*=*=*=\n",
      "\n",
      " test log-loss for combination [n_estimators,max-depth,colsample_bytree,subsample] = [ 50 , 3 , 0.3 , 0.1 ] is  0.3965019973699208\n",
      "*=*=*=*=*=*=*=*=*=*=*=*=*=*=*=*=*=*=*=*=*=*=*=*=*=*=*=*=*=*=*=*=*=*=*=*=*=*=*=*=*=*=*=*=*=*=*=*=*=*=\n",
      "\n",
      " test log-loss for combination [n_estimators,max-depth,colsample_bytree,subsample] = [ 50 , 3 , 0.3 , 0.3 ] is  0.39648076944332195\n",
      "*=*=*=*=*=*=*=*=*=*=*=*=*=*=*=*=*=*=*=*=*=*=*=*=*=*=*=*=*=*=*=*=*=*=*=*=*=*=*=*=*=*=*=*=*=*=*=*=*=*=\n",
      "\n",
      " test log-loss for combination [n_estimators,max-depth,colsample_bytree,subsample] = [ 50 , 3 , 0.3 , 0.5 ] is  0.39640831173670293\n",
      "*=*=*=*=*=*=*=*=*=*=*=*=*=*=*=*=*=*=*=*=*=*=*=*=*=*=*=*=*=*=*=*=*=*=*=*=*=*=*=*=*=*=*=*=*=*=*=*=*=*=\n",
      "\n",
      " test log-loss for combination [n_estimators,max-depth,colsample_bytree,subsample] = [ 50 , 3 , 0.3 , 1 ] is  0.39656842114251295\n",
      "*=*=*=*=*=*=*=*=*=*=*=*=*=*=*=*=*=*=*=*=*=*=*=*=*=*=*=*=*=*=*=*=*=*=*=*=*=*=*=*=*=*=*=*=*=*=*=*=*=*=\n",
      "\n",
      " test log-loss for combination [n_estimators,max-depth,colsample_bytree,subsample] = [ 50 , 3 , 0.5 , 0.1 ] is  0.39647401970069296\n",
      "*=*=*=*=*=*=*=*=*=*=*=*=*=*=*=*=*=*=*=*=*=*=*=*=*=*=*=*=*=*=*=*=*=*=*=*=*=*=*=*=*=*=*=*=*=*=*=*=*=*=\n",
      "\n",
      " test log-loss for combination [n_estimators,max-depth,colsample_bytree,subsample] = [ 50 , 3 , 0.5 , 0.3 ] is  0.3965686408360805\n",
      "*=*=*=*=*=*=*=*=*=*=*=*=*=*=*=*=*=*=*=*=*=*=*=*=*=*=*=*=*=*=*=*=*=*=*=*=*=*=*=*=*=*=*=*=*=*=*=*=*=*=\n",
      "\n",
      " test log-loss for combination [n_estimators,max-depth,colsample_bytree,subsample] = [ 50 , 3 , 0.5 , 0.5 ] is  0.3966548690403644\n",
      "*=*=*=*=*=*=*=*=*=*=*=*=*=*=*=*=*=*=*=*=*=*=*=*=*=*=*=*=*=*=*=*=*=*=*=*=*=*=*=*=*=*=*=*=*=*=*=*=*=*=\n",
      "\n",
      " test log-loss for combination [n_estimators,max-depth,colsample_bytree,subsample] = [ 50 , 3 , 0.5 , 1 ] is  0.39660317793684824\n",
      "*=*=*=*=*=*=*=*=*=*=*=*=*=*=*=*=*=*=*=*=*=*=*=*=*=*=*=*=*=*=*=*=*=*=*=*=*=*=*=*=*=*=*=*=*=*=*=*=*=*=\n",
      "\n",
      " test log-loss for combination [n_estimators,max-depth,colsample_bytree,subsample] = [ 50 , 3 , 1 , 0.1 ] is  0.39650885520165974\n",
      "*=*=*=*=*=*=*=*=*=*=*=*=*=*=*=*=*=*=*=*=*=*=*=*=*=*=*=*=*=*=*=*=*=*=*=*=*=*=*=*=*=*=*=*=*=*=*=*=*=*=\n",
      "\n",
      " test log-loss for combination [n_estimators,max-depth,colsample_bytree,subsample] = [ 50 , 3 , 1 , 0.3 ] is  0.39656840937344917\n",
      "*=*=*=*=*=*=*=*=*=*=*=*=*=*=*=*=*=*=*=*=*=*=*=*=*=*=*=*=*=*=*=*=*=*=*=*=*=*=*=*=*=*=*=*=*=*=*=*=*=*=\n",
      "\n",
      " test log-loss for combination [n_estimators,max-depth,colsample_bytree,subsample] = [ 50 , 3 , 1 , 0.5 ] is  0.3967620511522144\n",
      "*=*=*=*=*=*=*=*=*=*=*=*=*=*=*=*=*=*=*=*=*=*=*=*=*=*=*=*=*=*=*=*=*=*=*=*=*=*=*=*=*=*=*=*=*=*=*=*=*=*=\n",
      "\n",
      " test log-loss for combination [n_estimators,max-depth,colsample_bytree,subsample] = [ 50 , 3 , 1 , 1 ] is  0.3968216752969846\n",
      "*=*=*=*=*=*=*=*=*=*=*=*=*=*=*=*=*=*=*=*=*=*=*=*=*=*=*=*=*=*=*=*=*=*=*=*=*=*=*=*=*=*=*=*=*=*=*=*=*=*=\n",
      "\n",
      " test log-loss for combination [n_estimators,max-depth,colsample_bytree,subsample] = [ 50 , 5 , 0.1 , 0.1 ] is  0.39512548717341944\n",
      "*=*=*=*=*=*=*=*=*=*=*=*=*=*=*=*=*=*=*=*=*=*=*=*=*=*=*=*=*=*=*=*=*=*=*=*=*=*=*=*=*=*=*=*=*=*=*=*=*=*=\n",
      "\n",
      " test log-loss for combination [n_estimators,max-depth,colsample_bytree,subsample] = [ 50 , 5 , 0.1 , 0.3 ] is  0.3950210294037461\n",
      "*=*=*=*=*=*=*=*=*=*=*=*=*=*=*=*=*=*=*=*=*=*=*=*=*=*=*=*=*=*=*=*=*=*=*=*=*=*=*=*=*=*=*=*=*=*=*=*=*=*=\n",
      "\n",
      " test log-loss for combination [n_estimators,max-depth,colsample_bytree,subsample] = [ 50 , 5 , 0.1 , 0.5 ] is  0.39493320889789424\n",
      "*=*=*=*=*=*=*=*=*=*=*=*=*=*=*=*=*=*=*=*=*=*=*=*=*=*=*=*=*=*=*=*=*=*=*=*=*=*=*=*=*=*=*=*=*=*=*=*=*=*=\n",
      "\n",
      " test log-loss for combination [n_estimators,max-depth,colsample_bytree,subsample] = [ 50 , 5 , 0.1 , 1 ] is  0.39496447663815876\n",
      "*=*=*=*=*=*=*=*=*=*=*=*=*=*=*=*=*=*=*=*=*=*=*=*=*=*=*=*=*=*=*=*=*=*=*=*=*=*=*=*=*=*=*=*=*=*=*=*=*=*=\n",
      "\n",
      " test log-loss for combination [n_estimators,max-depth,colsample_bytree,subsample] = [ 50 , 5 , 0.3 , 0.1 ] is  0.39498877081484535\n",
      "*=*=*=*=*=*=*=*=*=*=*=*=*=*=*=*=*=*=*=*=*=*=*=*=*=*=*=*=*=*=*=*=*=*=*=*=*=*=*=*=*=*=*=*=*=*=*=*=*=*=\n",
      "\n",
      " test log-loss for combination [n_estimators,max-depth,colsample_bytree,subsample] = [ 50 , 5 , 0.3 , 0.3 ] is  0.3947796265205778\n",
      "*=*=*=*=*=*=*=*=*=*=*=*=*=*=*=*=*=*=*=*=*=*=*=*=*=*=*=*=*=*=*=*=*=*=*=*=*=*=*=*=*=*=*=*=*=*=*=*=*=*=\n",
      "\n",
      " test log-loss for combination [n_estimators,max-depth,colsample_bytree,subsample] = [ 50 , 5 , 0.3 , 0.5 ] is  0.3947386164320242\n",
      "*=*=*=*=*=*=*=*=*=*=*=*=*=*=*=*=*=*=*=*=*=*=*=*=*=*=*=*=*=*=*=*=*=*=*=*=*=*=*=*=*=*=*=*=*=*=*=*=*=*=\n",
      "\n",
      " test log-loss for combination [n_estimators,max-depth,colsample_bytree,subsample] = [ 50 , 5 , 0.3 , 1 ] is  0.39486127041715013\n",
      "*=*=*=*=*=*=*=*=*=*=*=*=*=*=*=*=*=*=*=*=*=*=*=*=*=*=*=*=*=*=*=*=*=*=*=*=*=*=*=*=*=*=*=*=*=*=*=*=*=*=\n",
      "\n",
      " test log-loss for combination [n_estimators,max-depth,colsample_bytree,subsample] = [ 50 , 5 , 0.5 , 0.1 ] is  0.3946857732716985\n",
      "*=*=*=*=*=*=*=*=*=*=*=*=*=*=*=*=*=*=*=*=*=*=*=*=*=*=*=*=*=*=*=*=*=*=*=*=*=*=*=*=*=*=*=*=*=*=*=*=*=*=\n",
      "\n",
      " test log-loss for combination [n_estimators,max-depth,colsample_bytree,subsample] = [ 50 , 5 , 0.5 , 0.3 ] is  0.3946481531578377\n",
      "*=*=*=*=*=*=*=*=*=*=*=*=*=*=*=*=*=*=*=*=*=*=*=*=*=*=*=*=*=*=*=*=*=*=*=*=*=*=*=*=*=*=*=*=*=*=*=*=*=*=\n",
      "\n",
      " test log-loss for combination [n_estimators,max-depth,colsample_bytree,subsample] = [ 50 , 5 , 0.5 , 0.5 ] is  0.39475179667221566\n",
      "*=*=*=*=*=*=*=*=*=*=*=*=*=*=*=*=*=*=*=*=*=*=*=*=*=*=*=*=*=*=*=*=*=*=*=*=*=*=*=*=*=*=*=*=*=*=*=*=*=*=\n",
      "\n",
      " test log-loss for combination [n_estimators,max-depth,colsample_bytree,subsample] = [ 50 , 5 , 0.5 , 1 ] is  0.3949024509770805\n",
      "*=*=*=*=*=*=*=*=*=*=*=*=*=*=*=*=*=*=*=*=*=*=*=*=*=*=*=*=*=*=*=*=*=*=*=*=*=*=*=*=*=*=*=*=*=*=*=*=*=*=\n",
      "\n",
      " test log-loss for combination [n_estimators,max-depth,colsample_bytree,subsample] = [ 50 , 5 , 1 , 0.1 ] is  0.39473840938142873\n",
      "*=*=*=*=*=*=*=*=*=*=*=*=*=*=*=*=*=*=*=*=*=*=*=*=*=*=*=*=*=*=*=*=*=*=*=*=*=*=*=*=*=*=*=*=*=*=*=*=*=*=\n",
      "\n",
      " test log-loss for combination [n_estimators,max-depth,colsample_bytree,subsample] = [ 50 , 5 , 1 , 0.3 ] is  0.3946872206861842\n",
      "*=*=*=*=*=*=*=*=*=*=*=*=*=*=*=*=*=*=*=*=*=*=*=*=*=*=*=*=*=*=*=*=*=*=*=*=*=*=*=*=*=*=*=*=*=*=*=*=*=*=\n",
      "\n",
      " test log-loss for combination [n_estimators,max-depth,colsample_bytree,subsample] = [ 50 , 5 , 1 , 0.5 ] is  0.39467957531561887\n",
      "*=*=*=*=*=*=*=*=*=*=*=*=*=*=*=*=*=*=*=*=*=*=*=*=*=*=*=*=*=*=*=*=*=*=*=*=*=*=*=*=*=*=*=*=*=*=*=*=*=*=\n",
      "\n",
      " test log-loss for combination [n_estimators,max-depth,colsample_bytree,subsample] = [ 50 , 5 , 1 , 1 ] is  0.3949877070641825\n",
      "*=*=*=*=*=*=*=*=*=*=*=*=*=*=*=*=*=*=*=*=*=*=*=*=*=*=*=*=*=*=*=*=*=*=*=*=*=*=*=*=*=*=*=*=*=*=*=*=*=*=\n",
      "\n",
      " test log-loss for combination [n_estimators,max-depth,colsample_bytree,subsample] = [ 50 , 10 , 0.1 , 0.1 ] is  0.39335555221919155\n",
      "*=*=*=*=*=*=*=*=*=*=*=*=*=*=*=*=*=*=*=*=*=*=*=*=*=*=*=*=*=*=*=*=*=*=*=*=*=*=*=*=*=*=*=*=*=*=*=*=*=*=\n",
      "\n",
      " test log-loss for combination [n_estimators,max-depth,colsample_bytree,subsample] = [ 50 , 10 , 0.1 , 0.3 ] is  0.392928137872437\n",
      "*=*=*=*=*=*=*=*=*=*=*=*=*=*=*=*=*=*=*=*=*=*=*=*=*=*=*=*=*=*=*=*=*=*=*=*=*=*=*=*=*=*=*=*=*=*=*=*=*=*=\n",
      "\n",
      " test log-loss for combination [n_estimators,max-depth,colsample_bytree,subsample] = [ 50 , 10 , 0.1 , 0.5 ] is  0.3928174617988821\n",
      "*=*=*=*=*=*=*=*=*=*=*=*=*=*=*=*=*=*=*=*=*=*=*=*=*=*=*=*=*=*=*=*=*=*=*=*=*=*=*=*=*=*=*=*=*=*=*=*=*=*=\n",
      "\n",
      " test log-loss for combination [n_estimators,max-depth,colsample_bytree,subsample] = [ 50 , 10 , 0.1 , 1 ] is  0.39256331662669314\n",
      "*=*=*=*=*=*=*=*=*=*=*=*=*=*=*=*=*=*=*=*=*=*=*=*=*=*=*=*=*=*=*=*=*=*=*=*=*=*=*=*=*=*=*=*=*=*=*=*=*=*=\n",
      "\n",
      " test log-loss for combination [n_estimators,max-depth,colsample_bytree,subsample] = [ 50 , 10 , 0.3 , 0.1 ] is  0.3933779848637413\n",
      "*=*=*=*=*=*=*=*=*=*=*=*=*=*=*=*=*=*=*=*=*=*=*=*=*=*=*=*=*=*=*=*=*=*=*=*=*=*=*=*=*=*=*=*=*=*=*=*=*=*=\n",
      "\n",
      " test log-loss for combination [n_estimators,max-depth,colsample_bytree,subsample] = [ 50 , 10 , 0.3 , 0.3 ] is  0.3929041984244743\n",
      "*=*=*=*=*=*=*=*=*=*=*=*=*=*=*=*=*=*=*=*=*=*=*=*=*=*=*=*=*=*=*=*=*=*=*=*=*=*=*=*=*=*=*=*=*=*=*=*=*=*=\n",
      "\n",
      " test log-loss for combination [n_estimators,max-depth,colsample_bytree,subsample] = [ 50 , 10 , 0.3 , 0.5 ] is  0.3924561082952926\n",
      "*=*=*=*=*=*=*=*=*=*=*=*=*=*=*=*=*=*=*=*=*=*=*=*=*=*=*=*=*=*=*=*=*=*=*=*=*=*=*=*=*=*=*=*=*=*=*=*=*=*=\n",
      "\n",
      " test log-loss for combination [n_estimators,max-depth,colsample_bytree,subsample] = [ 50 , 10 , 0.3 , 1 ] is  0.39227489483285694\n",
      "*=*=*=*=*=*=*=*=*=*=*=*=*=*=*=*=*=*=*=*=*=*=*=*=*=*=*=*=*=*=*=*=*=*=*=*=*=*=*=*=*=*=*=*=*=*=*=*=*=*=\n",
      "\n",
      " test log-loss for combination [n_estimators,max-depth,colsample_bytree,subsample] = [ 50 , 10 , 0.5 , 0.1 ] is  0.3935516737709064\n",
      "*=*=*=*=*=*=*=*=*=*=*=*=*=*=*=*=*=*=*=*=*=*=*=*=*=*=*=*=*=*=*=*=*=*=*=*=*=*=*=*=*=*=*=*=*=*=*=*=*=*=\n",
      "\n",
      " test log-loss for combination [n_estimators,max-depth,colsample_bytree,subsample] = [ 50 , 10 , 0.5 , 0.3 ] is  0.39266359215662255\n",
      "*=*=*=*=*=*=*=*=*=*=*=*=*=*=*=*=*=*=*=*=*=*=*=*=*=*=*=*=*=*=*=*=*=*=*=*=*=*=*=*=*=*=*=*=*=*=*=*=*=*=\n",
      "\n",
      " test log-loss for combination [n_estimators,max-depth,colsample_bytree,subsample] = [ 50 , 10 , 0.5 , 0.5 ] is  0.3923211044647144\n",
      "*=*=*=*=*=*=*=*=*=*=*=*=*=*=*=*=*=*=*=*=*=*=*=*=*=*=*=*=*=*=*=*=*=*=*=*=*=*=*=*=*=*=*=*=*=*=*=*=*=*=\n",
      "\n",
      " test log-loss for combination [n_estimators,max-depth,colsample_bytree,subsample] = [ 50 , 10 , 0.5 , 1 ] is  0.3922235496727116\n",
      "*=*=*=*=*=*=*=*=*=*=*=*=*=*=*=*=*=*=*=*=*=*=*=*=*=*=*=*=*=*=*=*=*=*=*=*=*=*=*=*=*=*=*=*=*=*=*=*=*=*=\n",
      "\n",
      " test log-loss for combination [n_estimators,max-depth,colsample_bytree,subsample] = [ 50 , 10 , 1 , 0.1 ] is  0.3934449703335371\n",
      "*=*=*=*=*=*=*=*=*=*=*=*=*=*=*=*=*=*=*=*=*=*=*=*=*=*=*=*=*=*=*=*=*=*=*=*=*=*=*=*=*=*=*=*=*=*=*=*=*=*=\n",
      "\n",
      " test log-loss for combination [n_estimators,max-depth,colsample_bytree,subsample] = [ 50 , 10 , 1 , 0.3 ] is  0.3926825001208149\n",
      "*=*=*=*=*=*=*=*=*=*=*=*=*=*=*=*=*=*=*=*=*=*=*=*=*=*=*=*=*=*=*=*=*=*=*=*=*=*=*=*=*=*=*=*=*=*=*=*=*=*=\n",
      "\n",
      " test log-loss for combination [n_estimators,max-depth,colsample_bytree,subsample] = [ 50 , 10 , 1 , 0.5 ] is  0.39231081536788587\n",
      "*=*=*=*=*=*=*=*=*=*=*=*=*=*=*=*=*=*=*=*=*=*=*=*=*=*=*=*=*=*=*=*=*=*=*=*=*=*=*=*=*=*=*=*=*=*=*=*=*=*=\n",
      "\n",
      " test log-loss for combination [n_estimators,max-depth,colsample_bytree,subsample] = [ 50 , 10 , 1 , 1 ] is  0.3941575085642226\n",
      "*=*=*=*=*=*=*=*=*=*=*=*=*=*=*=*=*=*=*=*=*=*=*=*=*=*=*=*=*=*=*=*=*=*=*=*=*=*=*=*=*=*=*=*=*=*=*=*=*=*=\n",
      "\n",
      " test log-loss for combination [n_estimators,max-depth,colsample_bytree,subsample] = [ 100 , 3 , 0.1 , 0.1 ] is  0.394566664031744\n",
      "*=*=*=*=*=*=*=*=*=*=*=*=*=*=*=*=*=*=*=*=*=*=*=*=*=*=*=*=*=*=*=*=*=*=*=*=*=*=*=*=*=*=*=*=*=*=*=*=*=*=\n",
      "\n",
      " test log-loss for combination [n_estimators,max-depth,colsample_bytree,subsample] = [ 100 , 3 , 0.1 , 0.3 ] is  0.39475147529710924\n",
      "*=*=*=*=*=*=*=*=*=*=*=*=*=*=*=*=*=*=*=*=*=*=*=*=*=*=*=*=*=*=*=*=*=*=*=*=*=*=*=*=*=*=*=*=*=*=*=*=*=*=\n",
      "\n",
      " test log-loss for combination [n_estimators,max-depth,colsample_bytree,subsample] = [ 100 , 3 , 0.1 , 0.5 ] is  0.394723676260476\n",
      "*=*=*=*=*=*=*=*=*=*=*=*=*=*=*=*=*=*=*=*=*=*=*=*=*=*=*=*=*=*=*=*=*=*=*=*=*=*=*=*=*=*=*=*=*=*=*=*=*=*=\n",
      "\n",
      " test log-loss for combination [n_estimators,max-depth,colsample_bytree,subsample] = [ 100 , 3 , 0.1 , 1 ] is  0.39480298003276343\n",
      "*=*=*=*=*=*=*=*=*=*=*=*=*=*=*=*=*=*=*=*=*=*=*=*=*=*=*=*=*=*=*=*=*=*=*=*=*=*=*=*=*=*=*=*=*=*=*=*=*=*=\n",
      "\n",
      " test log-loss for combination [n_estimators,max-depth,colsample_bytree,subsample] = [ 100 , 3 , 0.3 , 0.1 ] is  0.3945777396349227\n",
      "*=*=*=*=*=*=*=*=*=*=*=*=*=*=*=*=*=*=*=*=*=*=*=*=*=*=*=*=*=*=*=*=*=*=*=*=*=*=*=*=*=*=*=*=*=*=*=*=*=*=\n",
      "\n",
      " test log-loss for combination [n_estimators,max-depth,colsample_bytree,subsample] = [ 100 , 3 , 0.3 , 0.3 ] is  0.39476816363024947\n",
      "*=*=*=*=*=*=*=*=*=*=*=*=*=*=*=*=*=*=*=*=*=*=*=*=*=*=*=*=*=*=*=*=*=*=*=*=*=*=*=*=*=*=*=*=*=*=*=*=*=*=\n",
      "\n",
      " test log-loss for combination [n_estimators,max-depth,colsample_bytree,subsample] = [ 100 , 3 , 0.3 , 0.5 ] is  0.39481414418082966\n",
      "*=*=*=*=*=*=*=*=*=*=*=*=*=*=*=*=*=*=*=*=*=*=*=*=*=*=*=*=*=*=*=*=*=*=*=*=*=*=*=*=*=*=*=*=*=*=*=*=*=*=\n",
      "\n",
      " test log-loss for combination [n_estimators,max-depth,colsample_bytree,subsample] = [ 100 , 3 , 0.3 , 1 ] is  0.39505313380414436\n",
      "*=*=*=*=*=*=*=*=*=*=*=*=*=*=*=*=*=*=*=*=*=*=*=*=*=*=*=*=*=*=*=*=*=*=*=*=*=*=*=*=*=*=*=*=*=*=*=*=*=*=\n",
      "\n",
      " test log-loss for combination [n_estimators,max-depth,colsample_bytree,subsample] = [ 100 , 3 , 0.5 , 0.1 ] is  0.3944867780474508\n",
      "*=*=*=*=*=*=*=*=*=*=*=*=*=*=*=*=*=*=*=*=*=*=*=*=*=*=*=*=*=*=*=*=*=*=*=*=*=*=*=*=*=*=*=*=*=*=*=*=*=*=\n",
      "\n",
      " test log-loss for combination [n_estimators,max-depth,colsample_bytree,subsample] = [ 100 , 3 , 0.5 , 0.3 ] is  0.39488845426962804\n",
      "*=*=*=*=*=*=*=*=*=*=*=*=*=*=*=*=*=*=*=*=*=*=*=*=*=*=*=*=*=*=*=*=*=*=*=*=*=*=*=*=*=*=*=*=*=*=*=*=*=*=\n",
      "\n",
      " test log-loss for combination [n_estimators,max-depth,colsample_bytree,subsample] = [ 100 , 3 , 0.5 , 0.5 ] is  0.39493038640688777\n",
      "*=*=*=*=*=*=*=*=*=*=*=*=*=*=*=*=*=*=*=*=*=*=*=*=*=*=*=*=*=*=*=*=*=*=*=*=*=*=*=*=*=*=*=*=*=*=*=*=*=*=\n",
      "\n",
      " test log-loss for combination [n_estimators,max-depth,colsample_bytree,subsample] = [ 100 , 3 , 0.5 , 1 ] is  0.3950841162578771\n",
      "*=*=*=*=*=*=*=*=*=*=*=*=*=*=*=*=*=*=*=*=*=*=*=*=*=*=*=*=*=*=*=*=*=*=*=*=*=*=*=*=*=*=*=*=*=*=*=*=*=*=\n",
      "\n",
      " test log-loss for combination [n_estimators,max-depth,colsample_bytree,subsample] = [ 100 , 3 , 1 , 0.1 ] is  0.3945306723796148\n",
      "*=*=*=*=*=*=*=*=*=*=*=*=*=*=*=*=*=*=*=*=*=*=*=*=*=*=*=*=*=*=*=*=*=*=*=*=*=*=*=*=*=*=*=*=*=*=*=*=*=*=\n",
      "\n",
      " test log-loss for combination [n_estimators,max-depth,colsample_bytree,subsample] = [ 100 , 3 , 1 , 0.3 ] is  0.3947149540102482\n",
      "*=*=*=*=*=*=*=*=*=*=*=*=*=*=*=*=*=*=*=*=*=*=*=*=*=*=*=*=*=*=*=*=*=*=*=*=*=*=*=*=*=*=*=*=*=*=*=*=*=*=\n",
      "\n",
      " test log-loss for combination [n_estimators,max-depth,colsample_bytree,subsample] = [ 100 , 3 , 1 , 0.5 ] is  0.39483474419015835\n",
      "*=*=*=*=*=*=*=*=*=*=*=*=*=*=*=*=*=*=*=*=*=*=*=*=*=*=*=*=*=*=*=*=*=*=*=*=*=*=*=*=*=*=*=*=*=*=*=*=*=*=\n",
      "\n",
      " test log-loss for combination [n_estimators,max-depth,colsample_bytree,subsample] = [ 100 , 3 , 1 , 1 ] is  0.39495797231146645\n",
      "*=*=*=*=*=*=*=*=*=*=*=*=*=*=*=*=*=*=*=*=*=*=*=*=*=*=*=*=*=*=*=*=*=*=*=*=*=*=*=*=*=*=*=*=*=*=*=*=*=*=\n",
      "\n",
      " test log-loss for combination [n_estimators,max-depth,colsample_bytree,subsample] = [ 100 , 5 , 0.1 , 0.1 ] is  0.3932980234654052\n",
      "*=*=*=*=*=*=*=*=*=*=*=*=*=*=*=*=*=*=*=*=*=*=*=*=*=*=*=*=*=*=*=*=*=*=*=*=*=*=*=*=*=*=*=*=*=*=*=*=*=*=\n",
      "\n",
      " test log-loss for combination [n_estimators,max-depth,colsample_bytree,subsample] = [ 100 , 5 , 0.1 , 0.3 ] is  0.39320948857376864\n",
      "*=*=*=*=*=*=*=*=*=*=*=*=*=*=*=*=*=*=*=*=*=*=*=*=*=*=*=*=*=*=*=*=*=*=*=*=*=*=*=*=*=*=*=*=*=*=*=*=*=*=\n",
      "\n",
      " test log-loss for combination [n_estimators,max-depth,colsample_bytree,subsample] = [ 100 , 5 , 0.1 , 0.5 ] is  0.3932111922812969\n",
      "*=*=*=*=*=*=*=*=*=*=*=*=*=*=*=*=*=*=*=*=*=*=*=*=*=*=*=*=*=*=*=*=*=*=*=*=*=*=*=*=*=*=*=*=*=*=*=*=*=*=\n",
      "\n",
      " test log-loss for combination [n_estimators,max-depth,colsample_bytree,subsample] = [ 100 , 5 , 0.1 , 1 ] is  0.3932904471574025\n",
      "*=*=*=*=*=*=*=*=*=*=*=*=*=*=*=*=*=*=*=*=*=*=*=*=*=*=*=*=*=*=*=*=*=*=*=*=*=*=*=*=*=*=*=*=*=*=*=*=*=*=\n",
      "\n",
      " test log-loss for combination [n_estimators,max-depth,colsample_bytree,subsample] = [ 100 , 5 , 0.3 , 0.1 ] is  0.39298911220235005\n",
      "*=*=*=*=*=*=*=*=*=*=*=*=*=*=*=*=*=*=*=*=*=*=*=*=*=*=*=*=*=*=*=*=*=*=*=*=*=*=*=*=*=*=*=*=*=*=*=*=*=*=\n",
      "\n",
      " test log-loss for combination [n_estimators,max-depth,colsample_bytree,subsample] = [ 100 , 5 , 0.3 , 0.3 ] is  0.3929960496048061\n",
      "*=*=*=*=*=*=*=*=*=*=*=*=*=*=*=*=*=*=*=*=*=*=*=*=*=*=*=*=*=*=*=*=*=*=*=*=*=*=*=*=*=*=*=*=*=*=*=*=*=*=\n",
      "\n",
      " test log-loss for combination [n_estimators,max-depth,colsample_bytree,subsample] = [ 100 , 5 , 0.3 , 0.5 ] is  0.3930731191325267\n",
      "*=*=*=*=*=*=*=*=*=*=*=*=*=*=*=*=*=*=*=*=*=*=*=*=*=*=*=*=*=*=*=*=*=*=*=*=*=*=*=*=*=*=*=*=*=*=*=*=*=*=\n",
      "\n",
      " test log-loss for combination [n_estimators,max-depth,colsample_bytree,subsample] = [ 100 , 5 , 0.3 , 1 ] is  0.39302235888910664\n",
      "*=*=*=*=*=*=*=*=*=*=*=*=*=*=*=*=*=*=*=*=*=*=*=*=*=*=*=*=*=*=*=*=*=*=*=*=*=*=*=*=*=*=*=*=*=*=*=*=*=*=\n",
      "\n",
      " test log-loss for combination [n_estimators,max-depth,colsample_bytree,subsample] = [ 100 , 5 , 0.5 , 0.1 ] is  0.3928956938507133\n",
      "*=*=*=*=*=*=*=*=*=*=*=*=*=*=*=*=*=*=*=*=*=*=*=*=*=*=*=*=*=*=*=*=*=*=*=*=*=*=*=*=*=*=*=*=*=*=*=*=*=*=\n",
      "\n",
      " test log-loss for combination [n_estimators,max-depth,colsample_bytree,subsample] = [ 100 , 5 , 0.5 , 0.3 ] is  0.39293015119045416\n",
      "*=*=*=*=*=*=*=*=*=*=*=*=*=*=*=*=*=*=*=*=*=*=*=*=*=*=*=*=*=*=*=*=*=*=*=*=*=*=*=*=*=*=*=*=*=*=*=*=*=*=\n",
      "\n",
      " test log-loss for combination [n_estimators,max-depth,colsample_bytree,subsample] = [ 100 , 5 , 0.5 , 0.5 ] is  0.3929275534343775\n",
      "*=*=*=*=*=*=*=*=*=*=*=*=*=*=*=*=*=*=*=*=*=*=*=*=*=*=*=*=*=*=*=*=*=*=*=*=*=*=*=*=*=*=*=*=*=*=*=*=*=*=\n",
      "\n",
      " test log-loss for combination [n_estimators,max-depth,colsample_bytree,subsample] = [ 100 , 5 , 0.5 , 1 ] is  0.39319304257317633\n",
      "*=*=*=*=*=*=*=*=*=*=*=*=*=*=*=*=*=*=*=*=*=*=*=*=*=*=*=*=*=*=*=*=*=*=*=*=*=*=*=*=*=*=*=*=*=*=*=*=*=*=\n",
      "\n",
      " test log-loss for combination [n_estimators,max-depth,colsample_bytree,subsample] = [ 100 , 5 , 1 , 0.1 ] is  0.3929132920379932\n",
      "*=*=*=*=*=*=*=*=*=*=*=*=*=*=*=*=*=*=*=*=*=*=*=*=*=*=*=*=*=*=*=*=*=*=*=*=*=*=*=*=*=*=*=*=*=*=*=*=*=*=\n",
      "\n",
      " test log-loss for combination [n_estimators,max-depth,colsample_bytree,subsample] = [ 100 , 5 , 1 , 0.3 ] is  0.3928428294444396\n",
      "*=*=*=*=*=*=*=*=*=*=*=*=*=*=*=*=*=*=*=*=*=*=*=*=*=*=*=*=*=*=*=*=*=*=*=*=*=*=*=*=*=*=*=*=*=*=*=*=*=*=\n",
      "\n",
      " test log-loss for combination [n_estimators,max-depth,colsample_bytree,subsample] = [ 100 , 5 , 1 , 0.5 ] is  0.3929409210094758\n",
      "*=*=*=*=*=*=*=*=*=*=*=*=*=*=*=*=*=*=*=*=*=*=*=*=*=*=*=*=*=*=*=*=*=*=*=*=*=*=*=*=*=*=*=*=*=*=*=*=*=*=\n",
      "\n",
      " test log-loss for combination [n_estimators,max-depth,colsample_bytree,subsample] = [ 100 , 5 , 1 , 1 ] is  0.3934358027118566\n",
      "*=*=*=*=*=*=*=*=*=*=*=*=*=*=*=*=*=*=*=*=*=*=*=*=*=*=*=*=*=*=*=*=*=*=*=*=*=*=*=*=*=*=*=*=*=*=*=*=*=*=\n",
      "\n",
      " test log-loss for combination [n_estimators,max-depth,colsample_bytree,subsample] = [ 100 , 10 , 0.1 , 0.1 ] is  0.3918389512516805\n",
      "*=*=*=*=*=*=*=*=*=*=*=*=*=*=*=*=*=*=*=*=*=*=*=*=*=*=*=*=*=*=*=*=*=*=*=*=*=*=*=*=*=*=*=*=*=*=*=*=*=*=\n",
      "\n",
      " test log-loss for combination [n_estimators,max-depth,colsample_bytree,subsample] = [ 100 , 10 , 0.1 , 0.3 ] is  0.39127133611492115\n",
      "*=*=*=*=*=*=*=*=*=*=*=*=*=*=*=*=*=*=*=*=*=*=*=*=*=*=*=*=*=*=*=*=*=*=*=*=*=*=*=*=*=*=*=*=*=*=*=*=*=*=\n",
      "\n",
      " test log-loss for combination [n_estimators,max-depth,colsample_bytree,subsample] = [ 100 , 10 , 0.1 , 0.5 ] is  0.3910853484135587\n",
      "*=*=*=*=*=*=*=*=*=*=*=*=*=*=*=*=*=*=*=*=*=*=*=*=*=*=*=*=*=*=*=*=*=*=*=*=*=*=*=*=*=*=*=*=*=*=*=*=*=*=\n",
      "\n",
      " test log-loss for combination [n_estimators,max-depth,colsample_bytree,subsample] = [ 100 , 10 , 0.1 , 1 ] is  0.39091711617978336\n",
      "*=*=*=*=*=*=*=*=*=*=*=*=*=*=*=*=*=*=*=*=*=*=*=*=*=*=*=*=*=*=*=*=*=*=*=*=*=*=*=*=*=*=*=*=*=*=*=*=*=*=\n",
      "\n",
      " test log-loss for combination [n_estimators,max-depth,colsample_bytree,subsample] = [ 100 , 10 , 0.3 , 0.1 ] is  0.3918192854772103\n",
      "*=*=*=*=*=*=*=*=*=*=*=*=*=*=*=*=*=*=*=*=*=*=*=*=*=*=*=*=*=*=*=*=*=*=*=*=*=*=*=*=*=*=*=*=*=*=*=*=*=*=\n",
      "\n",
      " test log-loss for combination [n_estimators,max-depth,colsample_bytree,subsample] = [ 100 , 10 , 0.3 , 0.3 ] is  0.39130427167140064\n",
      "*=*=*=*=*=*=*=*=*=*=*=*=*=*=*=*=*=*=*=*=*=*=*=*=*=*=*=*=*=*=*=*=*=*=*=*=*=*=*=*=*=*=*=*=*=*=*=*=*=*=\n",
      "\n",
      " test log-loss for combination [n_estimators,max-depth,colsample_bytree,subsample] = [ 100 , 10 , 0.3 , 0.5 ] is  0.39101597866723664\n",
      "*=*=*=*=*=*=*=*=*=*=*=*=*=*=*=*=*=*=*=*=*=*=*=*=*=*=*=*=*=*=*=*=*=*=*=*=*=*=*=*=*=*=*=*=*=*=*=*=*=*=\n",
      "\n",
      " test log-loss for combination [n_estimators,max-depth,colsample_bytree,subsample] = [ 100 , 10 , 0.3 , 1 ] is  0.3910338942203019\n",
      "*=*=*=*=*=*=*=*=*=*=*=*=*=*=*=*=*=*=*=*=*=*=*=*=*=*=*=*=*=*=*=*=*=*=*=*=*=*=*=*=*=*=*=*=*=*=*=*=*=*=\n",
      "\n",
      " test log-loss for combination [n_estimators,max-depth,colsample_bytree,subsample] = [ 100 , 10 , 0.5 , 0.1 ] is  0.3915013049240517\n",
      "*=*=*=*=*=*=*=*=*=*=*=*=*=*=*=*=*=*=*=*=*=*=*=*=*=*=*=*=*=*=*=*=*=*=*=*=*=*=*=*=*=*=*=*=*=*=*=*=*=*=\n",
      "\n",
      " test log-loss for combination [n_estimators,max-depth,colsample_bytree,subsample] = [ 100 , 10 , 0.5 , 0.3 ] is  0.39121386726773555\n",
      "*=*=*=*=*=*=*=*=*=*=*=*=*=*=*=*=*=*=*=*=*=*=*=*=*=*=*=*=*=*=*=*=*=*=*=*=*=*=*=*=*=*=*=*=*=*=*=*=*=*=\n",
      "\n",
      " test log-loss for combination [n_estimators,max-depth,colsample_bytree,subsample] = [ 100 , 10 , 0.5 , 0.5 ] is  0.3907976509931511\n",
      "*=*=*=*=*=*=*=*=*=*=*=*=*=*=*=*=*=*=*=*=*=*=*=*=*=*=*=*=*=*=*=*=*=*=*=*=*=*=*=*=*=*=*=*=*=*=*=*=*=*=\n",
      "\n",
      " test log-loss for combination [n_estimators,max-depth,colsample_bytree,subsample] = [ 100 , 10 , 0.5 , 1 ] is  0.39128541499976\n",
      "*=*=*=*=*=*=*=*=*=*=*=*=*=*=*=*=*=*=*=*=*=*=*=*=*=*=*=*=*=*=*=*=*=*=*=*=*=*=*=*=*=*=*=*=*=*=*=*=*=*=\n",
      "\n",
      " test log-loss for combination [n_estimators,max-depth,colsample_bytree,subsample] = [ 100 , 10 , 1 , 0.1 ] is  0.39181161865109393\n",
      "*=*=*=*=*=*=*=*=*=*=*=*=*=*=*=*=*=*=*=*=*=*=*=*=*=*=*=*=*=*=*=*=*=*=*=*=*=*=*=*=*=*=*=*=*=*=*=*=*=*=\n",
      "\n",
      " test log-loss for combination [n_estimators,max-depth,colsample_bytree,subsample] = [ 100 , 10 , 1 , 0.3 ] is  0.39152804874886854\n",
      "*=*=*=*=*=*=*=*=*=*=*=*=*=*=*=*=*=*=*=*=*=*=*=*=*=*=*=*=*=*=*=*=*=*=*=*=*=*=*=*=*=*=*=*=*=*=*=*=*=*=\n",
      "\n",
      " test log-loss for combination [n_estimators,max-depth,colsample_bytree,subsample] = [ 100 , 10 , 1 , 0.5 ] is  0.391339360083282\n",
      "*=*=*=*=*=*=*=*=*=*=*=*=*=*=*=*=*=*=*=*=*=*=*=*=*=*=*=*=*=*=*=*=*=*=*=*=*=*=*=*=*=*=*=*=*=*=*=*=*=*=\n",
      "\n",
      " test log-loss for combination [n_estimators,max-depth,colsample_bytree,subsample] = [ 100 , 10 , 1 , 1 ] is  0.39452933037055643\n",
      "*=*=*=*=*=*=*=*=*=*=*=*=*=*=*=*=*=*=*=*=*=*=*=*=*=*=*=*=*=*=*=*=*=*=*=*=*=*=*=*=*=*=*=*=*=*=*=*=*=*=\n",
      "\n",
      " test log-loss for combination [n_estimators,max-depth,colsample_bytree,subsample] = [ 200 , 3 , 0.1 , 0.1 ] is  0.3935908655328108\n",
      "*=*=*=*=*=*=*=*=*=*=*=*=*=*=*=*=*=*=*=*=*=*=*=*=*=*=*=*=*=*=*=*=*=*=*=*=*=*=*=*=*=*=*=*=*=*=*=*=*=*=\n",
      "\n",
      " test log-loss for combination [n_estimators,max-depth,colsample_bytree,subsample] = [ 200 , 3 , 0.1 , 0.3 ] is  0.3935489992108238\n",
      "*=*=*=*=*=*=*=*=*=*=*=*=*=*=*=*=*=*=*=*=*=*=*=*=*=*=*=*=*=*=*=*=*=*=*=*=*=*=*=*=*=*=*=*=*=*=*=*=*=*=\n",
      "\n",
      " test log-loss for combination [n_estimators,max-depth,colsample_bytree,subsample] = [ 200 , 3 , 0.1 , 0.5 ] is  0.3936915026814747\n",
      "*=*=*=*=*=*=*=*=*=*=*=*=*=*=*=*=*=*=*=*=*=*=*=*=*=*=*=*=*=*=*=*=*=*=*=*=*=*=*=*=*=*=*=*=*=*=*=*=*=*=\n",
      "\n",
      " test log-loss for combination [n_estimators,max-depth,colsample_bytree,subsample] = [ 200 , 3 , 0.1 , 1 ] is  0.3938784716992765\n",
      "*=*=*=*=*=*=*=*=*=*=*=*=*=*=*=*=*=*=*=*=*=*=*=*=*=*=*=*=*=*=*=*=*=*=*=*=*=*=*=*=*=*=*=*=*=*=*=*=*=*=\n",
      "\n",
      " test log-loss for combination [n_estimators,max-depth,colsample_bytree,subsample] = [ 200 , 3 , 0.3 , 0.1 ] is  0.3935981919335476\n",
      "*=*=*=*=*=*=*=*=*=*=*=*=*=*=*=*=*=*=*=*=*=*=*=*=*=*=*=*=*=*=*=*=*=*=*=*=*=*=*=*=*=*=*=*=*=*=*=*=*=*=\n",
      "\n",
      " test log-loss for combination [n_estimators,max-depth,colsample_bytree,subsample] = [ 200 , 3 , 0.3 , 0.3 ] is  0.39350485620878495\n",
      "*=*=*=*=*=*=*=*=*=*=*=*=*=*=*=*=*=*=*=*=*=*=*=*=*=*=*=*=*=*=*=*=*=*=*=*=*=*=*=*=*=*=*=*=*=*=*=*=*=*=\n",
      "\n",
      " test log-loss for combination [n_estimators,max-depth,colsample_bytree,subsample] = [ 200 , 3 , 0.3 , 0.5 ] is  0.3936957328549726\n",
      "*=*=*=*=*=*=*=*=*=*=*=*=*=*=*=*=*=*=*=*=*=*=*=*=*=*=*=*=*=*=*=*=*=*=*=*=*=*=*=*=*=*=*=*=*=*=*=*=*=*=\n",
      "\n",
      " test log-loss for combination [n_estimators,max-depth,colsample_bytree,subsample] = [ 200 , 3 , 0.3 , 1 ] is  0.3939637568512335\n",
      "*=*=*=*=*=*=*=*=*=*=*=*=*=*=*=*=*=*=*=*=*=*=*=*=*=*=*=*=*=*=*=*=*=*=*=*=*=*=*=*=*=*=*=*=*=*=*=*=*=*=\n",
      "\n",
      " test log-loss for combination [n_estimators,max-depth,colsample_bytree,subsample] = [ 200 , 3 , 0.5 , 0.1 ] is  0.39361685180590766\n",
      "*=*=*=*=*=*=*=*=*=*=*=*=*=*=*=*=*=*=*=*=*=*=*=*=*=*=*=*=*=*=*=*=*=*=*=*=*=*=*=*=*=*=*=*=*=*=*=*=*=*=\n",
      "\n",
      " test log-loss for combination [n_estimators,max-depth,colsample_bytree,subsample] = [ 200 , 3 , 0.5 , 0.3 ] is  0.3936619327981449\n",
      "*=*=*=*=*=*=*=*=*=*=*=*=*=*=*=*=*=*=*=*=*=*=*=*=*=*=*=*=*=*=*=*=*=*=*=*=*=*=*=*=*=*=*=*=*=*=*=*=*=*=\n",
      "\n",
      " test log-loss for combination [n_estimators,max-depth,colsample_bytree,subsample] = [ 200 , 3 , 0.5 , 0.5 ] is  0.39390265365246124\n",
      "*=*=*=*=*=*=*=*=*=*=*=*=*=*=*=*=*=*=*=*=*=*=*=*=*=*=*=*=*=*=*=*=*=*=*=*=*=*=*=*=*=*=*=*=*=*=*=*=*=*=\n",
      "\n",
      " test log-loss for combination [n_estimators,max-depth,colsample_bytree,subsample] = [ 200 , 3 , 0.5 , 1 ] is  0.39406005905733654\n",
      "*=*=*=*=*=*=*=*=*=*=*=*=*=*=*=*=*=*=*=*=*=*=*=*=*=*=*=*=*=*=*=*=*=*=*=*=*=*=*=*=*=*=*=*=*=*=*=*=*=*=\n",
      "\n",
      " test log-loss for combination [n_estimators,max-depth,colsample_bytree,subsample] = [ 200 , 3 , 1 , 0.1 ] is  0.39364830386527117\n",
      "*=*=*=*=*=*=*=*=*=*=*=*=*=*=*=*=*=*=*=*=*=*=*=*=*=*=*=*=*=*=*=*=*=*=*=*=*=*=*=*=*=*=*=*=*=*=*=*=*=*=\n",
      "\n",
      " test log-loss for combination [n_estimators,max-depth,colsample_bytree,subsample] = [ 200 , 3 , 1 , 0.3 ] is  0.39362037293240476\n",
      "*=*=*=*=*=*=*=*=*=*=*=*=*=*=*=*=*=*=*=*=*=*=*=*=*=*=*=*=*=*=*=*=*=*=*=*=*=*=*=*=*=*=*=*=*=*=*=*=*=*=\n",
      "\n",
      " test log-loss for combination [n_estimators,max-depth,colsample_bytree,subsample] = [ 200 , 3 , 1 , 0.5 ] is  0.3939028499969114\n",
      "*=*=*=*=*=*=*=*=*=*=*=*=*=*=*=*=*=*=*=*=*=*=*=*=*=*=*=*=*=*=*=*=*=*=*=*=*=*=*=*=*=*=*=*=*=*=*=*=*=*=\n",
      "\n",
      " test log-loss for combination [n_estimators,max-depth,colsample_bytree,subsample] = [ 200 , 3 , 1 , 1 ] is  0.39442241628687036\n",
      "*=*=*=*=*=*=*=*=*=*=*=*=*=*=*=*=*=*=*=*=*=*=*=*=*=*=*=*=*=*=*=*=*=*=*=*=*=*=*=*=*=*=*=*=*=*=*=*=*=*=\n",
      "\n",
      " test log-loss for combination [n_estimators,max-depth,colsample_bytree,subsample] = [ 200 , 5 , 0.1 , 0.1 ] is  0.3925940332557848\n",
      "*=*=*=*=*=*=*=*=*=*=*=*=*=*=*=*=*=*=*=*=*=*=*=*=*=*=*=*=*=*=*=*=*=*=*=*=*=*=*=*=*=*=*=*=*=*=*=*=*=*=\n",
      "\n",
      " test log-loss for combination [n_estimators,max-depth,colsample_bytree,subsample] = [ 200 , 5 , 0.1 , 0.3 ] is  0.39227435637322045\n",
      "*=*=*=*=*=*=*=*=*=*=*=*=*=*=*=*=*=*=*=*=*=*=*=*=*=*=*=*=*=*=*=*=*=*=*=*=*=*=*=*=*=*=*=*=*=*=*=*=*=*=\n",
      "\n",
      " test log-loss for combination [n_estimators,max-depth,colsample_bytree,subsample] = [ 200 , 5 , 0.1 , 0.5 ] is  0.392319190904004\n",
      "*=*=*=*=*=*=*=*=*=*=*=*=*=*=*=*=*=*=*=*=*=*=*=*=*=*=*=*=*=*=*=*=*=*=*=*=*=*=*=*=*=*=*=*=*=*=*=*=*=*=\n",
      "\n",
      " test log-loss for combination [n_estimators,max-depth,colsample_bytree,subsample] = [ 200 , 5 , 0.1 , 1 ] is  0.39241890267505686\n",
      "*=*=*=*=*=*=*=*=*=*=*=*=*=*=*=*=*=*=*=*=*=*=*=*=*=*=*=*=*=*=*=*=*=*=*=*=*=*=*=*=*=*=*=*=*=*=*=*=*=*=\n",
      "\n",
      " test log-loss for combination [n_estimators,max-depth,colsample_bytree,subsample] = [ 200 , 5 , 0.3 , 0.1 ] is  0.39231230379593324\n",
      "*=*=*=*=*=*=*=*=*=*=*=*=*=*=*=*=*=*=*=*=*=*=*=*=*=*=*=*=*=*=*=*=*=*=*=*=*=*=*=*=*=*=*=*=*=*=*=*=*=*=\n",
      "\n",
      " test log-loss for combination [n_estimators,max-depth,colsample_bytree,subsample] = [ 200 , 5 , 0.3 , 0.3 ] is  0.392138320867094\n",
      "*=*=*=*=*=*=*=*=*=*=*=*=*=*=*=*=*=*=*=*=*=*=*=*=*=*=*=*=*=*=*=*=*=*=*=*=*=*=*=*=*=*=*=*=*=*=*=*=*=*=\n",
      "\n",
      " test log-loss for combination [n_estimators,max-depth,colsample_bytree,subsample] = [ 200 , 5 , 0.3 , 0.5 ] is  0.3922451120128627\n",
      "*=*=*=*=*=*=*=*=*=*=*=*=*=*=*=*=*=*=*=*=*=*=*=*=*=*=*=*=*=*=*=*=*=*=*=*=*=*=*=*=*=*=*=*=*=*=*=*=*=*=\n",
      "\n",
      " test log-loss for combination [n_estimators,max-depth,colsample_bytree,subsample] = [ 200 , 5 , 0.3 , 1 ] is  0.39267590588219137\n",
      "*=*=*=*=*=*=*=*=*=*=*=*=*=*=*=*=*=*=*=*=*=*=*=*=*=*=*=*=*=*=*=*=*=*=*=*=*=*=*=*=*=*=*=*=*=*=*=*=*=*=\n",
      "\n",
      " test log-loss for combination [n_estimators,max-depth,colsample_bytree,subsample] = [ 200 , 5 , 0.5 , 0.1 ] is  0.3923525932718562\n",
      "*=*=*=*=*=*=*=*=*=*=*=*=*=*=*=*=*=*=*=*=*=*=*=*=*=*=*=*=*=*=*=*=*=*=*=*=*=*=*=*=*=*=*=*=*=*=*=*=*=*=\n",
      "\n",
      " test log-loss for combination [n_estimators,max-depth,colsample_bytree,subsample] = [ 200 , 5 , 0.5 , 0.3 ] is  0.3923589594772018\n",
      "*=*=*=*=*=*=*=*=*=*=*=*=*=*=*=*=*=*=*=*=*=*=*=*=*=*=*=*=*=*=*=*=*=*=*=*=*=*=*=*=*=*=*=*=*=*=*=*=*=*=\n",
      "\n",
      " test log-loss for combination [n_estimators,max-depth,colsample_bytree,subsample] = [ 200 , 5 , 0.5 , 0.5 ] is  0.39243924558504906\n",
      "*=*=*=*=*=*=*=*=*=*=*=*=*=*=*=*=*=*=*=*=*=*=*=*=*=*=*=*=*=*=*=*=*=*=*=*=*=*=*=*=*=*=*=*=*=*=*=*=*=*=\n",
      "\n",
      " test log-loss for combination [n_estimators,max-depth,colsample_bytree,subsample] = [ 200 , 5 , 0.5 , 1 ] is  0.3930141815544476\n",
      "*=*=*=*=*=*=*=*=*=*=*=*=*=*=*=*=*=*=*=*=*=*=*=*=*=*=*=*=*=*=*=*=*=*=*=*=*=*=*=*=*=*=*=*=*=*=*=*=*=*=\n",
      "\n",
      " test log-loss for combination [n_estimators,max-depth,colsample_bytree,subsample] = [ 200 , 5 , 1 , 0.1 ] is  0.39223987342230276\n",
      "*=*=*=*=*=*=*=*=*=*=*=*=*=*=*=*=*=*=*=*=*=*=*=*=*=*=*=*=*=*=*=*=*=*=*=*=*=*=*=*=*=*=*=*=*=*=*=*=*=*=\n",
      "\n",
      " test log-loss for combination [n_estimators,max-depth,colsample_bytree,subsample] = [ 200 , 5 , 1 , 0.3 ] is  0.39229589354782785\n",
      "*=*=*=*=*=*=*=*=*=*=*=*=*=*=*=*=*=*=*=*=*=*=*=*=*=*=*=*=*=*=*=*=*=*=*=*=*=*=*=*=*=*=*=*=*=*=*=*=*=*=\n",
      "\n",
      " test log-loss for combination [n_estimators,max-depth,colsample_bytree,subsample] = [ 200 , 5 , 1 , 0.5 ] is  0.39251922801971345\n",
      "*=*=*=*=*=*=*=*=*=*=*=*=*=*=*=*=*=*=*=*=*=*=*=*=*=*=*=*=*=*=*=*=*=*=*=*=*=*=*=*=*=*=*=*=*=*=*=*=*=*=\n",
      "\n",
      " test log-loss for combination [n_estimators,max-depth,colsample_bytree,subsample] = [ 200 , 5 , 1 , 1 ] is  0.3940066571821888\n",
      "*=*=*=*=*=*=*=*=*=*=*=*=*=*=*=*=*=*=*=*=*=*=*=*=*=*=*=*=*=*=*=*=*=*=*=*=*=*=*=*=*=*=*=*=*=*=*=*=*=*=\n",
      "\n",
      " test log-loss for combination [n_estimators,max-depth,colsample_bytree,subsample] = [ 200 , 10 , 0.1 , 0.1 ] is  0.3911523947507758\n",
      "*=*=*=*=*=*=*=*=*=*=*=*=*=*=*=*=*=*=*=*=*=*=*=*=*=*=*=*=*=*=*=*=*=*=*=*=*=*=*=*=*=*=*=*=*=*=*=*=*=*=\n",
      "\n",
      " test log-loss for combination [n_estimators,max-depth,colsample_bytree,subsample] = [ 200 , 10 , 0.1 , 0.3 ] is  0.3908791497640255\n",
      "*=*=*=*=*=*=*=*=*=*=*=*=*=*=*=*=*=*=*=*=*=*=*=*=*=*=*=*=*=*=*=*=*=*=*=*=*=*=*=*=*=*=*=*=*=*=*=*=*=*=\n",
      "\n",
      " test log-loss for combination [n_estimators,max-depth,colsample_bytree,subsample] = [ 200 , 10 , 0.1 , 0.5 ] is  0.3906587749887899\n",
      "*=*=*=*=*=*=*=*=*=*=*=*=*=*=*=*=*=*=*=*=*=*=*=*=*=*=*=*=*=*=*=*=*=*=*=*=*=*=*=*=*=*=*=*=*=*=*=*=*=*=\n",
      "\n",
      " test log-loss for combination [n_estimators,max-depth,colsample_bytree,subsample] = [ 200 , 10 , 0.1 , 1 ] is  0.3907204798496084\n",
      "*=*=*=*=*=*=*=*=*=*=*=*=*=*=*=*=*=*=*=*=*=*=*=*=*=*=*=*=*=*=*=*=*=*=*=*=*=*=*=*=*=*=*=*=*=*=*=*=*=*=\n",
      "\n",
      " test log-loss for combination [n_estimators,max-depth,colsample_bytree,subsample] = [ 200 , 10 , 0.3 , 0.1 ] is  0.3916898238635634\n",
      "*=*=*=*=*=*=*=*=*=*=*=*=*=*=*=*=*=*=*=*=*=*=*=*=*=*=*=*=*=*=*=*=*=*=*=*=*=*=*=*=*=*=*=*=*=*=*=*=*=*=\n",
      "\n",
      " test log-loss for combination [n_estimators,max-depth,colsample_bytree,subsample] = [ 200 , 10 , 0.3 , 0.3 ] is  0.39102902055484395\n",
      "*=*=*=*=*=*=*=*=*=*=*=*=*=*=*=*=*=*=*=*=*=*=*=*=*=*=*=*=*=*=*=*=*=*=*=*=*=*=*=*=*=*=*=*=*=*=*=*=*=*=\n",
      "\n",
      " test log-loss for combination [n_estimators,max-depth,colsample_bytree,subsample] = [ 200 , 10 , 0.3 , 0.5 ] is  0.3910315176139629\n",
      "*=*=*=*=*=*=*=*=*=*=*=*=*=*=*=*=*=*=*=*=*=*=*=*=*=*=*=*=*=*=*=*=*=*=*=*=*=*=*=*=*=*=*=*=*=*=*=*=*=*=\n",
      "\n",
      " test log-loss for combination [n_estimators,max-depth,colsample_bytree,subsample] = [ 200 , 10 , 0.3 , 1 ] is  0.3913907347480859\n",
      "*=*=*=*=*=*=*=*=*=*=*=*=*=*=*=*=*=*=*=*=*=*=*=*=*=*=*=*=*=*=*=*=*=*=*=*=*=*=*=*=*=*=*=*=*=*=*=*=*=*=\n",
      "\n",
      " test log-loss for combination [n_estimators,max-depth,colsample_bytree,subsample] = [ 200 , 10 , 0.5 , 0.1 ] is  0.3918130729999058\n",
      "*=*=*=*=*=*=*=*=*=*=*=*=*=*=*=*=*=*=*=*=*=*=*=*=*=*=*=*=*=*=*=*=*=*=*=*=*=*=*=*=*=*=*=*=*=*=*=*=*=*=\n",
      "\n",
      " test log-loss for combination [n_estimators,max-depth,colsample_bytree,subsample] = [ 200 , 10 , 0.5 , 0.3 ] is  0.3917858769641274\n",
      "*=*=*=*=*=*=*=*=*=*=*=*=*=*=*=*=*=*=*=*=*=*=*=*=*=*=*=*=*=*=*=*=*=*=*=*=*=*=*=*=*=*=*=*=*=*=*=*=*=*=\n",
      "\n",
      " test log-loss for combination [n_estimators,max-depth,colsample_bytree,subsample] = [ 200 , 10 , 0.5 , 0.5 ] is  0.3909007632613832\n",
      "*=*=*=*=*=*=*=*=*=*=*=*=*=*=*=*=*=*=*=*=*=*=*=*=*=*=*=*=*=*=*=*=*=*=*=*=*=*=*=*=*=*=*=*=*=*=*=*=*=*=\n",
      "\n",
      " test log-loss for combination [n_estimators,max-depth,colsample_bytree,subsample] = [ 200 , 10 , 0.5 , 1 ] is  0.3923349836270193\n",
      "*=*=*=*=*=*=*=*=*=*=*=*=*=*=*=*=*=*=*=*=*=*=*=*=*=*=*=*=*=*=*=*=*=*=*=*=*=*=*=*=*=*=*=*=*=*=*=*=*=*=\n",
      "\n",
      " test log-loss for combination [n_estimators,max-depth,colsample_bytree,subsample] = [ 200 , 10 , 1 , 0.1 ] is  0.3920278782328914\n",
      "*=*=*=*=*=*=*=*=*=*=*=*=*=*=*=*=*=*=*=*=*=*=*=*=*=*=*=*=*=*=*=*=*=*=*=*=*=*=*=*=*=*=*=*=*=*=*=*=*=*=\n",
      "\n",
      " test log-loss for combination [n_estimators,max-depth,colsample_bytree,subsample] = [ 200 , 10 , 1 , 0.3 ] is  0.391523329192103\n",
      "*=*=*=*=*=*=*=*=*=*=*=*=*=*=*=*=*=*=*=*=*=*=*=*=*=*=*=*=*=*=*=*=*=*=*=*=*=*=*=*=*=*=*=*=*=*=*=*=*=*=\n",
      "\n",
      " test log-loss for combination [n_estimators,max-depth,colsample_bytree,subsample] = [ 200 , 10 , 1 , 0.5 ] is  0.39176981744040745\n",
      "*=*=*=*=*=*=*=*=*=*=*=*=*=*=*=*=*=*=*=*=*=*=*=*=*=*=*=*=*=*=*=*=*=*=*=*=*=*=*=*=*=*=*=*=*=*=*=*=*=*=\n",
      "\n",
      " test log-loss for combination [n_estimators,max-depth,colsample_bytree,subsample] = [ 200 , 10 , 1 , 1 ] is  0.39711929158358955\n",
      "*=*=*=*=*=*=*=*=*=*=*=*=*=*=*=*=*=*=*=*=*=*=*=*=*=*=*=*=*=*=*=*=*=*=*=*=*=*=*=*=*=*=*=*=*=*=*=*=*=*=\n"
     ]
    }
   ],
   "source": [
    "from sklearn.metrics import log_loss\n",
    "from xgboost import XGBClassifier as xgb\n",
    "import numpy as np\n",
    "import warnings\n",
    "warnings.filterwarnings(\"ignore\")\n",
    "\n",
    "#first define the parameters to train\n",
    "n_estimators = [50,100,200]\n",
    "max_depth =[3,5,10]\n",
    "colsample_bytree=[0.1,0.3,0.5,1]\n",
    "subsample=[0.1,0.3,0.5,1]\n",
    "\n",
    "#we will set the batch_size to 0.5 million data points\n",
    "batch_size = 500000\n",
    "\n",
    "log_error=[]\n",
    "param_combination=[]\n",
    "for n_est in n_estimators:\n",
    "    for depth in max_depth:\n",
    "        for col_samp in colsample_bytree:\n",
    "            for sub_samp in subsample:\n",
    "                model = xgb(objective='binary:logistic',verbosity=0,use_label_encoder=False,\n",
    "                            n_estimators=n_est,max_depth=depth, learning_rate=0.01,colsample_bytree=col_samp,subsample=sub_samp)\n",
    "                for start in range(0, X_train_pCTR.shape[0], batch_size):\n",
    "                    if start==0:\n",
    "                        model.fit(X_train_pCTR[start:start+batch_size], y_train[start:start+batch_size])\n",
    "                    else:\n",
    "                        model.fit(X_train_pCTR[start:start+batch_size], y_train[start:start+batch_size].values,xgb_model=model.get_booster())   \n",
    "                y_test_pred=model.predict_proba(X_test_pCTR)\n",
    "                log_loss_val = log_loss(y_test, y_test_pred)\n",
    "                log_error.append(log_loss_val)\n",
    "                param_combination.append([n_est,depth,col_samp,sub_samp])\n",
    "                print(\"\\n test log-loss for combination [n_estimators,max-depth,colsample_bytree,subsample] = [\"\n",
    "                        ,n_est,',',depth,',',col_samp,',',sub_samp,'] is ', log_loss_val)\n",
    "                print(\"*=\"*50)"
   ]
  },
  {
   "cell_type": "markdown",
   "metadata": {},
   "source": [
    "Find the best combination by choosing the parameters which give the least validation log-loss"
   ]
  },
  {
   "cell_type": "code",
   "execution_count": 28,
   "metadata": {},
   "outputs": [
    {
     "name": "stdout",
     "output_type": "stream",
     "text": [
      "We got a least log-loss of  0.3906587749887899  for the combination of [n_estimators,max-depth,colsample_bytree,subsample] = [200, 10, 0.1, 0.5]\n"
     ]
    }
   ],
   "source": [
    "best_index=np.argmin(log_error)\n",
    "best_params = param_combination[best_index]\n",
    "\n",
    "print(\"We got a least log-loss of \",log_error[best_index],\n",
    "      ' for the combination of [n_estimators,max-depth,colsample_bytree,subsample] =',best_params)"
   ]
  },
  {
   "cell_type": "markdown",
   "metadata": {},
   "source": [
    "From the above logs we can see that we have gotten the best test log-loss of 0.390658 at max-depth = 10, n_estimators = 200, col_saamplebytree =0.1 and subsample=0.5. So, we will train the model with these best parameters to get the best model and the check the confusion matrix."
   ]
  },
  {
   "cell_type": "code",
   "execution_count": 15,
   "metadata": {},
   "outputs": [
    {
     "name": "stdout",
     "output_type": "stream",
     "text": [
      "The test log loss for best model is: 0.3906587749887899\n"
     ]
    }
   ],
   "source": [
    "from sklearn.metrics import log_loss\n",
    "from xgboost import XGBClassifier as xgb\n",
    "import numpy as np\n",
    "import warnings\n",
    "warnings.filterwarnings(\"ignore\")\n",
    "\n",
    "model = xgb(objective='binary:logistic',verbosity=0,use_label_encoder=False,\n",
    "                                n_estimators=200,max_depth=10, learning_rate=0.01,colsample_bytree=0.1,subsample=0.5)\n",
    "batch_size = 500000\n",
    "for start in range(0, X_train_pCTR.shape[0], batch_size):\n",
    "    if start==0:\n",
    "        model.fit(X_train_pCTR[start:start+batch_size], y_train[start:start+batch_size])\n",
    "    else:\n",
    "        model.fit(X_train_pCTR[start:start+batch_size], y_train[start:start+batch_size].values,xgb_model=model.get_booster())   \n",
    "y_test_pred=model.predict_proba(X_test_pCTR)\n",
    "log_loss_val = log_loss(y_test, y_test_pred)\n",
    "print(\"The test log loss for best model is:\",log_loss_val)"
   ]
  },
  {
   "cell_type": "code",
   "execution_count": 16,
   "metadata": {},
   "outputs": [],
   "source": [
    "import pickle\n",
    "\n",
    "#save the best model for later use\n",
    "with open('XGB_model.pkl', 'wb') as f:\n",
    "    pickle.dump(model, f) "
   ]
  },
  {
   "cell_type": "code",
   "execution_count": 30,
   "metadata": {},
   "outputs": [
    {
     "data": {
      "image/png": "[encoded data removed]",
      "text/plain": [
       "<Figure size 1440x288 with 6 Axes>"
      ]
     },
     "metadata": {
      "needs_background": "light"
     },
     "output_type": "display_data"
    }
   ],
   "source": [
    "#plot the confusion matrix on the test data\n",
    "\n",
    "plot_confusion_matrix(y_test,model.predict(X_test_pCTR))"
   ]
  },
  {
   "cell_type": "markdown",
   "metadata": {},
   "source": [
    "<b> Observations </b>\n",
    "* Here we are able to get a better log-loss with GBDT features and with XG-Boost and we got a best log-loss of <b>0.39065</b> till now which is better than the previous log-loss with tuning only 2 features where we have got <b>0.393065</b>.\n",
    "* Here we are able to reduce the log-loss by 0.003 by tuning just 4 parameters which is a significant improvement, this change is also reflected in the results of the confusion matrix where we are able to increase the precision of the class 1 to <b>0.607</b> which is an improvement from <b>0.587</b> and there is not that significant improvement in the recall value of class 1 which has only improved from 0.072 to 0.075 this is mainly due to the highly imbalanced nature of the problem.\n"
   ]
  },
  {
   "cell_type": "markdown",
   "metadata": {},
   "source": [
    "<b>Let us check the feature importance as to find out which feature has contributed the most</b>"
   ]
  },
  {
   "cell_type": "code",
   "execution_count": 35,
   "metadata": {},
   "outputs": [
    {
     "data": {
      "image/png": "[encoded data removed]",
      "text/plain": [
       "<Figure size 720x1800 with 1 Axes>"
      ]
     },
     "metadata": {
      "needs_background": "light"
     },
     "output_type": "display_data"
    }
   ],
   "source": [
    "import numpy as np\n",
    "\n",
    "features = X_train_pCTR.columns\n",
    "importances = model.feature_importances_\n",
    "indices = np.argsort(importances)[-100:]\n",
    "plt.figure(figsize=(10,25))\n",
    "plt.title('Feature Importances')\n",
    "plt.barh(range(len(indices)), importances[indices], color='r', align='center')\n",
    "plt.yticks(range(len(indices)), [features[i] for i in indices])\n",
    "plt.xlabel('Relative Importance')\n",
    "plt.show()"
   ]
  },
  {
   "cell_type": "markdown",
   "metadata": {},
   "source": [
    "##  4. Data pipeline "
   ]
  },
  {
   "cell_type": "markdown",
   "metadata": {},
   "source": [
    "### 4.1 Some pre-requisites variables"
   ]
  },
  {
   "cell_type": "code",
   "execution_count": 19,
   "metadata": {},
   "outputs": [
    {
     "name": "stderr",
     "output_type": "stream",
     "text": [
      "100%|██████████| 24/24 [00:05<00:00,  4.19it/s]\n"
     ]
    }
   ],
   "source": [
    "from tqdm import tqdm\n",
    "\n",
    "#count the number of ads per device id\n",
    "data_group_1=X_train[['device_id','id']].groupby(['device_id']).count()\n",
    "\n",
    "#count the number of ads per device ip\n",
    "data_group_2=X_train[['device_ip','id']].groupby(['device_ip']).count()\n",
    "\n",
    "#count the number of users per unique hour of the day\n",
    "data_group_3=X_train[['hour_of_day','device_ip']].groupby(['hour_of_day']).count()\n",
    "\n",
    "#first encode all the features as CTR features\n",
    "#store all the names of the features in a list\n",
    "#Here we are not inclusing the device id and device ip because we already have engineered features device id count and device ip count with CTR values\n",
    "feature_names=['site_id','site_domain','site_category','app_id','app_category','app_domain',\\\n",
    "                'device_model','device_type','device_conn_type','device_id_counts','device_ip_counts',\\\n",
    "                'banner_pos','C1','C14','C15','C16','C17','C18','C19','C20','C21',\\\n",
    "                'hour_of_day','day_of_week','hourly_user_count']\n",
    "\n",
    "#Loop thorough each column of the original dataframe for encoding them\n",
    "vocab_list=[]\n",
    "mean_list=[]\n",
    "\n",
    "for name in tqdm(feature_names):\n",
    "    #first get the vocabulary dictionary and the mean CTR for use on unknown categories\n",
    "    vocab,mean=response_fit(X_train,name) # fit has to happen only on train data\n",
    "\n",
    "    #add the vocabulary and the means to the list\n",
    "    vocab_list.append(vocab)\n",
    "    mean_list.append(mean)\n"
   ]
  },
  {
   "cell_type": "code",
   "execution_count": 1,
   "metadata": {},
   "outputs": [],
   "source": [
    "import pickle\n",
    "\n",
    "#This is required for adding the feature \"device_id_counts\"\n",
    "with open('data_group_1.pkl','rb') as f:\n",
    "    data_group_1 = pickle.load(f)\n",
    "\n",
    "#This is required for adding the feature \"device_ip_counts\"\n",
    "with open('data_group_2.pkl','rb') as f:\n",
    "    data_group_2 = pickle.load(f)\n",
    "\n",
    "#This is required for adding the feature \"hourly_user_count\"\n",
    "with open('data_group_3.pkl','rb') as f:\n",
    "    data_group_3 = pickle.load(f)\n",
    "\n",
    "#This is a list of dictionaries containing the feature names for CTR encoding\n",
    "with open('vocab_list.pkl','rb') as f:\n",
    "    vocab_list = pickle.load(f)\n",
    "\n",
    "#This is the list of mean CTR values for encoding unknown feature values in the dataset\n",
    "with open('mean_list.pkl','rb') as f:\n",
    "    mean_list = pickle.load(f) "
   ]
  },
  {
   "cell_type": "code",
   "execution_count": 46,
   "metadata": {},
   "outputs": [],
   "source": [
    "#Save all the variables for later use\n",
    "data_group_1.to_pickle('data_group_1.pkl')\n",
    "data_group_2.to_pickle('data_group_2.pkl')\n",
    "data_group_3.to_pickle('data_group_3.pkl')\n",
    "\n",
    "with open('vocab_list.pkl', 'wb') as f:\n",
    "    pickle.dump(vocab_list, f) \n",
    "\n",
    "with open('mean_list.pkl', 'wb') as f:\n",
    "    pickle.dump(mean_list, f) \n"
   ]
  },
  {
   "cell_type": "markdown",
   "metadata": {},
   "source": [
    "### 4.2 Get the model for GBDT features and the best XGBoost model for prediction"
   ]
  },
  {
   "cell_type": "code",
   "execution_count": 25,
   "metadata": {},
   "outputs": [],
   "source": [
    "import pickle\n",
    "from sklearn.ensemble import GradientBoostingClassifier\n",
    "from xgboost import XGBClassifier as xgb\n",
    "import warnings\n",
    "warnings.filterwarnings(\"ignore\")\n",
    "\n",
    "#Here we are taking number of estimators as 100 and max depth as 5 as we have seen from the tuning of the GBDT in the above XGBoost model\n",
    "gradient_boosting = GradientBoostingClassifier(n_estimators=100, max_depth=5)\n",
    "\n",
    "#load the model from the disk\n",
    "with open('Model_for_GBDT_features.pkl','rb') as f:\n",
    "    gradient_boosting = pickle.load(f)\n",
    "    \n",
    "#initialize the model with best parameters\n",
    "#model = xgb(objective='binary:logistic',verbosity=0,use_label_encoder=False,\n",
    "                                #n_estimators=200,max_depth=10, learning_rate=0.01,colsample_bytree=0.1,subsample=0.5)\n",
    "\n",
    "#load the model from the disk\n",
    "with open('Best_XGB_model.pkl','rb') as f:\n",
    "    model = pickle.load(f)"
   ]
  },
  {
   "cell_type": "markdown",
   "metadata": {},
   "source": [
    "### 4.3 Data pipeline which takes raw features and predicts the output"
   ]
  },
  {
   "cell_type": "code",
   "execution_count": 20,
   "metadata": {},
   "outputs": [],
   "source": [
    "def pipeline(df_test):\n",
    "    \n",
    "    #convert the date time in to the required format and then pass it to the data pipeline\n",
    "    df_test['hour']=df_test.hour.apply(lambda val : datetime.strptime(str(val), '%y%m%d%H'))\n",
    "    \n",
    "    #prepare a submission dataframe\n",
    "    submission_df=pd.DataFrame()\n",
    "    submission_df['id']=df_test['id'].values\n",
    "    \n",
    "    #make a column with values with device id counts and add it to the dataframe\n",
    "    count_feature=[]\n",
    "    for index in df_test['device_id']:\n",
    "        try:\n",
    "            count_feature.append(data_group_1['id'][index])\n",
    "        except:\n",
    "            count_feature.append(1)\n",
    "    df_test['device_id_counts']=count_feature\n",
    "    \n",
    "    #print the status to the screen\n",
    "    print(\"Added device_id_counts feature to the dataframe..\")\n",
    "    \n",
    "    #make a column with values with device ip counts and add it to the dataframe\n",
    "    count_feature=[]\n",
    "    for index in df_test['device_ip']:\n",
    "        try:\n",
    "            count_feature.append(data_group_2['id'][index])\n",
    "        except:\n",
    "            count_feature.append(1)\n",
    "    df_test['device_ip_counts']=count_feature\n",
    "    \n",
    "    #print the status to the screen\n",
    "    print(\"Added device_ip_counts feature to the dataframe..\")\n",
    "    \n",
    "    #add hour_of_the_day as the new feature to our dataset\n",
    "    df_test['hour_of_day'] = df_test['hour'].apply(lambda x: x.hour)\n",
    "    \n",
    "    #print the status to the screen\n",
    "    print(\"Added hour_of_day feature to the dataframe..\")\n",
    "    \n",
    "    #add day_of_week as the new feature to our dataset\n",
    "    df_test['day_of_week'] = df_test['hour'].apply(lambda x: x.day_name())\n",
    "    \n",
    "    #print the status to the screen\n",
    "    print(\"Added day_of_week feature to the dataframe..\")\n",
    "    \n",
    "    #make a column with values with hourly user count and add it to the dataframe\n",
    "    count_feature=[]\n",
    "    for index in df_test['hour_of_day']:\n",
    "        try:\n",
    "            count_feature.append(data_group_3['device_ip'][index])\n",
    "        except:\n",
    "            count_feature.append(1)\n",
    "    df_test['hourly_user_count']=count_feature\n",
    "    \n",
    "    #print the status to the screen\n",
    "    print(\"Added hourly_user_count feature to the dataframe..\")\n",
    "    \n",
    "    #Data frame to store only CTR encoded values\n",
    "    submission_pCTR=pd.DataFrame()\n",
    "    \n",
    "    #first encode all the features as CTR features\n",
    "    #store all the names of the features in a list\n",
    "    #Here we are not inclusing the device id and device ip because we already have engineered features device id count and device ip count with CTR values\n",
    "    feature_names=['site_id','site_domain','site_category','app_id','app_category','app_domain',\\\n",
    "                    'device_model','device_type','device_conn_type','device_id_counts','device_ip_counts',\\\n",
    "                    'banner_pos','C1','C14','C15','C16','C17','C18','C19','C20','C21',\\\n",
    "                    'hour_of_day','day_of_week','hourly_user_count']\n",
    "\n",
    "    #Loop thorough each column of the dataframe for encoding them\n",
    "    count=0\n",
    "    for name in feature_names:\n",
    "        # we use the vocab to response code the train and test data\n",
    "        submission_pCTR[name] = response_transform(df_test[name],vocab_list[count],mean_list[count])\n",
    "        count+=1\n",
    "        \n",
    "    #print the transform status to the screen\n",
    "    print('\\n Encoded the data with the train CTR values..')  \n",
    "    \n",
    "    #Now add the GBDT features to the given test dataframe\n",
    "    df_test_GBDT_features = gradient_boosting.apply(submission_pCTR).astype('int32')\n",
    "    \n",
    "    #Here we need to reshape our array to a 2D array and then convert to a data frame to be used for modelling\n",
    "    df_test_GBDT_features=df_test_GBDT_features.reshape(df_test.shape[0],100)\n",
    "    \n",
    "    #Add the GBDT features to the existing dataframe\n",
    "    for i in range(100):\n",
    "        submission_pCTR['GBDT_'+str(i)]=df_test_GBDT_features[:,i]\n",
    "    \n",
    "    #print the status to the screen\n",
    "    print(\"\\n Added the GBDT features to the test dataframe..\")\n",
    "    \n",
    "    #Now predict the y-values with the best model\n",
    "    df_y_pred=model.predict(submission_pCTR)\n",
    "    df_y_prob=model.predict_proba(submission_pCTR)\n",
    "    \n",
    "    #Now add the y-labels to all the  dataframes that we have created\n",
    "    submission_df['click']=df_y_prob[:,1]            #this contains only id and y-label probabilities\n",
    "    df_test['click']=df_y_pred                  #this contains original dataframe passed and y-label\n",
    "    submission_pCTR['click']=df_y_pred          #this contains the dataframe with new features and y-label\n",
    "    \n",
    "    #print the status to the screen\n",
    "    print(\"\\n Predicted the y_labels using the best model..\")\n",
    "    \n",
    "    #finally return the submission dataframe\n",
    "    return submission_df,submission_pCTR,df_test"
   ]
  },
  {
   "cell_type": "markdown",
   "metadata": {},
   "source": [
    "we will read the given test csv file and then create a submission.csv file with the help of above defined function"
   ]
  },
  {
   "cell_type": "code",
   "execution_count": 26,
   "metadata": {},
   "outputs": [
    {
     "data": {
      "text/html": [
       "<div>\n",
       "<style scoped>\n",
       "    .dataframe tbody tr th:only-of-type {\n",
       "        vertical-align: middle;\n",
       "    }\n",
       "\n",
       "    .dataframe tbody tr th {\n",
       "        vertical-align: top;\n",
       "    }\n",
       "\n",
       "    .dataframe thead th {\n",
       "        text-align: right;\n",
       "    }\n",
       "</style>\n",
       "<table border=\"1\" class=\"dataframe\">\n",
       "  <thead>\n",
       "    <tr style=\"text-align: right;\">\n",
       "      <th></th>\n",
       "      <th>id</th>\n",
       "      <th>hour</th>\n",
       "      <th>C1</th>\n",
       "      <th>banner_pos</th>\n",
       "      <th>site_id</th>\n",
       "      <th>site_domain</th>\n",
       "      <th>site_category</th>\n",
       "      <th>app_id</th>\n",
       "      <th>app_domain</th>\n",
       "      <th>app_category</th>\n",
       "      <th>...</th>\n",
       "      <th>device_type</th>\n",
       "      <th>device_conn_type</th>\n",
       "      <th>C14</th>\n",
       "      <th>C15</th>\n",
       "      <th>C16</th>\n",
       "      <th>C17</th>\n",
       "      <th>C18</th>\n",
       "      <th>C19</th>\n",
       "      <th>C20</th>\n",
       "      <th>C21</th>\n",
       "    </tr>\n",
       "  </thead>\n",
       "  <tbody>\n",
       "    <tr>\n",
       "      <th>0</th>\n",
       "      <td>10000174058809263569</td>\n",
       "      <td>14103100</td>\n",
       "      <td>1005</td>\n",
       "      <td>0</td>\n",
       "      <td>235ba823</td>\n",
       "      <td>f6ebf28e</td>\n",
       "      <td>f028772b</td>\n",
       "      <td>ecad2386</td>\n",
       "      <td>7801e8d9</td>\n",
       "      <td>07d7df22</td>\n",
       "      <td>...</td>\n",
       "      <td>1</td>\n",
       "      <td>0</td>\n",
       "      <td>8330</td>\n",
       "      <td>320</td>\n",
       "      <td>50</td>\n",
       "      <td>761</td>\n",
       "      <td>3</td>\n",
       "      <td>175</td>\n",
       "      <td>100075</td>\n",
       "      <td>23</td>\n",
       "    </tr>\n",
       "    <tr>\n",
       "      <th>1</th>\n",
       "      <td>10000182526920855428</td>\n",
       "      <td>14103100</td>\n",
       "      <td>1005</td>\n",
       "      <td>0</td>\n",
       "      <td>1fbe01fe</td>\n",
       "      <td>f3845767</td>\n",
       "      <td>28905ebd</td>\n",
       "      <td>ecad2386</td>\n",
       "      <td>7801e8d9</td>\n",
       "      <td>07d7df22</td>\n",
       "      <td>...</td>\n",
       "      <td>1</td>\n",
       "      <td>0</td>\n",
       "      <td>22676</td>\n",
       "      <td>320</td>\n",
       "      <td>50</td>\n",
       "      <td>2616</td>\n",
       "      <td>0</td>\n",
       "      <td>35</td>\n",
       "      <td>100083</td>\n",
       "      <td>51</td>\n",
       "    </tr>\n",
       "    <tr>\n",
       "      <th>2</th>\n",
       "      <td>10000554139829213984</td>\n",
       "      <td>14103100</td>\n",
       "      <td>1005</td>\n",
       "      <td>0</td>\n",
       "      <td>1fbe01fe</td>\n",
       "      <td>f3845767</td>\n",
       "      <td>28905ebd</td>\n",
       "      <td>ecad2386</td>\n",
       "      <td>7801e8d9</td>\n",
       "      <td>07d7df22</td>\n",
       "      <td>...</td>\n",
       "      <td>1</td>\n",
       "      <td>0</td>\n",
       "      <td>22676</td>\n",
       "      <td>320</td>\n",
       "      <td>50</td>\n",
       "      <td>2616</td>\n",
       "      <td>0</td>\n",
       "      <td>35</td>\n",
       "      <td>100083</td>\n",
       "      <td>51</td>\n",
       "    </tr>\n",
       "    <tr>\n",
       "      <th>3</th>\n",
       "      <td>10001094637809798845</td>\n",
       "      <td>14103100</td>\n",
       "      <td>1005</td>\n",
       "      <td>0</td>\n",
       "      <td>85f751fd</td>\n",
       "      <td>c4e18dd6</td>\n",
       "      <td>50e219e0</td>\n",
       "      <td>51cedd4e</td>\n",
       "      <td>aefc06bd</td>\n",
       "      <td>0f2161f8</td>\n",
       "      <td>...</td>\n",
       "      <td>1</td>\n",
       "      <td>0</td>\n",
       "      <td>18648</td>\n",
       "      <td>320</td>\n",
       "      <td>50</td>\n",
       "      <td>1092</td>\n",
       "      <td>3</td>\n",
       "      <td>809</td>\n",
       "      <td>100156</td>\n",
       "      <td>61</td>\n",
       "    </tr>\n",
       "    <tr>\n",
       "      <th>4</th>\n",
       "      <td>10001377041558670745</td>\n",
       "      <td>14103100</td>\n",
       "      <td>1005</td>\n",
       "      <td>0</td>\n",
       "      <td>85f751fd</td>\n",
       "      <td>c4e18dd6</td>\n",
       "      <td>50e219e0</td>\n",
       "      <td>9c13b419</td>\n",
       "      <td>2347f47a</td>\n",
       "      <td>f95efa07</td>\n",
       "      <td>...</td>\n",
       "      <td>1</td>\n",
       "      <td>0</td>\n",
       "      <td>23160</td>\n",
       "      <td>320</td>\n",
       "      <td>50</td>\n",
       "      <td>2667</td>\n",
       "      <td>0</td>\n",
       "      <td>47</td>\n",
       "      <td>-1</td>\n",
       "      <td>221</td>\n",
       "    </tr>\n",
       "  </tbody>\n",
       "</table>\n",
       "<p>5 rows × 23 columns</p>\n",
       "</div>"
      ],
      "text/plain": [
       "                     id      hour    C1  banner_pos   site_id site_domain  \\\n",
       "0  10000174058809263569  14103100  1005           0  235ba823    f6ebf28e   \n",
       "1  10000182526920855428  14103100  1005           0  1fbe01fe    f3845767   \n",
       "2  10000554139829213984  14103100  1005           0  1fbe01fe    f3845767   \n",
       "3  10001094637809798845  14103100  1005           0  85f751fd    c4e18dd6   \n",
       "4  10001377041558670745  14103100  1005           0  85f751fd    c4e18dd6   \n",
       "\n",
       "  site_category    app_id app_domain app_category  ... device_type  \\\n",
       "0      f028772b  ecad2386   7801e8d9     07d7df22  ...           1   \n",
       "1      28905ebd  ecad2386   7801e8d9     07d7df22  ...           1   \n",
       "2      28905ebd  ecad2386   7801e8d9     07d7df22  ...           1   \n",
       "3      50e219e0  51cedd4e   aefc06bd     0f2161f8  ...           1   \n",
       "4      50e219e0  9c13b419   2347f47a     f95efa07  ...           1   \n",
       "\n",
       "  device_conn_type    C14  C15  C16   C17  C18  C19     C20  C21  \n",
       "0                0   8330  320   50   761    3  175  100075   23  \n",
       "1                0  22676  320   50  2616    0   35  100083   51  \n",
       "2                0  22676  320   50  2616    0   35  100083   51  \n",
       "3                0  18648  320   50  1092    3  809  100156   61  \n",
       "4                0  23160  320   50  2667    0   47      -1  221  \n",
       "\n",
       "[5 rows x 23 columns]"
      ]
     },
     "execution_count": 26,
     "metadata": {},
     "output_type": "execute_result"
    }
   ],
   "source": [
    "#load the given kaggle test dataset which is without the class labels\n",
    "import pandas as pd \n",
    "\n",
    "given_df=pd.read_csv('test.csv',dtype={'id':object})\n",
    "given_df.head()"
   ]
  },
  {
   "cell_type": "code",
   "execution_count": 27,
   "metadata": {},
   "outputs": [
    {
     "data": {
      "text/plain": [
       "(4577464, 23)"
      ]
     },
     "execution_count": 27,
     "metadata": {},
     "output_type": "execute_result"
    }
   ],
   "source": [
    "given_df.shape"
   ]
  },
  {
   "cell_type": "markdown",
   "metadata": {},
   "source": [
    "Get the prediction time for 4.7 million data points"
   ]
  },
  {
   "cell_type": "code",
   "execution_count": 28,
   "metadata": {},
   "outputs": [
    {
     "name": "stdout",
     "output_type": "stream",
     "text": [
      "Added device_id_counts feature to the dataframe..\n",
      "Added device_ip_counts feature to the dataframe..\n",
      "Added hour_of_day feature to the dataframe..\n",
      "Added day_of_week feature to the dataframe..\n",
      "Added hourly_user_count feature to the dataframe..\n",
      "\n",
      " Encoded the data with the train CTR values..\n",
      "\n",
      " Added the GBDT features to the test dataframe..\n",
      "\n",
      " Predicted the y_labels using the best model..\n",
      "\n",
      " Time taken for  4577464  datapoints is  215.1817684173584  seconds\n"
     ]
    }
   ],
   "source": [
    "#Get the prediction time for 4.7 million datapoints\n",
    "import time\n",
    "from  datetime import datetime\n",
    "\n",
    "#Get the predictions on the given test data\n",
    "start_time=time.time()\n",
    "submission_df,submission_pCTR,df_test=pipeline(given_df)\n",
    "\n",
    "#print the time taken to get the predictions on the given test dataset\n",
    "print(\"\\n Time taken for \",given_df.shape[0],\" datapoints is \",time.time()-start_time,\" seconds\")\n",
    "\n",
    "#save the dataframes to the disk\n",
    "submission_df.to_csv('submission_kaggle.csv',index=False)\n",
    "submission_pCTR.to_csv('modified_kaggle_df_with_predictions.csv',index=False)\n",
    "df_test.to_csv('original_kaggle_df_with_predictions.csv',index=False)"
   ]
  },
  {
   "cell_type": "markdown",
   "metadata": {},
   "source": [
    "Get the prediction time for 1 data point"
   ]
  },
  {
   "cell_type": "code",
   "execution_count": 28,
   "metadata": {},
   "outputs": [
    {
     "data": {
      "text/html": [
       "<div>\n",
       "<style scoped>\n",
       "    .dataframe tbody tr th:only-of-type {\n",
       "        vertical-align: middle;\n",
       "    }\n",
       "\n",
       "    .dataframe tbody tr th {\n",
       "        vertical-align: top;\n",
       "    }\n",
       "\n",
       "    .dataframe thead th {\n",
       "        text-align: right;\n",
       "    }\n",
       "</style>\n",
       "<table border=\"1\" class=\"dataframe\">\n",
       "  <thead>\n",
       "    <tr style=\"text-align: right;\">\n",
       "      <th></th>\n",
       "      <th>id</th>\n",
       "      <th>hour</th>\n",
       "      <th>C1</th>\n",
       "      <th>banner_pos</th>\n",
       "      <th>site_id</th>\n",
       "      <th>site_domain</th>\n",
       "      <th>site_category</th>\n",
       "      <th>app_id</th>\n",
       "      <th>app_domain</th>\n",
       "      <th>app_category</th>\n",
       "      <th>...</th>\n",
       "      <th>device_type</th>\n",
       "      <th>device_conn_type</th>\n",
       "      <th>C14</th>\n",
       "      <th>C15</th>\n",
       "      <th>C16</th>\n",
       "      <th>C17</th>\n",
       "      <th>C18</th>\n",
       "      <th>C19</th>\n",
       "      <th>C20</th>\n",
       "      <th>C21</th>\n",
       "    </tr>\n",
       "  </thead>\n",
       "  <tbody>\n",
       "    <tr>\n",
       "      <th>0</th>\n",
       "      <td>10000174058809263569</td>\n",
       "      <td>14103100</td>\n",
       "      <td>1005</td>\n",
       "      <td>0</td>\n",
       "      <td>235ba823</td>\n",
       "      <td>f6ebf28e</td>\n",
       "      <td>f028772b</td>\n",
       "      <td>ecad2386</td>\n",
       "      <td>7801e8d9</td>\n",
       "      <td>07d7df22</td>\n",
       "      <td>...</td>\n",
       "      <td>1</td>\n",
       "      <td>0</td>\n",
       "      <td>8330</td>\n",
       "      <td>320</td>\n",
       "      <td>50</td>\n",
       "      <td>761</td>\n",
       "      <td>3</td>\n",
       "      <td>175</td>\n",
       "      <td>100075</td>\n",
       "      <td>23</td>\n",
       "    </tr>\n",
       "    <tr>\n",
       "      <th>1</th>\n",
       "      <td>10000182526920855428</td>\n",
       "      <td>14103100</td>\n",
       "      <td>1005</td>\n",
       "      <td>0</td>\n",
       "      <td>1fbe01fe</td>\n",
       "      <td>f3845767</td>\n",
       "      <td>28905ebd</td>\n",
       "      <td>ecad2386</td>\n",
       "      <td>7801e8d9</td>\n",
       "      <td>07d7df22</td>\n",
       "      <td>...</td>\n",
       "      <td>1</td>\n",
       "      <td>0</td>\n",
       "      <td>22676</td>\n",
       "      <td>320</td>\n",
       "      <td>50</td>\n",
       "      <td>2616</td>\n",
       "      <td>0</td>\n",
       "      <td>35</td>\n",
       "      <td>100083</td>\n",
       "      <td>51</td>\n",
       "    </tr>\n",
       "    <tr>\n",
       "      <th>2</th>\n",
       "      <td>10000554139829213984</td>\n",
       "      <td>14103100</td>\n",
       "      <td>1005</td>\n",
       "      <td>0</td>\n",
       "      <td>1fbe01fe</td>\n",
       "      <td>f3845767</td>\n",
       "      <td>28905ebd</td>\n",
       "      <td>ecad2386</td>\n",
       "      <td>7801e8d9</td>\n",
       "      <td>07d7df22</td>\n",
       "      <td>...</td>\n",
       "      <td>1</td>\n",
       "      <td>0</td>\n",
       "      <td>22676</td>\n",
       "      <td>320</td>\n",
       "      <td>50</td>\n",
       "      <td>2616</td>\n",
       "      <td>0</td>\n",
       "      <td>35</td>\n",
       "      <td>100083</td>\n",
       "      <td>51</td>\n",
       "    </tr>\n",
       "    <tr>\n",
       "      <th>3</th>\n",
       "      <td>10001094637809798845</td>\n",
       "      <td>14103100</td>\n",
       "      <td>1005</td>\n",
       "      <td>0</td>\n",
       "      <td>85f751fd</td>\n",
       "      <td>c4e18dd6</td>\n",
       "      <td>50e219e0</td>\n",
       "      <td>51cedd4e</td>\n",
       "      <td>aefc06bd</td>\n",
       "      <td>0f2161f8</td>\n",
       "      <td>...</td>\n",
       "      <td>1</td>\n",
       "      <td>0</td>\n",
       "      <td>18648</td>\n",
       "      <td>320</td>\n",
       "      <td>50</td>\n",
       "      <td>1092</td>\n",
       "      <td>3</td>\n",
       "      <td>809</td>\n",
       "      <td>100156</td>\n",
       "      <td>61</td>\n",
       "    </tr>\n",
       "    <tr>\n",
       "      <th>4</th>\n",
       "      <td>10001377041558670745</td>\n",
       "      <td>14103100</td>\n",
       "      <td>1005</td>\n",
       "      <td>0</td>\n",
       "      <td>85f751fd</td>\n",
       "      <td>c4e18dd6</td>\n",
       "      <td>50e219e0</td>\n",
       "      <td>9c13b419</td>\n",
       "      <td>2347f47a</td>\n",
       "      <td>f95efa07</td>\n",
       "      <td>...</td>\n",
       "      <td>1</td>\n",
       "      <td>0</td>\n",
       "      <td>23160</td>\n",
       "      <td>320</td>\n",
       "      <td>50</td>\n",
       "      <td>2667</td>\n",
       "      <td>0</td>\n",
       "      <td>47</td>\n",
       "      <td>-1</td>\n",
       "      <td>221</td>\n",
       "    </tr>\n",
       "  </tbody>\n",
       "</table>\n",
       "<p>5 rows × 23 columns</p>\n",
       "</div>"
      ],
      "text/plain": [
       "                     id      hour    C1  banner_pos   site_id site_domain  \\\n",
       "0  10000174058809263569  14103100  1005           0  235ba823    f6ebf28e   \n",
       "1  10000182526920855428  14103100  1005           0  1fbe01fe    f3845767   \n",
       "2  10000554139829213984  14103100  1005           0  1fbe01fe    f3845767   \n",
       "3  10001094637809798845  14103100  1005           0  85f751fd    c4e18dd6   \n",
       "4  10001377041558670745  14103100  1005           0  85f751fd    c4e18dd6   \n",
       "\n",
       "  site_category    app_id app_domain app_category  ... device_type  \\\n",
       "0      f028772b  ecad2386   7801e8d9     07d7df22  ...           1   \n",
       "1      28905ebd  ecad2386   7801e8d9     07d7df22  ...           1   \n",
       "2      28905ebd  ecad2386   7801e8d9     07d7df22  ...           1   \n",
       "3      50e219e0  51cedd4e   aefc06bd     0f2161f8  ...           1   \n",
       "4      50e219e0  9c13b419   2347f47a     f95efa07  ...           1   \n",
       "\n",
       "  device_conn_type    C14  C15  C16   C17  C18  C19     C20  C21  \n",
       "0                0   8330  320   50   761    3  175  100075   23  \n",
       "1                0  22676  320   50  2616    0   35  100083   51  \n",
       "2                0  22676  320   50  2616    0   35  100083   51  \n",
       "3                0  18648  320   50  1092    3  809  100156   61  \n",
       "4                0  23160  320   50  2667    0   47      -1  221  \n",
       "\n",
       "[5 rows x 23 columns]"
      ]
     },
     "execution_count": 28,
     "metadata": {},
     "output_type": "execute_result"
    }
   ],
   "source": [
    "#load the given kaggle test dataset which is without the class labels\n",
    "given_df=pd.read_csv('test.csv',nrows=10)\n",
    "given_df.head()"
   ]
  },
  {
   "cell_type": "code",
   "execution_count": 29,
   "metadata": {},
   "outputs": [
    {
     "name": "stdout",
     "output_type": "stream",
     "text": [
      "Added device_id_counts feature to the dataframe..\n",
      "Added device_ip_counts feature to the dataframe..\n",
      "Added hour_of_day feature to the dataframe..\n",
      "Added day_of_week feature to the dataframe..\n",
      "Added hourly_user_count feature to the dataframe..\n",
      "\n",
      " Encoded the data with the train CTR values..\n",
      "\n",
      " Added the GBDT features to the test dataframe..\n",
      "\n",
      " Predicted the y_labels using the best model..\n",
      "\n",
      " Time taken for  1  datapoints is  0.08300948143005371  seconds\n"
     ]
    }
   ],
   "source": [
    "import time\n",
    "#Get the predictions on the given test data\n",
    "start_time=time.time()\n",
    "single_df,single_pCTR,single_test=pipeline(given_df[1:2])\n",
    "\n",
    "#print the time taken to get the predictions on the given test dataset\n",
    "print(\"\\n Time taken for \",given_df[0:1].shape[0],\" datapoints is \",time.time()-start_time,\" seconds\")"
   ]
  },
  {
   "cell_type": "markdown",
   "metadata": {},
   "source": [
    "##  5. Conclusions"
   ]
  },
  {
   "cell_type": "markdown",
   "metadata": {},
   "source": [
    "* Here looking at the feature importances , we can see that GBDT features definetely played a very important role in classification of the data points and along with them there are some of our engineered features like day of the week and device id counts also played a signinficant role along with many of the anonymized categorical features such as C17 etc.\n",
    "* We can see that apart from GBDT features , app id and site domain seems to have contributed most among the originally given features.\n",
    "* So we can conclude that by engineering 7 different types of new features , we are able to get one of the least log-losses 0.39065 on the test data even though we are not able to get significant improvement in the confusion matrix values. <br> \n",
    "-------------x----------------x------------------x-----------------x-----------------------x----------------------x-----------------------x--------------------x----------------<br>\n",
    "* Here we have got a test log-loss of 0.39065 which is a very good loss which is equivalent to score of the 160 to 170th position in the public leaderboard of the kaggle.\n",
    "* The actual dataset given by the kaggle is of 50 million datapoints but we have taken a 5 million data points and trained our model due to the resource constraints and the test data given the kaggle itself is close to 5 million data points , so we cannot predict on this dataset using the current model because there will be a lot of unseen data points for which will not be able to predict correctly."
   ]
  },
  {
   "cell_type": "markdown",
   "metadata": {},
   "source": [
    "## 6. Procedure and observations"
   ]
  },
  {
   "cell_type": "markdown",
   "metadata": {},
   "source": [
    "### 6.1 Procedure"
   ]
  },
  {
   "cell_type": "markdown",
   "metadata": {},
   "source": [
    "\n",
    "<p> <b>1.</b> We have picked 5 million data points in a uniform random fashion from the huge dataset of 50 million data points that is given.<br><br>\n",
    "<b>2.</b> We have analyzed each feature wrt the given class label by computing the per category CTR of the given features as all are categorical features.<br><br>\n",
    "<b>3.</b> Based on the analysis we have engineered additional features which are very useful in prediction, they are described as follows:<br>\n",
    " <b>3.1 device_id_counts </b> - We have seen that counts of the impressions per device id shows a nice variation of per category CTR so we have added that as a feature.<br>\n",
    "<b>3.2 device_ip_counts </b> - We have seen that counts of the impressions per device ip shows a nice variation of per category CTR so we have added that as a feature.<br>\n",
    " <b>3.3 hour_of_the_day </b> - We have seen that CTR shows a nice trend as the hour of the day changes throughout the day so we have added that as a feature.<br>\n",
    " <b>3.4 day_of_the_week </b> - We have seen that CTR changes wrt the day of the week during the EDA so we have added that as a feature.<br>\n",
    " <b>3.5 hourly_user_count </b> - We have seen that number of users are increasing depending on the hour of the day and peak at the noon and when we compute the CTR per count of the users per hour we got a nice trend ,so we have added that as a feature.<br>\n",
    " <b>3.6 GBDT features </b> - We have trained a GBDT on the train data encoded with the help of CTR values itself and taken the leaf node number where the data point falls in to while prediction and taken that as the feature , as we have 100 trees as base learners , so we will have 100 features for each data point <br><br>\n",
    "<b>4. </b> As all the features are categorical in nature ,we label encoded them , but as we already have CTR per category with us , it would act as a nice proxy for label encoding and we get only 1 column of numerical data for each feature, so we have directly taken the CTR values which we have computed along with the GBDT features for prediction by the models.<br><br>\n",
    "<b>5.</b> Here we have tried various models without the GBDT features and then with GBDT features so that we can see the progressive improvement in the log-loss which we use as the scoring function for this problem. The summary about all the models is given below.\n",
    "<br>\n",
    "</p> \n"
   ]
  },
  {
   "cell_type": "markdown",
   "metadata": {},
   "source": [
    "### 6.2 Summary of modelling"
   ]
  },
  {
   "cell_type": "code",
   "execution_count": 4,
   "metadata": {},
   "outputs": [
    {
     "name": "stdout",
     "output_type": "stream",
     "text": [
      "+----------------------------------------------------------------------------------------------------------------------------------------+\n",
      "|                                                           Model Comparision                                                            |\n",
      "+----------------------------------------------------------+------------------------------------------------------------------+----------+\n",
      "|                          Model                           |                             Features                             | log loss |\n",
      "+----------------------------------------------------------+------------------------------------------------------------------+----------+\n",
      "|                       Random model                       |            original features + 5 engineered features             | 0.88575  |\n",
      "| -------------------------------------------------------- | ---------------------------------------------------------------  | -------- |\n",
      "|     Logistic regression with hyper-parameter tuning      |            original features + 5 engineered features             | 0.40037  |\n",
      "|           XG_Boost with hyper-parameter tuning           |            original features + 5 engineered features             | 0.39457  |\n",
      "|          Field Oriented Factorization Machines           |            original features + 5 engineered features             | 0.40614  |\n",
      "|                with hyper-parameter tuning               |                                                                  |          |\n",
      "| -------------------------------------------------------- | ---------------------------------------------------------------- | -------- |\n",
      "|     Logistic regression with hyper-parameter tuning      |    original features + 5 engineered features + GBDT features     | 0.39660  |\n",
      "|   XG_Boost with hyper-parameter tuning of 2 parameters   |    original features + 5 engineered features + GBDT features     | 0.39366  |\n",
      "|   XG_Boost with hyper-parameter tuning of 4 parameters   |    original features + 5 engineered features + GBDT features     | 0.39065  |\n",
      "+----------------------------------------------------------+------------------------------------------------------------------+----------+\n"
     ]
    }
   ],
   "source": [
    "from prettytable import PrettyTable\n",
    "ptable = PrettyTable()\n",
    "ptable.title = \" Model Comparision \"\n",
    "ptable.field_names = [\"Model\",'Features','log loss']\n",
    "ptable.add_row([\"Random model\",\"original features + 5 engineered features\",\"0.88575\"])\n",
    "ptable.add_row([\"--------------------------------------------------------\",\"---------------------------------------------------------------\",\"--------\"])\n",
    "ptable.add_row([\"Logistic regression with hyper-parameter tuning \",\"original features + 5 engineered features\",\"0.40037\"])\n",
    "ptable.add_row([\"XG_Boost with hyper-parameter tuning\",\"original features + 5 engineered features\",\"0.39457\"])\n",
    "ptable.add_row([\"Field Oriented Factorization Machines \\n with hyper-parameter tuning\",\"original features + 5 engineered features\",\"0.40614\"])\n",
    "ptable.add_row([\"--------------------------------------------------------\",\"----------------------------------------------------------------\",\"--------\"])\n",
    "ptable.add_row([\"Logistic regression with hyper-parameter tuning\",\"original features + 5 engineered features + GBDT features\",\"0.39660\"])\n",
    "ptable.add_row([\"XG_Boost with hyper-parameter tuning of 2 parameters\",\"original features + 5 engineered features + GBDT features\",\"0.39366\"])\n",
    "ptable.add_row([\"XG_Boost with hyper-parameter tuning of 4 parameters\",\"original features + 5 engineered features + GBDT features\",\"0.39065\"])\n",
    "print(ptable)"
   ]
  },
  {
   "cell_type": "markdown",
   "metadata": {},
   "source": [
    "### 6.3 Final observations"
   ]
  },
  {
   "cell_type": "markdown",
   "metadata": {},
   "source": [
    "* The final log-loss could be further improved with the help of more complex ensembles but the increment is very marginal and the winner solution has a log-loss of close to 0.38 which is not a very further from our solution but the precision and recall values will have not more than some marginal improvement which is not very practical for real world solution.\n",
    "* The models used in this case study are chosen keeping in mind the low latency requirment of the industry, so we have measured the time taken for the final prediction with the tuned GBDT model on the new data point which is 0.083 seconds ~  83 milli seconds which is very practical in the fast paced real world to determine whether the given ad will be clicked or not."
   ]
  }
 ],
 "metadata": {
  "interpreter": {
   "hash": "b3ba2566441a7c06988d0923437866b63cedc61552a5af99d1f4fb67d367b25f"
  },
  "kernelspec": {
   "display_name": "Python 3 (ipykernel)",
   "language": "python",
   "name": "python3"
  },
  "language_info": {
   "codemirror_mode": {
    "name": "ipython",
    "version": 3
   },
   "file_extension": ".py",
   "mimetype": "text/x-python",
   "name": "python",
   "nbconvert_exporter": "python",
   "pygments_lexer": "ipython3",
   "version": "3.8.8"
  }
 },
 "nbformat": 4,
 "nbformat_minor": 2
}
